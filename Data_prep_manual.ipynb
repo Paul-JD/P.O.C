{
 "cells": [
  {
   "cell_type": "code",
   "execution_count": 20,
   "id": "initial_id",
   "metadata": {
    "collapsed": true,
    "ExecuteTime": {
     "end_time": "2023-08-29T11:58:58.807583Z",
     "start_time": "2023-08-29T11:58:58.786803600Z"
    }
   },
   "outputs": [],
   "source": [
    "import gzip\n",
    "import opener\n",
    "import pandas as pd\n",
    "import io\n",
    "import requests\n",
    "from sklearn import preprocessing\n",
    "from sklearn.model_selection import train_test_split\n",
    "from sklearn.ensemble import RandomForestClassifier\n",
    "import numpy as np\n",
    "from collections import Counter"
   ]
  },
  {
   "cell_type": "code",
   "execution_count": 3,
   "outputs": [],
   "source": [
    "url = \"https://files.data.gouv.fr/geo-dvf/latest/csv/2018/full.csv.gz\"\n",
    "req = requests.get(url)"
   ],
   "metadata": {
    "collapsed": false,
    "ExecuteTime": {
     "end_time": "2023-08-29T11:54:01.855925200Z",
     "start_time": "2023-08-29T11:46:01.681479100Z"
    }
   },
   "id": "2ee85954a7585345"
  },
  {
   "cell_type": "code",
   "execution_count": 4,
   "outputs": [],
   "source": [
    "t = req.content"
   ],
   "metadata": {
    "collapsed": false,
    "ExecuteTime": {
     "end_time": "2023-08-29T11:54:01.871583Z",
     "start_time": "2023-08-29T11:54:01.859109600Z"
    }
   },
   "id": "a0f8f2266c261484"
  },
  {
   "cell_type": "code",
   "execution_count": 5,
   "outputs": [],
   "source": [
    "s = gzip.decompress(t)"
   ],
   "metadata": {
    "collapsed": false,
    "ExecuteTime": {
     "end_time": "2023-08-29T11:54:04.144655500Z",
     "start_time": "2023-08-29T11:54:01.872586600Z"
    }
   },
   "id": "ed9fea5b0affa2d1"
  },
  {
   "cell_type": "code",
   "execution_count": 6,
   "outputs": [
    {
     "name": "stderr",
     "output_type": "stream",
     "text": [
      "C:\\Users\\dargo\\AppData\\Local\\Temp\\ipykernel_25512\\798997524.py:1: DtypeWarning: Columns (8,10,12,14,16,17,18,20,22,26,35,36) have mixed types. Specify dtype option on import or set low_memory=False.\n",
      "  df = pd.read_csv(io.BytesIO(s))\n"
     ]
    }
   ],
   "source": [
    "df = pd.read_csv(io.BytesIO(s))"
   ],
   "metadata": {
    "collapsed": false,
    "ExecuteTime": {
     "end_time": "2023-08-29T11:54:18.236339400Z",
     "start_time": "2023-08-29T11:54:04.147800700Z"
    }
   },
   "id": "932b5e490983f2cc"
  },
  {
   "cell_type": "code",
   "execution_count": 7,
   "outputs": [
    {
     "data": {
      "text/plain": "          id_mutation date_mutation  numero_disposition nature_mutation  \\\n0              2018-1    2018-01-03                   1           Vente   \n1              2018-1    2018-01-03                   1           Vente   \n2              2018-2    2018-01-04                   1           Vente   \n3              2018-2    2018-01-04                   1           Vente   \n4              2018-2    2018-01-04                   1           Vente   \n...               ...           ...                 ...             ...   \n3335287  2018-1434017    2018-12-28                   1           Vente   \n3335288  2018-1434018    2018-12-03                   1           Vente   \n3335289  2018-1434019    2018-12-28                   1           Vente   \n3335290  2018-1434020    2018-12-13                   1    Adjudication   \n3335291  2018-1434021    2018-10-17                   1           Vente   \n\n         valeur_fonciere  adresse_numero adresse_suffixe  \\\n0               109000.0            13.0             NaN   \n1               109000.0            13.0             NaN   \n2               239300.0             4.0             NaN   \n3               239300.0             4.0             NaN   \n4               239300.0             4.0             NaN   \n...                  ...             ...             ...   \n3335287        1192307.0             1.0             NaN   \n3335288         383000.0            12.0             NaN   \n3335289         746000.0            18.0             NaN   \n3335290         645000.0             9.0             NaN   \n3335291          45000.0           273.0             NaN   \n\n                  adresse_nom_voie adresse_code_voie  code_postal  ...  \\\n0                  RUE GEN LOGEROT              1660       1000.0  ...   \n1                  RUE GEN LOGEROT              1660       1000.0  ...   \n2               RUE DE LA BARMETTE              0025       1250.0  ...   \n3               RUE DE LA BARMETTE              0025       1250.0  ...   \n4               RUE DE LA BARMETTE              0025       1250.0  ...   \n...                            ...               ...          ...  ...   \n3335287               PAS CHOISEUL              2012      75002.0  ...   \n3335288           RUE POISSONNIERE              7561      75002.0  ...   \n3335289  RUE STE CROIX BRETONNERIE              8548      75004.0  ...   \n3335290                 BD MORLAND              6559      75004.0  ...   \n3335291            RUE SAINT-DENIS              8525      75002.0  ...   \n\n                                       type_local surface_reelle_bati  \\\n0                                     Appartement                73.0   \n1                                      Dépendance                 NaN   \n2                                          Maison               163.0   \n3                                          Maison               163.0   \n4                                          Maison                51.0   \n...                                           ...                 ...   \n3335287                               Appartement               150.0   \n3335288                               Appartement                34.0   \n3335289  Local industriel. commercial ou assimilé                60.0   \n3335290                               Appartement                54.0   \n3335291                               Appartement                11.0   \n\n        nombre_pieces_principales  code_nature_culture       nature_culture  \\\n0                             4.0                  NaN                  NaN   \n1                             0.0                  NaN                  NaN   \n2                             4.0                    S                 sols   \n3                             4.0                   AG  terrains d'agrément   \n4                             2.0                   AG  terrains d'agrément   \n...                           ...                  ...                  ...   \n3335287                       4.0                  NaN                  NaN   \n3335288                       1.0                  NaN                  NaN   \n3335289                       0.0                  NaN                  NaN   \n3335290                       2.0                  NaN                  NaN   \n3335291                       1.0                  NaN                  NaN   \n\n        code_nature_culture_speciale nature_culture_speciale surface_terrain  \\\n0                                NaN                     NaN             NaN   \n1                                NaN                     NaN             NaN   \n2                                NaN                     NaN           949.0   \n3                               JARD       Jardin d'agrément           420.0   \n4                               JARD       Jardin d'agrément           420.0   \n...                              ...                     ...             ...   \n3335287                          NaN                     NaN             NaN   \n3335288                          NaN                     NaN             NaN   \n3335289                          NaN                     NaN             NaN   \n3335290                          NaN                     NaN             NaN   \n3335291                          NaN                     NaN             NaN   \n\n        longitude   latitude  \n0        5.220440  46.200062  \n1        5.220440  46.200062  \n2        5.408041  46.255562  \n3        5.408041  46.255562  \n4        5.408041  46.255562  \n...           ...        ...  \n3335287  2.335139  48.867253  \n3335288  2.347989  48.869018  \n3335289  2.356566  48.858267  \n3335290  2.364563  48.848333  \n3335291  2.351642  48.868708  \n\n[3335292 rows x 40 columns]",
      "text/html": "<div>\n<style scoped>\n    .dataframe tbody tr th:only-of-type {\n        vertical-align: middle;\n    }\n\n    .dataframe tbody tr th {\n        vertical-align: top;\n    }\n\n    .dataframe thead th {\n        text-align: right;\n    }\n</style>\n<table border=\"1\" class=\"dataframe\">\n  <thead>\n    <tr style=\"text-align: right;\">\n      <th></th>\n      <th>id_mutation</th>\n      <th>date_mutation</th>\n      <th>numero_disposition</th>\n      <th>nature_mutation</th>\n      <th>valeur_fonciere</th>\n      <th>adresse_numero</th>\n      <th>adresse_suffixe</th>\n      <th>adresse_nom_voie</th>\n      <th>adresse_code_voie</th>\n      <th>code_postal</th>\n      <th>...</th>\n      <th>type_local</th>\n      <th>surface_reelle_bati</th>\n      <th>nombre_pieces_principales</th>\n      <th>code_nature_culture</th>\n      <th>nature_culture</th>\n      <th>code_nature_culture_speciale</th>\n      <th>nature_culture_speciale</th>\n      <th>surface_terrain</th>\n      <th>longitude</th>\n      <th>latitude</th>\n    </tr>\n  </thead>\n  <tbody>\n    <tr>\n      <th>0</th>\n      <td>2018-1</td>\n      <td>2018-01-03</td>\n      <td>1</td>\n      <td>Vente</td>\n      <td>109000.0</td>\n      <td>13.0</td>\n      <td>NaN</td>\n      <td>RUE GEN LOGEROT</td>\n      <td>1660</td>\n      <td>1000.0</td>\n      <td>...</td>\n      <td>Appartement</td>\n      <td>73.0</td>\n      <td>4.0</td>\n      <td>NaN</td>\n      <td>NaN</td>\n      <td>NaN</td>\n      <td>NaN</td>\n      <td>NaN</td>\n      <td>5.220440</td>\n      <td>46.200062</td>\n    </tr>\n    <tr>\n      <th>1</th>\n      <td>2018-1</td>\n      <td>2018-01-03</td>\n      <td>1</td>\n      <td>Vente</td>\n      <td>109000.0</td>\n      <td>13.0</td>\n      <td>NaN</td>\n      <td>RUE GEN LOGEROT</td>\n      <td>1660</td>\n      <td>1000.0</td>\n      <td>...</td>\n      <td>Dépendance</td>\n      <td>NaN</td>\n      <td>0.0</td>\n      <td>NaN</td>\n      <td>NaN</td>\n      <td>NaN</td>\n      <td>NaN</td>\n      <td>NaN</td>\n      <td>5.220440</td>\n      <td>46.200062</td>\n    </tr>\n    <tr>\n      <th>2</th>\n      <td>2018-2</td>\n      <td>2018-01-04</td>\n      <td>1</td>\n      <td>Vente</td>\n      <td>239300.0</td>\n      <td>4.0</td>\n      <td>NaN</td>\n      <td>RUE DE LA BARMETTE</td>\n      <td>0025</td>\n      <td>1250.0</td>\n      <td>...</td>\n      <td>Maison</td>\n      <td>163.0</td>\n      <td>4.0</td>\n      <td>S</td>\n      <td>sols</td>\n      <td>NaN</td>\n      <td>NaN</td>\n      <td>949.0</td>\n      <td>5.408041</td>\n      <td>46.255562</td>\n    </tr>\n    <tr>\n      <th>3</th>\n      <td>2018-2</td>\n      <td>2018-01-04</td>\n      <td>1</td>\n      <td>Vente</td>\n      <td>239300.0</td>\n      <td>4.0</td>\n      <td>NaN</td>\n      <td>RUE DE LA BARMETTE</td>\n      <td>0025</td>\n      <td>1250.0</td>\n      <td>...</td>\n      <td>Maison</td>\n      <td>163.0</td>\n      <td>4.0</td>\n      <td>AG</td>\n      <td>terrains d'agrément</td>\n      <td>JARD</td>\n      <td>Jardin d'agrément</td>\n      <td>420.0</td>\n      <td>5.408041</td>\n      <td>46.255562</td>\n    </tr>\n    <tr>\n      <th>4</th>\n      <td>2018-2</td>\n      <td>2018-01-04</td>\n      <td>1</td>\n      <td>Vente</td>\n      <td>239300.0</td>\n      <td>4.0</td>\n      <td>NaN</td>\n      <td>RUE DE LA BARMETTE</td>\n      <td>0025</td>\n      <td>1250.0</td>\n      <td>...</td>\n      <td>Maison</td>\n      <td>51.0</td>\n      <td>2.0</td>\n      <td>AG</td>\n      <td>terrains d'agrément</td>\n      <td>JARD</td>\n      <td>Jardin d'agrément</td>\n      <td>420.0</td>\n      <td>5.408041</td>\n      <td>46.255562</td>\n    </tr>\n    <tr>\n      <th>...</th>\n      <td>...</td>\n      <td>...</td>\n      <td>...</td>\n      <td>...</td>\n      <td>...</td>\n      <td>...</td>\n      <td>...</td>\n      <td>...</td>\n      <td>...</td>\n      <td>...</td>\n      <td>...</td>\n      <td>...</td>\n      <td>...</td>\n      <td>...</td>\n      <td>...</td>\n      <td>...</td>\n      <td>...</td>\n      <td>...</td>\n      <td>...</td>\n      <td>...</td>\n      <td>...</td>\n    </tr>\n    <tr>\n      <th>3335287</th>\n      <td>2018-1434017</td>\n      <td>2018-12-28</td>\n      <td>1</td>\n      <td>Vente</td>\n      <td>1192307.0</td>\n      <td>1.0</td>\n      <td>NaN</td>\n      <td>PAS CHOISEUL</td>\n      <td>2012</td>\n      <td>75002.0</td>\n      <td>...</td>\n      <td>Appartement</td>\n      <td>150.0</td>\n      <td>4.0</td>\n      <td>NaN</td>\n      <td>NaN</td>\n      <td>NaN</td>\n      <td>NaN</td>\n      <td>NaN</td>\n      <td>2.335139</td>\n      <td>48.867253</td>\n    </tr>\n    <tr>\n      <th>3335288</th>\n      <td>2018-1434018</td>\n      <td>2018-12-03</td>\n      <td>1</td>\n      <td>Vente</td>\n      <td>383000.0</td>\n      <td>12.0</td>\n      <td>NaN</td>\n      <td>RUE POISSONNIERE</td>\n      <td>7561</td>\n      <td>75002.0</td>\n      <td>...</td>\n      <td>Appartement</td>\n      <td>34.0</td>\n      <td>1.0</td>\n      <td>NaN</td>\n      <td>NaN</td>\n      <td>NaN</td>\n      <td>NaN</td>\n      <td>NaN</td>\n      <td>2.347989</td>\n      <td>48.869018</td>\n    </tr>\n    <tr>\n      <th>3335289</th>\n      <td>2018-1434019</td>\n      <td>2018-12-28</td>\n      <td>1</td>\n      <td>Vente</td>\n      <td>746000.0</td>\n      <td>18.0</td>\n      <td>NaN</td>\n      <td>RUE STE CROIX BRETONNERIE</td>\n      <td>8548</td>\n      <td>75004.0</td>\n      <td>...</td>\n      <td>Local industriel. commercial ou assimilé</td>\n      <td>60.0</td>\n      <td>0.0</td>\n      <td>NaN</td>\n      <td>NaN</td>\n      <td>NaN</td>\n      <td>NaN</td>\n      <td>NaN</td>\n      <td>2.356566</td>\n      <td>48.858267</td>\n    </tr>\n    <tr>\n      <th>3335290</th>\n      <td>2018-1434020</td>\n      <td>2018-12-13</td>\n      <td>1</td>\n      <td>Adjudication</td>\n      <td>645000.0</td>\n      <td>9.0</td>\n      <td>NaN</td>\n      <td>BD MORLAND</td>\n      <td>6559</td>\n      <td>75004.0</td>\n      <td>...</td>\n      <td>Appartement</td>\n      <td>54.0</td>\n      <td>2.0</td>\n      <td>NaN</td>\n      <td>NaN</td>\n      <td>NaN</td>\n      <td>NaN</td>\n      <td>NaN</td>\n      <td>2.364563</td>\n      <td>48.848333</td>\n    </tr>\n    <tr>\n      <th>3335291</th>\n      <td>2018-1434021</td>\n      <td>2018-10-17</td>\n      <td>1</td>\n      <td>Vente</td>\n      <td>45000.0</td>\n      <td>273.0</td>\n      <td>NaN</td>\n      <td>RUE SAINT-DENIS</td>\n      <td>8525</td>\n      <td>75002.0</td>\n      <td>...</td>\n      <td>Appartement</td>\n      <td>11.0</td>\n      <td>1.0</td>\n      <td>NaN</td>\n      <td>NaN</td>\n      <td>NaN</td>\n      <td>NaN</td>\n      <td>NaN</td>\n      <td>2.351642</td>\n      <td>48.868708</td>\n    </tr>\n  </tbody>\n</table>\n<p>3335292 rows × 40 columns</p>\n</div>"
     },
     "execution_count": 7,
     "metadata": {},
     "output_type": "execute_result"
    }
   ],
   "source": [
    "df"
   ],
   "metadata": {
    "collapsed": false,
    "ExecuteTime": {
     "end_time": "2023-08-29T11:54:20.165339200Z",
     "start_time": "2023-08-29T11:54:18.237341100Z"
    }
   },
   "id": "4731601fb91a0edf"
  },
  {
   "cell_type": "code",
   "execution_count": 8,
   "outputs": [
    {
     "data": {
      "text/plain": "Index(['id_mutation', 'date_mutation', 'numero_disposition', 'nature_mutation',\n       'valeur_fonciere', 'adresse_numero', 'adresse_suffixe',\n       'adresse_nom_voie', 'adresse_code_voie', 'code_postal', 'code_commune',\n       'nom_commune', 'code_departement', 'ancien_code_commune',\n       'ancien_nom_commune', 'id_parcelle', 'ancien_id_parcelle',\n       'numero_volume', 'lot1_numero', 'lot1_surface_carrez', 'lot2_numero',\n       'lot2_surface_carrez', 'lot3_numero', 'lot3_surface_carrez',\n       'lot4_numero', 'lot4_surface_carrez', 'lot5_numero',\n       'lot5_surface_carrez', 'nombre_lots', 'code_type_local', 'type_local',\n       'surface_reelle_bati', 'nombre_pieces_principales',\n       'code_nature_culture', 'nature_culture', 'code_nature_culture_speciale',\n       'nature_culture_speciale', 'surface_terrain', 'longitude', 'latitude'],\n      dtype='object')"
     },
     "execution_count": 8,
     "metadata": {},
     "output_type": "execute_result"
    }
   ],
   "source": [
    "df.columns"
   ],
   "metadata": {
    "collapsed": false,
    "ExecuteTime": {
     "end_time": "2023-08-29T11:54:20.207396100Z",
     "start_time": "2023-08-29T11:54:20.166306700Z"
    }
   },
   "id": "9be099bab9c8a550"
  },
  {
   "cell_type": "code",
   "execution_count": 9,
   "outputs": [],
   "source": [
    "# suppression valeur fonciere nulle\n",
    "\n",
    "df.dropna(subset=['valeur_fonciere'], inplace=True)"
   ],
   "metadata": {
    "collapsed": false,
    "ExecuteTime": {
     "end_time": "2023-08-29T11:54:21.837935600Z",
     "start_time": "2023-08-29T11:54:20.182340900Z"
    }
   },
   "id": "8a4eef8c0ec9fe2c"
  },
  {
   "cell_type": "code",
   "execution_count": 10,
   "outputs": [],
   "source": [
    "# Selection des colonnes utiles\n",
    "\n",
    "dataset = df[['id_mutation',\n",
    "              'date_mutation',\n",
    "              'nature_mutation',\n",
    "              'adresse_nom_voie',\n",
    "              'code_postal',\n",
    "              'code_commune',\n",
    "              'code_departement',\n",
    "              'nombre_lots',\n",
    "              'code_type_local',\n",
    "              'surface_reelle_bati',\n",
    "              'nombre_pieces_principales',\n",
    "              'code_nature_culture',\n",
    "              'code_nature_culture_speciale',\n",
    "              'surface_terrain',\n",
    "              'valeur_fonciere'\n",
    "              ]]"
   ],
   "metadata": {
    "collapsed": false,
    "ExecuteTime": {
     "end_time": "2023-08-29T11:54:22.148524700Z",
     "start_time": "2023-08-29T11:54:21.838936900Z"
    }
   },
   "id": "e56e372dae07f21d"
  },
  {
   "cell_type": "code",
   "execution_count": 11,
   "outputs": [],
   "source": [
    "# del df"
   ],
   "metadata": {
    "collapsed": false,
    "ExecuteTime": {
     "end_time": "2023-08-29T11:54:22.167067Z",
     "start_time": "2023-08-29T11:54:22.150538200Z"
    }
   },
   "id": "b5c88c697d2a8201"
  },
  {
   "cell_type": "markdown",
   "source": [
    "# Cleaning"
   ],
   "metadata": {
    "collapsed": false
   },
   "id": "b8c6572facca896a"
  },
  {
   "cell_type": "code",
   "execution_count": 12,
   "outputs": [],
   "source": [
    "# Passage de la colonnes date mutation en datetime puis en seconde pour avoir des int\n",
    "\n",
    "dataset.loc[:,'date_mutation'] = pd.to_datetime(dataset['date_mutation'], format='mixed')\n",
    "dataset.loc[:,'date_mutation'] = dataset['date_mutation'].apply(lambda x: x.timestamp())"
   ],
   "metadata": {
    "collapsed": false,
    "ExecuteTime": {
     "end_time": "2023-08-29T11:54:32.931213500Z",
     "start_time": "2023-08-29T11:54:22.171067500Z"
    }
   },
   "id": "410b6bd7489f0c65"
  },
  {
   "cell_type": "code",
   "execution_count": 13,
   "outputs": [],
   "source": [
    "# Remplissage des valeurs NaN nature_mutation et labelisation\n",
    "\n",
    "dataset.loc[:,'nature_mutation'] = dataset.nature_mutation.fillna(\"\")\n",
    "\n",
    "NM = preprocessing.LabelEncoder()\n",
    "NM.fit(dataset['nature_mutation'])\n",
    "dataset.loc[:,'nature_mutation'] =  NM.transform(dataset['nature_mutation'])"
   ],
   "metadata": {
    "collapsed": false,
    "ExecuteTime": {
     "end_time": "2023-08-29T11:54:33.859931Z",
     "start_time": "2023-08-29T11:54:32.934170600Z"
    }
   },
   "id": "55ea0df08ab8429f"
  },
  {
   "cell_type": "code",
   "execution_count": 14,
   "outputs": [
    {
     "name": "stderr",
     "output_type": "stream",
     "text": [
      "C:\\Users\\dargo\\AppData\\Local\\Temp\\ipykernel_25512\\3593151251.py:8: SettingWithCopyWarning: \n",
      "A value is trying to be set on a copy of a slice from a DataFrame.\n",
      "Try using .loc[row_indexer,col_indexer] = value instead\n",
      "\n",
      "See the caveats in the documentation: https://pandas.pydata.org/pandas-docs/stable/user_guide/indexing.html#returning-a-view-versus-a-copy\n",
      "  dataset.loc[:,'prefixe_voie'] = codex_voie\n"
     ]
    }
   ],
   "source": [
    "dataset.loc[:,'adresse_nom_voie'] = dataset.adresse_nom_voie.fillna(\"\")\n",
    "\n",
    "codex_voie = list()\n",
    "for i in dataset.adresse_nom_voie.values:\n",
    "    j = i.split(' ')\n",
    "    codex_voie.append(j[0])\n",
    "\n",
    "dataset.loc[:,'prefixe_voie'] = codex_voie"
   ],
   "metadata": {
    "collapsed": false,
    "ExecuteTime": {
     "end_time": "2023-08-29T11:54:35.320174700Z",
     "start_time": "2023-08-29T11:54:33.862934400Z"
    }
   },
   "id": "1109a459bcdc1b60"
  },
  {
   "cell_type": "code",
   "execution_count": 15,
   "outputs": [],
   "source": [
    "dataset.loc[:,'code_postal'] = dataset.code_postal.fillna(0)"
   ],
   "metadata": {
    "collapsed": false,
    "ExecuteTime": {
     "end_time": "2023-08-29T11:54:35.383825200Z",
     "start_time": "2023-08-29T11:54:35.321175100Z"
    }
   },
   "id": "9a31b10f690da8e7"
  },
  {
   "cell_type": "code",
   "execution_count": 16,
   "outputs": [],
   "source": [
    "dataset.loc[:,'surface_reelle_bati'] = dataset.surface_reelle_bati.fillna(0)\n",
    "dataset.loc[:,'surface_terrain'] = dataset.surface_terrain.fillna(0)\n",
    "dataset.loc[:,'code_type_local'] = dataset.code_type_local.fillna(0)\n",
    "dataset.loc[:,'nombre_pieces_principales'] = dataset.nombre_pieces_principales.fillna(0)"
   ],
   "metadata": {
    "collapsed": false,
    "ExecuteTime": {
     "end_time": "2023-08-29T11:54:35.566098500Z",
     "start_time": "2023-08-29T11:54:35.380832100Z"
    }
   },
   "id": "6b61f19cf0aceb"
  },
  {
   "cell_type": "code",
   "execution_count": 17,
   "outputs": [],
   "source": [
    "dataset.loc[:,'code_nature_culture'] = dataset.code_nature_culture.fillna(\"\")\n",
    "dataset.loc[:,'code_nature_culture_speciale'] = dataset.code_nature_culture_speciale.fillna(\"\")\n"
   ],
   "metadata": {
    "collapsed": false,
    "ExecuteTime": {
     "end_time": "2023-08-29T11:54:35.984273800Z",
     "start_time": "2023-08-29T11:54:35.568100400Z"
    }
   },
   "id": "5f406383cd6b6ab1"
  },
  {
   "cell_type": "code",
   "execution_count": 18,
   "outputs": [
    {
     "data": {
      "text/plain": "id_mutation                     0\ndate_mutation                   0\nnature_mutation                 0\nadresse_nom_voie                0\ncode_postal                     0\ncode_commune                    0\ncode_departement                0\nnombre_lots                     0\ncode_type_local                 0\nsurface_reelle_bati             0\nnombre_pieces_principales       0\ncode_nature_culture             0\ncode_nature_culture_speciale    0\nsurface_terrain                 0\nvaleur_fonciere                 0\nprefixe_voie                    0\ndtype: int64"
     },
     "execution_count": 18,
     "metadata": {},
     "output_type": "execute_result"
    }
   ],
   "source": [
    "dataset.isna().sum()"
   ],
   "metadata": {
    "collapsed": false,
    "ExecuteTime": {
     "end_time": "2023-08-29T11:54:36.840059400Z",
     "start_time": "2023-08-29T11:54:35.986281900Z"
    }
   },
   "id": "26c6592564ec2d9b"
  },
  {
   "cell_type": "code",
   "execution_count": 18,
   "outputs": [],
   "source": [],
   "metadata": {
    "collapsed": false,
    "ExecuteTime": {
     "end_time": "2023-08-29T11:54:36.854170Z",
     "start_time": "2023-08-29T11:54:36.841095900Z"
    }
   },
   "id": "7c838d4441fa6a1d"
  },
  {
   "cell_type": "code",
   "execution_count": 18,
   "outputs": [],
   "source": [],
   "metadata": {
    "collapsed": false,
    "ExecuteTime": {
     "end_time": "2023-08-29T11:54:36.885933Z",
     "start_time": "2023-08-29T11:54:36.855171500Z"
    }
   },
   "id": "437f0f7f89326803"
  },
  {
   "cell_type": "code",
   "execution_count": 19,
   "outputs": [],
   "source": [
    "# Sortie de la colonne resultat\n",
    "\n",
    "## Y = df.valeur_fonciere"
   ],
   "metadata": {
    "collapsed": false,
    "ExecuteTime": {
     "end_time": "2023-08-29T11:54:36.886933600Z",
     "start_time": "2023-08-29T11:54:36.871901600Z"
    }
   },
   "id": "1b3922c306493006"
  }
 ],
 "metadata": {
  "kernelspec": {
   "display_name": "Python 3",
   "language": "python",
   "name": "python3"
  },
  "language_info": {
   "codemirror_mode": {
    "name": "ipython",
    "version": 2
   },
   "file_extension": ".py",
   "mimetype": "text/x-python",
   "name": "python",
   "nbconvert_exporter": "python",
   "pygments_lexer": "ipython2",
   "version": "2.7.6"
  }
 },
 "nbformat": 4,
 "nbformat_minor": 5
}
