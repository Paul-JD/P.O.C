{
 "cells": [
  {
   "cell_type": "code",
   "execution_count": 1,
   "id": "initial_id",
   "metadata": {
    "collapsed": true,
    "ExecuteTime": {
     "end_time": "2023-08-29T17:23:08.566984400Z",
     "start_time": "2023-08-29T17:23:06.386885800Z"
    }
   },
   "outputs": [],
   "source": [
    "import gzip\n",
    "import opener\n",
    "import pandas as pd\n",
    "import io\n",
    "import requests\n",
    "from sklearn import preprocessing\n",
    "from sklearn.model_selection import train_test_split\n",
    "from sklearn.ensemble import RandomForestClassifier\n",
    "import numpy as np\n",
    "from collections import Counter"
   ]
  },
  {
   "cell_type": "code",
   "execution_count": 2,
   "outputs": [],
   "source": [
    "url = \"https://files.data.gouv.fr/geo-dvf/latest/csv/2018/full.csv.gz\"\n",
    "req = requests.get(url)"
   ],
   "metadata": {
    "collapsed": false,
    "ExecuteTime": {
     "end_time": "2023-08-29T17:23:36.235217600Z",
     "start_time": "2023-08-29T17:23:34.370597300Z"
    }
   },
   "id": "2ee85954a7585345"
  },
  {
   "cell_type": "code",
   "execution_count": 3,
   "outputs": [],
   "source": [
    "t = req.content"
   ],
   "metadata": {
    "collapsed": false,
    "ExecuteTime": {
     "end_time": "2023-08-29T17:23:36.236219600Z",
     "start_time": "2023-08-29T17:23:36.212218100Z"
    }
   },
   "id": "a0f8f2266c261484"
  },
  {
   "cell_type": "code",
   "execution_count": 4,
   "outputs": [],
   "source": [
    "s = gzip.decompress(t)"
   ],
   "metadata": {
    "collapsed": false,
    "ExecuteTime": {
     "end_time": "2023-08-29T17:23:39.675251500Z",
     "start_time": "2023-08-29T17:23:36.227225700Z"
    }
   },
   "id": "ed9fea5b0affa2d1"
  },
  {
   "cell_type": "code",
   "execution_count": 73,
   "outputs": [
    {
     "name": "stderr",
     "output_type": "stream",
     "text": [
      "C:\\Users\\dargo\\AppData\\Local\\Temp\\ipykernel_11260\\798997524.py:1: DtypeWarning: Columns (8,10,12,14,16,17,18,20,22,26,35,36) have mixed types. Specify dtype option on import or set low_memory=False.\n",
      "  df = pd.read_csv(io.BytesIO(s))\n"
     ]
    }
   ],
   "source": [
    "df = pd.read_csv(io.BytesIO(s))"
   ],
   "metadata": {
    "collapsed": false,
    "ExecuteTime": {
     "end_time": "2023-08-29T20:31:00.641002900Z",
     "start_time": "2023-08-29T20:30:43.262325700Z"
    }
   },
   "id": "932b5e490983f2cc"
  },
  {
   "cell_type": "code",
   "execution_count": 6,
   "outputs": [
    {
     "data": {
      "text/plain": "          id_mutation date_mutation  numero_disposition nature_mutation  \\\n0              2018-1    2018-01-03                   1           Vente   \n1              2018-1    2018-01-03                   1           Vente   \n2              2018-2    2018-01-04                   1           Vente   \n3              2018-2    2018-01-04                   1           Vente   \n4              2018-2    2018-01-04                   1           Vente   \n...               ...           ...                 ...             ...   \n3335287  2018-1434017    2018-12-28                   1           Vente   \n3335288  2018-1434018    2018-12-03                   1           Vente   \n3335289  2018-1434019    2018-12-28                   1           Vente   \n3335290  2018-1434020    2018-12-13                   1    Adjudication   \n3335291  2018-1434021    2018-10-17                   1           Vente   \n\n         valeur_fonciere  adresse_numero adresse_suffixe  \\\n0               109000.0            13.0             NaN   \n1               109000.0            13.0             NaN   \n2               239300.0             4.0             NaN   \n3               239300.0             4.0             NaN   \n4               239300.0             4.0             NaN   \n...                  ...             ...             ...   \n3335287        1192307.0             1.0             NaN   \n3335288         383000.0            12.0             NaN   \n3335289         746000.0            18.0             NaN   \n3335290         645000.0             9.0             NaN   \n3335291          45000.0           273.0             NaN   \n\n                  adresse_nom_voie adresse_code_voie  code_postal  ...  \\\n0                  RUE GEN LOGEROT              1660       1000.0  ...   \n1                  RUE GEN LOGEROT              1660       1000.0  ...   \n2               RUE DE LA BARMETTE              0025       1250.0  ...   \n3               RUE DE LA BARMETTE              0025       1250.0  ...   \n4               RUE DE LA BARMETTE              0025       1250.0  ...   \n...                            ...               ...          ...  ...   \n3335287               PAS CHOISEUL              2012      75002.0  ...   \n3335288           RUE POISSONNIERE              7561      75002.0  ...   \n3335289  RUE STE CROIX BRETONNERIE              8548      75004.0  ...   \n3335290                 BD MORLAND              6559      75004.0  ...   \n3335291            RUE SAINT-DENIS              8525      75002.0  ...   \n\n                                       type_local surface_reelle_bati  \\\n0                                     Appartement                73.0   \n1                                      Dépendance                 NaN   \n2                                          Maison               163.0   \n3                                          Maison               163.0   \n4                                          Maison                51.0   \n...                                           ...                 ...   \n3335287                               Appartement               150.0   \n3335288                               Appartement                34.0   \n3335289  Local industriel. commercial ou assimilé                60.0   \n3335290                               Appartement                54.0   \n3335291                               Appartement                11.0   \n\n        nombre_pieces_principales  code_nature_culture       nature_culture  \\\n0                             4.0                  NaN                  NaN   \n1                             0.0                  NaN                  NaN   \n2                             4.0                    S                 sols   \n3                             4.0                   AG  terrains d'agrément   \n4                             2.0                   AG  terrains d'agrément   \n...                           ...                  ...                  ...   \n3335287                       4.0                  NaN                  NaN   \n3335288                       1.0                  NaN                  NaN   \n3335289                       0.0                  NaN                  NaN   \n3335290                       2.0                  NaN                  NaN   \n3335291                       1.0                  NaN                  NaN   \n\n        code_nature_culture_speciale nature_culture_speciale surface_terrain  \\\n0                                NaN                     NaN             NaN   \n1                                NaN                     NaN             NaN   \n2                                NaN                     NaN           949.0   \n3                               JARD       Jardin d'agrément           420.0   \n4                               JARD       Jardin d'agrément           420.0   \n...                              ...                     ...             ...   \n3335287                          NaN                     NaN             NaN   \n3335288                          NaN                     NaN             NaN   \n3335289                          NaN                     NaN             NaN   \n3335290                          NaN                     NaN             NaN   \n3335291                          NaN                     NaN             NaN   \n\n        longitude   latitude  \n0        5.220440  46.200062  \n1        5.220440  46.200062  \n2        5.408041  46.255562  \n3        5.408041  46.255562  \n4        5.408041  46.255562  \n...           ...        ...  \n3335287  2.335139  48.867253  \n3335288  2.347989  48.869018  \n3335289  2.356566  48.858267  \n3335290  2.364563  48.848333  \n3335291  2.351642  48.868708  \n\n[3335292 rows x 40 columns]",
      "text/html": "<div>\n<style scoped>\n    .dataframe tbody tr th:only-of-type {\n        vertical-align: middle;\n    }\n\n    .dataframe tbody tr th {\n        vertical-align: top;\n    }\n\n    .dataframe thead th {\n        text-align: right;\n    }\n</style>\n<table border=\"1\" class=\"dataframe\">\n  <thead>\n    <tr style=\"text-align: right;\">\n      <th></th>\n      <th>id_mutation</th>\n      <th>date_mutation</th>\n      <th>numero_disposition</th>\n      <th>nature_mutation</th>\n      <th>valeur_fonciere</th>\n      <th>adresse_numero</th>\n      <th>adresse_suffixe</th>\n      <th>adresse_nom_voie</th>\n      <th>adresse_code_voie</th>\n      <th>code_postal</th>\n      <th>...</th>\n      <th>type_local</th>\n      <th>surface_reelle_bati</th>\n      <th>nombre_pieces_principales</th>\n      <th>code_nature_culture</th>\n      <th>nature_culture</th>\n      <th>code_nature_culture_speciale</th>\n      <th>nature_culture_speciale</th>\n      <th>surface_terrain</th>\n      <th>longitude</th>\n      <th>latitude</th>\n    </tr>\n  </thead>\n  <tbody>\n    <tr>\n      <th>0</th>\n      <td>2018-1</td>\n      <td>2018-01-03</td>\n      <td>1</td>\n      <td>Vente</td>\n      <td>109000.0</td>\n      <td>13.0</td>\n      <td>NaN</td>\n      <td>RUE GEN LOGEROT</td>\n      <td>1660</td>\n      <td>1000.0</td>\n      <td>...</td>\n      <td>Appartement</td>\n      <td>73.0</td>\n      <td>4.0</td>\n      <td>NaN</td>\n      <td>NaN</td>\n      <td>NaN</td>\n      <td>NaN</td>\n      <td>NaN</td>\n      <td>5.220440</td>\n      <td>46.200062</td>\n    </tr>\n    <tr>\n      <th>1</th>\n      <td>2018-1</td>\n      <td>2018-01-03</td>\n      <td>1</td>\n      <td>Vente</td>\n      <td>109000.0</td>\n      <td>13.0</td>\n      <td>NaN</td>\n      <td>RUE GEN LOGEROT</td>\n      <td>1660</td>\n      <td>1000.0</td>\n      <td>...</td>\n      <td>Dépendance</td>\n      <td>NaN</td>\n      <td>0.0</td>\n      <td>NaN</td>\n      <td>NaN</td>\n      <td>NaN</td>\n      <td>NaN</td>\n      <td>NaN</td>\n      <td>5.220440</td>\n      <td>46.200062</td>\n    </tr>\n    <tr>\n      <th>2</th>\n      <td>2018-2</td>\n      <td>2018-01-04</td>\n      <td>1</td>\n      <td>Vente</td>\n      <td>239300.0</td>\n      <td>4.0</td>\n      <td>NaN</td>\n      <td>RUE DE LA BARMETTE</td>\n      <td>0025</td>\n      <td>1250.0</td>\n      <td>...</td>\n      <td>Maison</td>\n      <td>163.0</td>\n      <td>4.0</td>\n      <td>S</td>\n      <td>sols</td>\n      <td>NaN</td>\n      <td>NaN</td>\n      <td>949.0</td>\n      <td>5.408041</td>\n      <td>46.255562</td>\n    </tr>\n    <tr>\n      <th>3</th>\n      <td>2018-2</td>\n      <td>2018-01-04</td>\n      <td>1</td>\n      <td>Vente</td>\n      <td>239300.0</td>\n      <td>4.0</td>\n      <td>NaN</td>\n      <td>RUE DE LA BARMETTE</td>\n      <td>0025</td>\n      <td>1250.0</td>\n      <td>...</td>\n      <td>Maison</td>\n      <td>163.0</td>\n      <td>4.0</td>\n      <td>AG</td>\n      <td>terrains d'agrément</td>\n      <td>JARD</td>\n      <td>Jardin d'agrément</td>\n      <td>420.0</td>\n      <td>5.408041</td>\n      <td>46.255562</td>\n    </tr>\n    <tr>\n      <th>4</th>\n      <td>2018-2</td>\n      <td>2018-01-04</td>\n      <td>1</td>\n      <td>Vente</td>\n      <td>239300.0</td>\n      <td>4.0</td>\n      <td>NaN</td>\n      <td>RUE DE LA BARMETTE</td>\n      <td>0025</td>\n      <td>1250.0</td>\n      <td>...</td>\n      <td>Maison</td>\n      <td>51.0</td>\n      <td>2.0</td>\n      <td>AG</td>\n      <td>terrains d'agrément</td>\n      <td>JARD</td>\n      <td>Jardin d'agrément</td>\n      <td>420.0</td>\n      <td>5.408041</td>\n      <td>46.255562</td>\n    </tr>\n    <tr>\n      <th>...</th>\n      <td>...</td>\n      <td>...</td>\n      <td>...</td>\n      <td>...</td>\n      <td>...</td>\n      <td>...</td>\n      <td>...</td>\n      <td>...</td>\n      <td>...</td>\n      <td>...</td>\n      <td>...</td>\n      <td>...</td>\n      <td>...</td>\n      <td>...</td>\n      <td>...</td>\n      <td>...</td>\n      <td>...</td>\n      <td>...</td>\n      <td>...</td>\n      <td>...</td>\n      <td>...</td>\n    </tr>\n    <tr>\n      <th>3335287</th>\n      <td>2018-1434017</td>\n      <td>2018-12-28</td>\n      <td>1</td>\n      <td>Vente</td>\n      <td>1192307.0</td>\n      <td>1.0</td>\n      <td>NaN</td>\n      <td>PAS CHOISEUL</td>\n      <td>2012</td>\n      <td>75002.0</td>\n      <td>...</td>\n      <td>Appartement</td>\n      <td>150.0</td>\n      <td>4.0</td>\n      <td>NaN</td>\n      <td>NaN</td>\n      <td>NaN</td>\n      <td>NaN</td>\n      <td>NaN</td>\n      <td>2.335139</td>\n      <td>48.867253</td>\n    </tr>\n    <tr>\n      <th>3335288</th>\n      <td>2018-1434018</td>\n      <td>2018-12-03</td>\n      <td>1</td>\n      <td>Vente</td>\n      <td>383000.0</td>\n      <td>12.0</td>\n      <td>NaN</td>\n      <td>RUE POISSONNIERE</td>\n      <td>7561</td>\n      <td>75002.0</td>\n      <td>...</td>\n      <td>Appartement</td>\n      <td>34.0</td>\n      <td>1.0</td>\n      <td>NaN</td>\n      <td>NaN</td>\n      <td>NaN</td>\n      <td>NaN</td>\n      <td>NaN</td>\n      <td>2.347989</td>\n      <td>48.869018</td>\n    </tr>\n    <tr>\n      <th>3335289</th>\n      <td>2018-1434019</td>\n      <td>2018-12-28</td>\n      <td>1</td>\n      <td>Vente</td>\n      <td>746000.0</td>\n      <td>18.0</td>\n      <td>NaN</td>\n      <td>RUE STE CROIX BRETONNERIE</td>\n      <td>8548</td>\n      <td>75004.0</td>\n      <td>...</td>\n      <td>Local industriel. commercial ou assimilé</td>\n      <td>60.0</td>\n      <td>0.0</td>\n      <td>NaN</td>\n      <td>NaN</td>\n      <td>NaN</td>\n      <td>NaN</td>\n      <td>NaN</td>\n      <td>2.356566</td>\n      <td>48.858267</td>\n    </tr>\n    <tr>\n      <th>3335290</th>\n      <td>2018-1434020</td>\n      <td>2018-12-13</td>\n      <td>1</td>\n      <td>Adjudication</td>\n      <td>645000.0</td>\n      <td>9.0</td>\n      <td>NaN</td>\n      <td>BD MORLAND</td>\n      <td>6559</td>\n      <td>75004.0</td>\n      <td>...</td>\n      <td>Appartement</td>\n      <td>54.0</td>\n      <td>2.0</td>\n      <td>NaN</td>\n      <td>NaN</td>\n      <td>NaN</td>\n      <td>NaN</td>\n      <td>NaN</td>\n      <td>2.364563</td>\n      <td>48.848333</td>\n    </tr>\n    <tr>\n      <th>3335291</th>\n      <td>2018-1434021</td>\n      <td>2018-10-17</td>\n      <td>1</td>\n      <td>Vente</td>\n      <td>45000.0</td>\n      <td>273.0</td>\n      <td>NaN</td>\n      <td>RUE SAINT-DENIS</td>\n      <td>8525</td>\n      <td>75002.0</td>\n      <td>...</td>\n      <td>Appartement</td>\n      <td>11.0</td>\n      <td>1.0</td>\n      <td>NaN</td>\n      <td>NaN</td>\n      <td>NaN</td>\n      <td>NaN</td>\n      <td>NaN</td>\n      <td>2.351642</td>\n      <td>48.868708</td>\n    </tr>\n  </tbody>\n</table>\n<p>3335292 rows × 40 columns</p>\n</div>"
     },
     "execution_count": 6,
     "metadata": {},
     "output_type": "execute_result"
    }
   ],
   "source": [
    "df"
   ],
   "metadata": {
    "collapsed": false,
    "ExecuteTime": {
     "end_time": "2023-08-29T17:24:02.925755200Z",
     "start_time": "2023-08-29T17:24:00.909747Z"
    }
   },
   "id": "4731601fb91a0edf"
  },
  {
   "cell_type": "code",
   "execution_count": 80,
   "outputs": [],
   "source": [
    "# suppression valeur fonciere nulle\n",
    "\n",
    "df.dropna(subset=['valeur_fonciere'], inplace=True)\n",
    "df.dropna(subset=['longitude', 'latitude'], inplace=True)"
   ],
   "metadata": {
    "collapsed": false,
    "ExecuteTime": {
     "end_time": "2023-08-29T20:34:37.524410800Z",
     "start_time": "2023-08-29T20:34:34.841530600Z"
    }
   },
   "id": "8a4eef8c0ec9fe2c"
  },
  {
   "cell_type": "code",
   "execution_count": 101,
   "outputs": [],
   "source": [
    "# Selection des colonnes utiles\n",
    "\n",
    "dataset = df[['id_mutation',\n",
    "              'date_mutation',\n",
    "              'nature_mutation',\n",
    "              'adresse_nom_voie',\n",
    "              'code_postal',\n",
    "              'code_commune',\n",
    "              'code_departement',\n",
    "              'nombre_lots',\n",
    "              'code_type_local',\n",
    "              'surface_reelle_bati',\n",
    "              'nombre_pieces_principales',\n",
    "              'code_nature_culture',\n",
    "              'code_nature_culture_speciale',\n",
    "              'surface_terrain',\n",
    "              'valeur_fonciere',\n",
    "              'longitude',\n",
    "              'latitude'\n",
    "              ]]"
   ],
   "metadata": {
    "collapsed": false,
    "ExecuteTime": {
     "end_time": "2023-08-29T21:15:05.455120800Z",
     "start_time": "2023-08-29T21:15:04.635520500Z"
    }
   },
   "id": "e56e372dae07f21d"
  },
  {
   "cell_type": "code",
   "execution_count": 82,
   "outputs": [],
   "source": [
    "# del df"
   ],
   "metadata": {
    "collapsed": false,
    "ExecuteTime": {
     "end_time": "2023-08-29T20:34:43.693832Z",
     "start_time": "2023-08-29T20:34:43.679308400Z"
    }
   },
   "id": "b5c88c697d2a8201"
  },
  {
   "cell_type": "markdown",
   "source": [
    "# Cleaning"
   ],
   "metadata": {
    "collapsed": false
   },
   "id": "b8c6572facca896a"
  },
  {
   "cell_type": "code",
   "execution_count": 83,
   "outputs": [
    {
     "data": {
      "text/plain": "(3201638, 17)"
     },
     "execution_count": 83,
     "metadata": {},
     "output_type": "execute_result"
    }
   ],
   "source": [
    "dataset.shape"
   ],
   "metadata": {
    "collapsed": false,
    "ExecuteTime": {
     "end_time": "2023-08-29T20:34:43.750472100Z",
     "start_time": "2023-08-29T20:34:43.697356800Z"
    }
   },
   "id": "fe6ac2634226c233"
  },
  {
   "cell_type": "markdown",
   "source": [
    "### Date mutation cleaning"
   ],
   "metadata": {
    "collapsed": false
   },
   "id": "4da7ef45987f3d39"
  },
  {
   "cell_type": "code",
   "execution_count": 102,
   "outputs": [],
   "source": [
    "# Passage de la colonnes date mutation en datetime puis en seconde pour avoir des int\n",
    "\n",
    "dataset.loc[:, 'date_mutation'] = pd.to_datetime(dataset['date_mutation'], format='mixed')\n",
    "dataset.loc[:, 'date_mutation'] = dataset['date_mutation'].apply(lambda x: x.timestamp())"
   ],
   "metadata": {
    "collapsed": false,
    "ExecuteTime": {
     "end_time": "2023-08-29T21:15:30.110091600Z",
     "start_time": "2023-08-29T21:15:12.202848Z"
    }
   },
   "id": "410b6bd7489f0c65"
  },
  {
   "cell_type": "code",
   "execution_count": 103,
   "outputs": [],
   "source": [
    "# Remplissage des valeurs NaN nature_mutation et labelisation\n",
    "\n",
    "dataset.loc[:, 'nature_mutation'] = dataset.nature_mutation.fillna(\"\")"
   ],
   "metadata": {
    "collapsed": false,
    "ExecuteTime": {
     "end_time": "2023-08-29T21:15:30.432074600Z",
     "start_time": "2023-08-29T21:15:30.115482200Z"
    }
   },
   "id": "55ea0df08ab8429f"
  },
  {
   "cell_type": "markdown",
   "source": [
    "NM = preprocessing.LabelEncoder()\n",
    "NM.fit(dataset['nature_mutation'])\n",
    "dataset.loc[:, 'nature_mutation'] = NM.transform(dataset['nature_mutation'])"
   ],
   "metadata": {
    "collapsed": false
   },
   "id": "9bbe127e6e9d3727"
  },
  {
   "cell_type": "markdown",
   "source": [
    "### Adresse nom voie cleaning"
   ],
   "metadata": {
    "collapsed": false
   },
   "id": "bc749794b07b0da3"
  },
  {
   "cell_type": "code",
   "execution_count": 104,
   "outputs": [],
   "source": [
    "abrv_voie = pd.read_csv(filepath_or_buffer='Data_Files/ABREVIATION_VOIE.csv', sep=',').values"
   ],
   "metadata": {
    "collapsed": false,
    "ExecuteTime": {
     "end_time": "2023-08-29T21:15:30.503238600Z",
     "start_time": "2023-08-29T21:15:30.436452500Z"
    }
   },
   "id": "8465c1c51bdec236"
  },
  {
   "cell_type": "code",
   "execution_count": 105,
   "outputs": [
    {
     "name": "stderr",
     "output_type": "stream",
     "text": [
      "C:\\Users\\dargo\\AppData\\Local\\Temp\\ipykernel_11260\\90543416.py:14: SettingWithCopyWarning: \n",
      "A value is trying to be set on a copy of a slice from a DataFrame.\n",
      "Try using .loc[row_indexer,col_indexer] = value instead\n",
      "\n",
      "See the caveats in the documentation: https://pandas.pydata.org/pandas-docs/stable/user_guide/indexing.html#returning-a-view-versus-a-copy\n",
      "  dataset.loc[:,'prefixe_voie'] = codex_voie\n"
     ]
    }
   ],
   "source": [
    "dataset.loc[:, 'adresse_nom_voie'] = dataset.adresse_nom_voie.fillna(\"\")\n",
    "\n",
    "codex_voie = list()\n",
    "for i in dataset.adresse_nom_voie.values:\n",
    "\n",
    "    list_nom_rue = i.split(' ')\n",
    "    premier_valeur_liste = list_nom_rue[0]\n",
    "\n",
    "    if premier_valeur_liste in abrv_voie:\n",
    "        codex_voie.append(premier_valeur_liste)\n",
    "    else:\n",
    "        codex_voie.append('AUTRE')\n",
    "\n",
    "dataset.loc[:, 'prefixe_voie'] = codex_voie"
   ],
   "metadata": {
    "collapsed": false,
    "ExecuteTime": {
     "end_time": "2023-08-29T21:16:06.028964600Z",
     "start_time": "2023-08-29T21:15:30.466033700Z"
    }
   },
   "id": "1109a459bcdc1b60"
  },
  {
   "cell_type": "markdown",
   "source": [
    "CV = preprocessing.LabelEncoder()\n",
    "CV.fit(dataset.prefixe_voie)\n",
    "dataset.loc[:,'prefixe_voie'] = CV.transform(dataset.prefixe_voie)"
   ],
   "metadata": {
    "collapsed": false
   },
   "id": "e9df4c03294ab1a"
  },
  {
   "cell_type": "markdown",
   "source": [
    "### Multiple easy Cleaning"
   ],
   "metadata": {
    "collapsed": false
   },
   "id": "e52995de51908ce9"
  },
  {
   "cell_type": "code",
   "execution_count": 106,
   "outputs": [],
   "source": [
    "dataset.loc[:, 'code_postal'] = dataset.code_postal.fillna(0)"
   ],
   "metadata": {
    "collapsed": false,
    "ExecuteTime": {
     "end_time": "2023-08-29T21:16:06.117901300Z",
     "start_time": "2023-08-29T21:16:06.025953100Z"
    }
   },
   "id": "9a31b10f690da8e7"
  },
  {
   "cell_type": "code",
   "execution_count": 107,
   "outputs": [],
   "source": [
    "dataset.loc[:, 'surface_reelle_bati'] = dataset.surface_reelle_bati.fillna(0)\n",
    "dataset.loc[:, 'surface_terrain'] = dataset.surface_terrain.fillna(0)\n",
    "dataset.loc[:, 'code_type_local'] = dataset.code_type_local.fillna(0)\n",
    "dataset.loc[:, 'nombre_pieces_principales'] = dataset.nombre_pieces_principales.fillna(0)"
   ],
   "metadata": {
    "collapsed": false,
    "ExecuteTime": {
     "end_time": "2023-08-29T21:16:06.417680700Z",
     "start_time": "2023-08-29T21:16:06.120908Z"
    }
   },
   "id": "6b61f19cf0aceb"
  },
  {
   "cell_type": "code",
   "execution_count": 108,
   "outputs": [],
   "source": [
    "dataset.loc[:, 'code_nature_culture'] = dataset.code_nature_culture.fillna(\"\")\n",
    "dataset.loc[:, 'code_nature_culture_speciale'] = dataset.code_nature_culture_speciale.fillna(\"\")"
   ],
   "metadata": {
    "collapsed": false,
    "ExecuteTime": {
     "end_time": "2023-08-29T21:16:06.964219100Z",
     "start_time": "2023-08-29T21:16:06.420642700Z"
    }
   },
   "id": "5f406383cd6b6ab1"
  },
  {
   "cell_type": "markdown",
   "source": [
    "### Latitude & longitude"
   ],
   "metadata": {
    "collapsed": false
   },
   "id": "8987fac75112dc2f"
  },
  {
   "cell_type": "code",
   "execution_count": 109,
   "outputs": [
    {
     "data": {
      "text/plain": "0"
     },
     "execution_count": 109,
     "metadata": {},
     "output_type": "execute_result"
    }
   ],
   "source": [
    "dataset.longitude.isna().sum()"
   ],
   "metadata": {
    "collapsed": false,
    "ExecuteTime": {
     "end_time": "2023-08-29T21:16:07.056041400Z",
     "start_time": "2023-08-29T21:16:06.968243Z"
    }
   },
   "id": "59232e8b29cea0ca"
  },
  {
   "cell_type": "code",
   "execution_count": 110,
   "outputs": [
    {
     "data": {
      "text/plain": "0"
     },
     "execution_count": 110,
     "metadata": {},
     "output_type": "execute_result"
    }
   ],
   "source": [
    "dataset.latitude.isna().sum()"
   ],
   "metadata": {
    "collapsed": false,
    "ExecuteTime": {
     "end_time": "2023-08-29T21:16:07.057080100Z",
     "start_time": "2023-08-29T21:16:06.999892400Z"
    }
   },
   "id": "8c8d0bb48f1819dc"
  },
  {
   "cell_type": "code",
   "execution_count": 170,
   "outputs": [
    {
     "data": {
      "text/plain": "id_mutation                      object\ndate_mutation                    object\nnature_mutation                  object\nadresse_nom_voie                 object\ncode_postal                     float64\ncode_commune                     object\ncode_departement                 object\nnombre_lots                       int64\ncode_type_local                 float64\nsurface_reelle_bati             float64\nnombre_pieces_principales       float64\ncode_nature_culture              object\ncode_nature_culture_speciale     object\nsurface_terrain                 float64\nvaleur_fonciere                 float64\nlongitude                       float64\nlatitude                        float64\nprefixe_voie                     object\ndtype: object"
     },
     "execution_count": 170,
     "metadata": {},
     "output_type": "execute_result"
    }
   ],
   "source": [
    "dataset.dtypes"
   ],
   "metadata": {
    "collapsed": false,
    "ExecuteTime": {
     "end_time": "2023-08-29T22:05:19.942051800Z",
     "start_time": "2023-08-29T22:05:19.904042400Z"
    }
   },
   "id": "c1d323544c2f2e3d"
  },
  {
   "cell_type": "markdown",
   "source": [
    "# Construction data set modele"
   ],
   "metadata": {
    "collapsed": false
   },
   "id": "b049722fe2a8e209"
  },
  {
   "cell_type": "code",
   "execution_count": 171,
   "outputs": [],
   "source": [
    "classe_liste_nature_mutation = list(dict.fromkeys(list(dataset.nature_mutation.values)))"
   ],
   "metadata": {
    "collapsed": false,
    "ExecuteTime": {
     "end_time": "2023-08-29T22:05:51.721449600Z",
     "start_time": "2023-08-29T22:05:51.569807Z"
    }
   },
   "id": "d736eb863bc08db4"
  },
  {
   "cell_type": "code",
   "execution_count": 172,
   "outputs": [],
   "source": [
    "classe_liste_prefixe_voie = list(dict.fromkeys(codex_voie))"
   ],
   "metadata": {
    "collapsed": false,
    "ExecuteTime": {
     "end_time": "2023-08-29T22:05:59.775887200Z",
     "start_time": "2023-08-29T22:05:59.487901Z"
    }
   },
   "id": "cc7fa6d25879e980"
  },
  {
   "cell_type": "code",
   "execution_count": 173,
   "outputs": [],
   "source": [
    "classe_liste_code_culture = pd.read_csv(filepath_or_buffer='Data_Files/CODE_CULTURE.csv', sep=',')\n",
    "classe_liste_code_culture = list(classe_liste_code_culture['Code_nature_culture'].to_dict().values())"
   ],
   "metadata": {
    "collapsed": false,
    "ExecuteTime": {
     "end_time": "2023-08-29T22:05:59.822880500Z",
     "start_time": "2023-08-29T22:05:59.779889600Z"
    }
   },
   "id": "9b0c72d63c8ef10b"
  },
  {
   "cell_type": "code",
   "execution_count": 174,
   "outputs": [],
   "source": [
    "classe_liste_code_culture_spe = pd.read_csv(filepath_or_buffer='Data_Files/CODE_CULTURE_SPECIALE.csv', sep=',')\n",
    "classe_liste_code_culture_spe = list(classe_liste_code_culture_spe['CODE_CULTURE_SPECIALE'].to_dict().values())"
   ],
   "metadata": {
    "collapsed": false,
    "ExecuteTime": {
     "end_time": "2023-08-29T22:05:59.854974700Z",
     "start_time": "2023-08-29T22:05:59.813887400Z"
    }
   },
   "id": "241ad3a1371acdaa"
  },
  {
   "cell_type": "code",
   "execution_count": 175,
   "outputs": [],
   "source": [
    "Nom_colonnes_from_dataset = [\n",
    "    'date_mutation',\n",
    "    'code_postal',\n",
    "    'code_commune',\n",
    "    'code_departement',\n",
    "    'nombre_lots',\n",
    "    'code_type_local',\n",
    "    'surface_reelle_bati',\n",
    "    'nombre_pieces_principales',\n",
    "    'surface_terrain',\n",
    "    'valeur_fonciere',\n",
    "    'longitude',\n",
    "    'latitude'\n",
    "]"
   ],
   "metadata": {
    "collapsed": false,
    "ExecuteTime": {
     "end_time": "2023-08-29T22:05:59.873977900Z",
     "start_time": "2023-08-29T22:05:59.841898600Z"
    }
   },
   "id": "c3aa3976be10794f"
  },
  {
   "cell_type": "code",
   "execution_count": 176,
   "outputs": [],
   "source": [
    "colonnes = Nom_colonnes_from_dataset + classe_liste_nature_mutation + classe_liste_prefixe_voie + classe_liste_code_culture + classe_liste_code_culture_spe"
   ],
   "metadata": {
    "collapsed": false,
    "ExecuteTime": {
     "end_time": "2023-08-29T22:05:59.886980200Z",
     "start_time": "2023-08-29T22:05:59.857978500Z"
    }
   },
   "id": "9b3dbe4c60676100"
  },
  {
   "cell_type": "code",
   "execution_count": 50,
   "outputs": [],
   "source": [
    "test_id = dataset.id_mutation[0]"
   ],
   "metadata": {
    "collapsed": false,
    "ExecuteTime": {
     "end_time": "2023-08-29T18:04:56.287711800Z",
     "start_time": "2023-08-29T18:04:56.258121700Z"
    }
   },
   "id": "7c838d4441fa6a1d"
  },
  {
   "cell_type": "code",
   "execution_count": 51,
   "outputs": [
    {
     "data": {
      "text/plain": "'2018-1'"
     },
     "execution_count": 51,
     "metadata": {},
     "output_type": "execute_result"
    }
   ],
   "source": [
    "test_id"
   ],
   "metadata": {
    "collapsed": false,
    "ExecuteTime": {
     "end_time": "2023-08-29T18:04:56.387405200Z",
     "start_time": "2023-08-29T18:04:56.280196300Z"
    }
   },
   "id": "437f0f7f89326803"
  },
  {
   "cell_type": "code",
   "execution_count": 165,
   "outputs": [],
   "source": [
    "TEST = dataset.loc[dataset['id_mutation'] == test_id]"
   ],
   "metadata": {
    "collapsed": false,
    "ExecuteTime": {
     "end_time": "2023-08-29T22:00:13.974051900Z",
     "start_time": "2023-08-29T22:00:13.629831600Z"
    }
   },
   "id": "9520248ce9076244"
  },
  {
   "cell_type": "code",
   "execution_count": 187,
   "outputs": [
    {
     "data": {
      "text/plain": "  id_mutation date_mutation nature_mutation adresse_nom_voie  code_postal  \\\n0      2018-1  1514937600.0           Vente  RUE GEN LOGEROT       1000.0   \n1      2018-1  1514937600.0           Vente  RUE GEN LOGEROT       1000.0   \n\n  code_commune code_departement  nombre_lots  code_type_local  \\\n0         1053                1            2              2.0   \n1         1053                1            1              3.0   \n\n   surface_reelle_bati  nombre_pieces_principales code_nature_culture  \\\n0                 73.0                        4.0                       \n1                  0.0                        0.0                       \n\n  code_nature_culture_speciale  surface_terrain  valeur_fonciere  longitude  \\\n0                                           0.0         109000.0    5.22044   \n1                                           0.0         109000.0    5.22044   \n\n    latitude prefixe_voie  \n0  46.200062          RUE  \n1  46.200062          RUE  ",
      "text/html": "<div>\n<style scoped>\n    .dataframe tbody tr th:only-of-type {\n        vertical-align: middle;\n    }\n\n    .dataframe tbody tr th {\n        vertical-align: top;\n    }\n\n    .dataframe thead th {\n        text-align: right;\n    }\n</style>\n<table border=\"1\" class=\"dataframe\">\n  <thead>\n    <tr style=\"text-align: right;\">\n      <th></th>\n      <th>id_mutation</th>\n      <th>date_mutation</th>\n      <th>nature_mutation</th>\n      <th>adresse_nom_voie</th>\n      <th>code_postal</th>\n      <th>code_commune</th>\n      <th>code_departement</th>\n      <th>nombre_lots</th>\n      <th>code_type_local</th>\n      <th>surface_reelle_bati</th>\n      <th>nombre_pieces_principales</th>\n      <th>code_nature_culture</th>\n      <th>code_nature_culture_speciale</th>\n      <th>surface_terrain</th>\n      <th>valeur_fonciere</th>\n      <th>longitude</th>\n      <th>latitude</th>\n      <th>prefixe_voie</th>\n    </tr>\n  </thead>\n  <tbody>\n    <tr>\n      <th>0</th>\n      <td>2018-1</td>\n      <td>1514937600.0</td>\n      <td>Vente</td>\n      <td>RUE GEN LOGEROT</td>\n      <td>1000.0</td>\n      <td>1053</td>\n      <td>1</td>\n      <td>2</td>\n      <td>2.0</td>\n      <td>73.0</td>\n      <td>4.0</td>\n      <td></td>\n      <td></td>\n      <td>0.0</td>\n      <td>109000.0</td>\n      <td>5.22044</td>\n      <td>46.200062</td>\n      <td>RUE</td>\n    </tr>\n    <tr>\n      <th>1</th>\n      <td>2018-1</td>\n      <td>1514937600.0</td>\n      <td>Vente</td>\n      <td>RUE GEN LOGEROT</td>\n      <td>1000.0</td>\n      <td>1053</td>\n      <td>1</td>\n      <td>1</td>\n      <td>3.0</td>\n      <td>0.0</td>\n      <td>0.0</td>\n      <td></td>\n      <td></td>\n      <td>0.0</td>\n      <td>109000.0</td>\n      <td>5.22044</td>\n      <td>46.200062</td>\n      <td>RUE</td>\n    </tr>\n  </tbody>\n</table>\n</div>"
     },
     "execution_count": 187,
     "metadata": {},
     "output_type": "execute_result"
    }
   ],
   "source": [
    "TEST"
   ],
   "metadata": {
    "collapsed": false,
    "ExecuteTime": {
     "end_time": "2023-08-29T22:22:27.186390900Z",
     "start_time": "2023-08-29T22:22:27.116112200Z"
    }
   },
   "id": "9a94130803c22c49"
  },
  {
   "cell_type": "code",
   "execution_count": 181,
   "outputs": [],
   "source": [
    "assert 1 == len(pd.unique(TEST.date_mutation))\n",
    "assert 1 == len(pd.unique(TEST.valeur_fonciere))\n",
    "assert 1 == len(pd.unique(TEST.code_postal))\n",
    "assert 1 == len(pd.unique(TEST.code_commune))\n",
    "assert 1 == len(pd.unique(TEST.code_departement))"
   ],
   "metadata": {
    "collapsed": false,
    "ExecuteTime": {
     "end_time": "2023-08-29T22:11:41.143358Z",
     "start_time": "2023-08-29T22:11:41.096275600Z"
    }
   },
   "id": "aa30ba5d5c18403"
  },
  {
   "cell_type": "code",
   "execution_count": 203,
   "outputs": [],
   "source": [
    "# valeur prefixe voie\n",
    "\n",
    "tmp_abbrev_voie = TEST.loc[:, 'prefixe_voie']\n",
    "ajout_abbrev_voie = []\n",
    "\n",
    "for abbrev_voie in classe_liste_prefixe_voie:\n",
    "    ajout_abbrev_voie.append(TEST.loc[TEST['prefixe_voie'] == abbrev_voie, 'prefixe_voie'].size)"
   ],
   "metadata": {
    "collapsed": false,
    "ExecuteTime": {
     "end_time": "2023-08-29T22:37:34.269915500Z",
     "start_time": "2023-08-29T22:37:34.230257600Z"
    }
   },
   "id": "bccb4f77a30330e7"
  },
  {
   "cell_type": "code",
   "execution_count": 196,
   "outputs": [
    {
     "data": {
      "text/plain": "0"
     },
     "execution_count": 196,
     "metadata": {},
     "output_type": "execute_result"
    }
   ],
   "source": [
    "TEST.loc[TEST['prefixe_voie'] == 'ALL', 'prefixe_voie'].size"
   ],
   "metadata": {
    "collapsed": false,
    "ExecuteTime": {
     "end_time": "2023-08-29T22:30:00.054847500Z",
     "start_time": "2023-08-29T22:30:00.043860300Z"
    }
   },
   "id": "b84b9e718aba9dad"
  },
  {
   "cell_type": "code",
   "execution_count": 197,
   "outputs": [],
   "source": [
    "a = []"
   ],
   "metadata": {
    "collapsed": false,
    "ExecuteTime": {
     "end_time": "2023-08-29T22:30:47.087679300Z",
     "start_time": "2023-08-29T22:30:47.010808400Z"
    }
   },
   "id": "76165eccb2a49a73"
  },
  {
   "cell_type": "code",
   "execution_count": 202,
   "outputs": [
    {
     "data": {
      "text/plain": "[2, 2, 3, 3]"
     },
     "execution_count": 202,
     "metadata": {},
     "output_type": "execute_result"
    }
   ],
   "source": [
    "a = a + [3]\n",
    "a"
   ],
   "metadata": {
    "collapsed": false,
    "ExecuteTime": {
     "end_time": "2023-08-29T22:31:22.835594100Z",
     "start_time": "2023-08-29T22:31:22.817220400Z"
    }
   },
   "id": "2285c6d93b15af5e"
  },
  {
   "cell_type": "code",
   "execution_count": 177,
   "outputs": [],
   "source": [
    "tmp = pd.DataFrame(columns=colonnes)"
   ],
   "metadata": {
    "collapsed": false,
    "ExecuteTime": {
     "end_time": "2023-08-29T22:07:34.183381400Z",
     "start_time": "2023-08-29T22:07:34.129497700Z"
    }
   },
   "id": "30f16d2b86554f71"
  },
  {
   "cell_type": "code",
   "execution_count": 185,
   "outputs": [
    {
     "data": {
      "text/plain": "Empty DataFrame\nColumns: [date_mutation, code_postal, code_commune, code_departement, nombre_lots, code_type_local, surface_reelle_bati, nombre_pieces_principales, surface_terrain, valeur_fonciere, longitude, latitude, Vente, Vente en l'état futur d'achèvement, Echange, Vente terrain à bâtir, Adjudication, Expropriation, RUE, AUTRE, PONT, ALL, AV, RTE, PRE, PL, QUAI, BD, IMP, CHEM, LOT, A, BOIS, CLOS, PROM, COTE, VC, RLE, CRS, MONT, MARE, HAM, ILE, MAIL, FOND, RES, VOIE, CITE, ST, ZA, PTR, ZI, CHAT, PORT, TOUR, PARC, SQ, RPE, CR, ESC, CD, DOM, GARE, VAL, FONT, FBG, CHP, PASS, ESP, FORT, VALL, VEN, LDT, CHAL, MARC, MAIS, RN, CHAU, SENT, BRG, PRAI, GAL, JARD, PKG, PAL, PLAI, PEL, CAS, PAV, RDPT, AB, AG, B, BF, BM, BO, BP, BR, BS, BT, ...]\nIndex: []\n\n[0 rows x 270 columns]",
      "text/html": "<div>\n<style scoped>\n    .dataframe tbody tr th:only-of-type {\n        vertical-align: middle;\n    }\n\n    .dataframe tbody tr th {\n        vertical-align: top;\n    }\n\n    .dataframe thead th {\n        text-align: right;\n    }\n</style>\n<table border=\"1\" class=\"dataframe\">\n  <thead>\n    <tr style=\"text-align: right;\">\n      <th></th>\n      <th>date_mutation</th>\n      <th>code_postal</th>\n      <th>code_commune</th>\n      <th>code_departement</th>\n      <th>nombre_lots</th>\n      <th>code_type_local</th>\n      <th>surface_reelle_bati</th>\n      <th>nombre_pieces_principales</th>\n      <th>surface_terrain</th>\n      <th>valeur_fonciere</th>\n      <th>...</th>\n      <th>TOURB</th>\n      <th>TOUYA</th>\n      <th>VADC</th>\n      <th>VAGUE</th>\n      <th>VANIL</th>\n      <th>VAOC</th>\n      <th>VCHAS</th>\n      <th>VDQS</th>\n      <th>VIGNE</th>\n      <th>VIVIE</th>\n    </tr>\n  </thead>\n  <tbody>\n  </tbody>\n</table>\n<p>0 rows × 270 columns</p>\n</div>"
     },
     "execution_count": 185,
     "metadata": {},
     "output_type": "execute_result"
    }
   ],
   "source": [
    "tmp"
   ],
   "metadata": {
    "collapsed": false,
    "ExecuteTime": {
     "end_time": "2023-08-29T22:18:20.249818300Z",
     "start_time": "2023-08-29T22:18:20.217768100Z"
    }
   },
   "id": "7df595847f721706"
  },
  {
   "cell_type": "code",
   "execution_count": 184,
   "outputs": [],
   "source": [
    "tmp.valeur_fonciere = TEST.loc[0, 'valeur_fonciere']"
   ],
   "metadata": {
    "collapsed": false,
    "ExecuteTime": {
     "end_time": "2023-08-29T22:18:14.165160600Z",
     "start_time": "2023-08-29T22:18:14.149452100Z"
    }
   },
   "id": "795101e77f3ee4f7"
  },
  {
   "cell_type": "code",
   "execution_count": 19,
   "outputs": [],
   "source": [
    "# Sortie de la colonne resultat\n",
    "\n",
    "## Y = df.valeur_fonciere"
   ],
   "metadata": {
    "collapsed": false,
    "ExecuteTime": {
     "end_time": "2023-08-29T11:54:36.886933600Z",
     "start_time": "2023-08-29T11:54:36.871901600Z"
    }
   },
   "id": "1b3922c306493006"
  }
 ],
 "metadata": {
  "kernelspec": {
   "display_name": "Python 3",
   "language": "python",
   "name": "python3"
  },
  "language_info": {
   "codemirror_mode": {
    "name": "ipython",
    "version": 2
   },
   "file_extension": ".py",
   "mimetype": "text/x-python",
   "name": "python",
   "nbconvert_exporter": "python",
   "pygments_lexer": "ipython2",
   "version": "2.7.6"
  }
 },
 "nbformat": 4,
 "nbformat_minor": 5
}
