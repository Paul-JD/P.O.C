{
 "cells": [
  {
   "cell_type": "code",
   "execution_count": 1,
   "id": "initial_id",
   "metadata": {
    "collapsed": true,
    "ExecuteTime": {
     "end_time": "2023-08-30T10:05:10.856365600Z",
     "start_time": "2023-08-30T10:04:58.353475800Z"
    }
   },
   "outputs": [],
   "source": [
    "import gzip\n",
    "import opener\n",
    "import pandas as pd\n",
    "import io\n",
    "import requests\n",
    "from sklearn import preprocessing\n",
    "from sklearn.model_selection import train_test_split\n",
    "from sklearn.ensemble import RandomForestClassifier\n",
    "import numpy as np\n",
    "from collections import Counter"
   ]
  },
  {
   "cell_type": "code",
   "execution_count": 2,
   "outputs": [],
   "source": [
    "url = \"https://files.data.gouv.fr/geo-dvf/latest/csv/2018/full.csv.gz\"\n",
    "req = requests.get(url)"
   ],
   "metadata": {
    "collapsed": false,
    "ExecuteTime": {
     "end_time": "2023-08-30T10:05:44.630192500Z",
     "start_time": "2023-08-30T10:05:10.856365600Z"
    }
   },
   "id": "2ee85954a7585345"
  },
  {
   "cell_type": "code",
   "execution_count": 3,
   "outputs": [],
   "source": [
    "t = req.content"
   ],
   "metadata": {
    "collapsed": false,
    "ExecuteTime": {
     "end_time": "2023-08-30T10:05:44.645658700Z",
     "start_time": "2023-08-30T10:05:44.630192500Z"
    }
   },
   "id": "a0f8f2266c261484"
  },
  {
   "cell_type": "code",
   "execution_count": 4,
   "outputs": [],
   "source": [
    "s = gzip.decompress(t)"
   ],
   "metadata": {
    "collapsed": false,
    "ExecuteTime": {
     "end_time": "2023-08-30T10:05:46.874057400Z",
     "start_time": "2023-08-30T10:05:44.645658700Z"
    }
   },
   "id": "ed9fea5b0affa2d1"
  },
  {
   "cell_type": "code",
   "execution_count": 5,
   "outputs": [
    {
     "name": "stderr",
     "output_type": "stream",
     "text": [
      "C:\\Users\\dargo\\AppData\\Local\\Temp\\ipykernel_12224\\798997524.py:1: DtypeWarning: Columns (8,10,12,14,16,17,18,20,22,26,35,36) have mixed types. Specify dtype option on import or set low_memory=False.\n",
      "  df = pd.read_csv(io.BytesIO(s))\n"
     ]
    }
   ],
   "source": [
    "df = pd.read_csv(io.BytesIO(s))"
   ],
   "metadata": {
    "collapsed": false,
    "ExecuteTime": {
     "end_time": "2023-08-30T10:06:00.521113400Z",
     "start_time": "2023-08-30T10:05:46.874057400Z"
    }
   },
   "id": "932b5e490983f2cc"
  },
  {
   "cell_type": "code",
   "execution_count": 6,
   "outputs": [
    {
     "data": {
      "text/plain": "          id_mutation date_mutation  numero_disposition nature_mutation  \\\n0              2018-1    2018-01-03                   1           Vente   \n1              2018-1    2018-01-03                   1           Vente   \n2              2018-2    2018-01-04                   1           Vente   \n3              2018-2    2018-01-04                   1           Vente   \n4              2018-2    2018-01-04                   1           Vente   \n...               ...           ...                 ...             ...   \n3335287  2018-1434017    2018-12-28                   1           Vente   \n3335288  2018-1434018    2018-12-03                   1           Vente   \n3335289  2018-1434019    2018-12-28                   1           Vente   \n3335290  2018-1434020    2018-12-13                   1    Adjudication   \n3335291  2018-1434021    2018-10-17                   1           Vente   \n\n         valeur_fonciere  adresse_numero adresse_suffixe  \\\n0               109000.0            13.0             NaN   \n1               109000.0            13.0             NaN   \n2               239300.0             4.0             NaN   \n3               239300.0             4.0             NaN   \n4               239300.0             4.0             NaN   \n...                  ...             ...             ...   \n3335287        1192307.0             1.0             NaN   \n3335288         383000.0            12.0             NaN   \n3335289         746000.0            18.0             NaN   \n3335290         645000.0             9.0             NaN   \n3335291          45000.0           273.0             NaN   \n\n                  adresse_nom_voie adresse_code_voie  code_postal  ...  \\\n0                  RUE GEN LOGEROT              1660       1000.0  ...   \n1                  RUE GEN LOGEROT              1660       1000.0  ...   \n2               RUE DE LA BARMETTE              0025       1250.0  ...   \n3               RUE DE LA BARMETTE              0025       1250.0  ...   \n4               RUE DE LA BARMETTE              0025       1250.0  ...   \n...                            ...               ...          ...  ...   \n3335287               PAS CHOISEUL              2012      75002.0  ...   \n3335288           RUE POISSONNIERE              7561      75002.0  ...   \n3335289  RUE STE CROIX BRETONNERIE              8548      75004.0  ...   \n3335290                 BD MORLAND              6559      75004.0  ...   \n3335291            RUE SAINT-DENIS              8525      75002.0  ...   \n\n                                       type_local surface_reelle_bati  \\\n0                                     Appartement                73.0   \n1                                      Dépendance                 NaN   \n2                                          Maison               163.0   \n3                                          Maison               163.0   \n4                                          Maison                51.0   \n...                                           ...                 ...   \n3335287                               Appartement               150.0   \n3335288                               Appartement                34.0   \n3335289  Local industriel. commercial ou assimilé                60.0   \n3335290                               Appartement                54.0   \n3335291                               Appartement                11.0   \n\n        nombre_pieces_principales  code_nature_culture       nature_culture  \\\n0                             4.0                  NaN                  NaN   \n1                             0.0                  NaN                  NaN   \n2                             4.0                    S                 sols   \n3                             4.0                   AG  terrains d'agrément   \n4                             2.0                   AG  terrains d'agrément   \n...                           ...                  ...                  ...   \n3335287                       4.0                  NaN                  NaN   \n3335288                       1.0                  NaN                  NaN   \n3335289                       0.0                  NaN                  NaN   \n3335290                       2.0                  NaN                  NaN   \n3335291                       1.0                  NaN                  NaN   \n\n        code_nature_culture_speciale nature_culture_speciale surface_terrain  \\\n0                                NaN                     NaN             NaN   \n1                                NaN                     NaN             NaN   \n2                                NaN                     NaN           949.0   \n3                               JARD       Jardin d'agrément           420.0   \n4                               JARD       Jardin d'agrément           420.0   \n...                              ...                     ...             ...   \n3335287                          NaN                     NaN             NaN   \n3335288                          NaN                     NaN             NaN   \n3335289                          NaN                     NaN             NaN   \n3335290                          NaN                     NaN             NaN   \n3335291                          NaN                     NaN             NaN   \n\n        longitude   latitude  \n0        5.220440  46.200062  \n1        5.220440  46.200062  \n2        5.408041  46.255562  \n3        5.408041  46.255562  \n4        5.408041  46.255562  \n...           ...        ...  \n3335287  2.335139  48.867253  \n3335288  2.347989  48.869018  \n3335289  2.356566  48.858267  \n3335290  2.364563  48.848333  \n3335291  2.351642  48.868708  \n\n[3335292 rows x 40 columns]",
      "text/html": "<div>\n<style scoped>\n    .dataframe tbody tr th:only-of-type {\n        vertical-align: middle;\n    }\n\n    .dataframe tbody tr th {\n        vertical-align: top;\n    }\n\n    .dataframe thead th {\n        text-align: right;\n    }\n</style>\n<table border=\"1\" class=\"dataframe\">\n  <thead>\n    <tr style=\"text-align: right;\">\n      <th></th>\n      <th>id_mutation</th>\n      <th>date_mutation</th>\n      <th>numero_disposition</th>\n      <th>nature_mutation</th>\n      <th>valeur_fonciere</th>\n      <th>adresse_numero</th>\n      <th>adresse_suffixe</th>\n      <th>adresse_nom_voie</th>\n      <th>adresse_code_voie</th>\n      <th>code_postal</th>\n      <th>...</th>\n      <th>type_local</th>\n      <th>surface_reelle_bati</th>\n      <th>nombre_pieces_principales</th>\n      <th>code_nature_culture</th>\n      <th>nature_culture</th>\n      <th>code_nature_culture_speciale</th>\n      <th>nature_culture_speciale</th>\n      <th>surface_terrain</th>\n      <th>longitude</th>\n      <th>latitude</th>\n    </tr>\n  </thead>\n  <tbody>\n    <tr>\n      <th>0</th>\n      <td>2018-1</td>\n      <td>2018-01-03</td>\n      <td>1</td>\n      <td>Vente</td>\n      <td>109000.0</td>\n      <td>13.0</td>\n      <td>NaN</td>\n      <td>RUE GEN LOGEROT</td>\n      <td>1660</td>\n      <td>1000.0</td>\n      <td>...</td>\n      <td>Appartement</td>\n      <td>73.0</td>\n      <td>4.0</td>\n      <td>NaN</td>\n      <td>NaN</td>\n      <td>NaN</td>\n      <td>NaN</td>\n      <td>NaN</td>\n      <td>5.220440</td>\n      <td>46.200062</td>\n    </tr>\n    <tr>\n      <th>1</th>\n      <td>2018-1</td>\n      <td>2018-01-03</td>\n      <td>1</td>\n      <td>Vente</td>\n      <td>109000.0</td>\n      <td>13.0</td>\n      <td>NaN</td>\n      <td>RUE GEN LOGEROT</td>\n      <td>1660</td>\n      <td>1000.0</td>\n      <td>...</td>\n      <td>Dépendance</td>\n      <td>NaN</td>\n      <td>0.0</td>\n      <td>NaN</td>\n      <td>NaN</td>\n      <td>NaN</td>\n      <td>NaN</td>\n      <td>NaN</td>\n      <td>5.220440</td>\n      <td>46.200062</td>\n    </tr>\n    <tr>\n      <th>2</th>\n      <td>2018-2</td>\n      <td>2018-01-04</td>\n      <td>1</td>\n      <td>Vente</td>\n      <td>239300.0</td>\n      <td>4.0</td>\n      <td>NaN</td>\n      <td>RUE DE LA BARMETTE</td>\n      <td>0025</td>\n      <td>1250.0</td>\n      <td>...</td>\n      <td>Maison</td>\n      <td>163.0</td>\n      <td>4.0</td>\n      <td>S</td>\n      <td>sols</td>\n      <td>NaN</td>\n      <td>NaN</td>\n      <td>949.0</td>\n      <td>5.408041</td>\n      <td>46.255562</td>\n    </tr>\n    <tr>\n      <th>3</th>\n      <td>2018-2</td>\n      <td>2018-01-04</td>\n      <td>1</td>\n      <td>Vente</td>\n      <td>239300.0</td>\n      <td>4.0</td>\n      <td>NaN</td>\n      <td>RUE DE LA BARMETTE</td>\n      <td>0025</td>\n      <td>1250.0</td>\n      <td>...</td>\n      <td>Maison</td>\n      <td>163.0</td>\n      <td>4.0</td>\n      <td>AG</td>\n      <td>terrains d'agrément</td>\n      <td>JARD</td>\n      <td>Jardin d'agrément</td>\n      <td>420.0</td>\n      <td>5.408041</td>\n      <td>46.255562</td>\n    </tr>\n    <tr>\n      <th>4</th>\n      <td>2018-2</td>\n      <td>2018-01-04</td>\n      <td>1</td>\n      <td>Vente</td>\n      <td>239300.0</td>\n      <td>4.0</td>\n      <td>NaN</td>\n      <td>RUE DE LA BARMETTE</td>\n      <td>0025</td>\n      <td>1250.0</td>\n      <td>...</td>\n      <td>Maison</td>\n      <td>51.0</td>\n      <td>2.0</td>\n      <td>AG</td>\n      <td>terrains d'agrément</td>\n      <td>JARD</td>\n      <td>Jardin d'agrément</td>\n      <td>420.0</td>\n      <td>5.408041</td>\n      <td>46.255562</td>\n    </tr>\n    <tr>\n      <th>...</th>\n      <td>...</td>\n      <td>...</td>\n      <td>...</td>\n      <td>...</td>\n      <td>...</td>\n      <td>...</td>\n      <td>...</td>\n      <td>...</td>\n      <td>...</td>\n      <td>...</td>\n      <td>...</td>\n      <td>...</td>\n      <td>...</td>\n      <td>...</td>\n      <td>...</td>\n      <td>...</td>\n      <td>...</td>\n      <td>...</td>\n      <td>...</td>\n      <td>...</td>\n      <td>...</td>\n    </tr>\n    <tr>\n      <th>3335287</th>\n      <td>2018-1434017</td>\n      <td>2018-12-28</td>\n      <td>1</td>\n      <td>Vente</td>\n      <td>1192307.0</td>\n      <td>1.0</td>\n      <td>NaN</td>\n      <td>PAS CHOISEUL</td>\n      <td>2012</td>\n      <td>75002.0</td>\n      <td>...</td>\n      <td>Appartement</td>\n      <td>150.0</td>\n      <td>4.0</td>\n      <td>NaN</td>\n      <td>NaN</td>\n      <td>NaN</td>\n      <td>NaN</td>\n      <td>NaN</td>\n      <td>2.335139</td>\n      <td>48.867253</td>\n    </tr>\n    <tr>\n      <th>3335288</th>\n      <td>2018-1434018</td>\n      <td>2018-12-03</td>\n      <td>1</td>\n      <td>Vente</td>\n      <td>383000.0</td>\n      <td>12.0</td>\n      <td>NaN</td>\n      <td>RUE POISSONNIERE</td>\n      <td>7561</td>\n      <td>75002.0</td>\n      <td>...</td>\n      <td>Appartement</td>\n      <td>34.0</td>\n      <td>1.0</td>\n      <td>NaN</td>\n      <td>NaN</td>\n      <td>NaN</td>\n      <td>NaN</td>\n      <td>NaN</td>\n      <td>2.347989</td>\n      <td>48.869018</td>\n    </tr>\n    <tr>\n      <th>3335289</th>\n      <td>2018-1434019</td>\n      <td>2018-12-28</td>\n      <td>1</td>\n      <td>Vente</td>\n      <td>746000.0</td>\n      <td>18.0</td>\n      <td>NaN</td>\n      <td>RUE STE CROIX BRETONNERIE</td>\n      <td>8548</td>\n      <td>75004.0</td>\n      <td>...</td>\n      <td>Local industriel. commercial ou assimilé</td>\n      <td>60.0</td>\n      <td>0.0</td>\n      <td>NaN</td>\n      <td>NaN</td>\n      <td>NaN</td>\n      <td>NaN</td>\n      <td>NaN</td>\n      <td>2.356566</td>\n      <td>48.858267</td>\n    </tr>\n    <tr>\n      <th>3335290</th>\n      <td>2018-1434020</td>\n      <td>2018-12-13</td>\n      <td>1</td>\n      <td>Adjudication</td>\n      <td>645000.0</td>\n      <td>9.0</td>\n      <td>NaN</td>\n      <td>BD MORLAND</td>\n      <td>6559</td>\n      <td>75004.0</td>\n      <td>...</td>\n      <td>Appartement</td>\n      <td>54.0</td>\n      <td>2.0</td>\n      <td>NaN</td>\n      <td>NaN</td>\n      <td>NaN</td>\n      <td>NaN</td>\n      <td>NaN</td>\n      <td>2.364563</td>\n      <td>48.848333</td>\n    </tr>\n    <tr>\n      <th>3335291</th>\n      <td>2018-1434021</td>\n      <td>2018-10-17</td>\n      <td>1</td>\n      <td>Vente</td>\n      <td>45000.0</td>\n      <td>273.0</td>\n      <td>NaN</td>\n      <td>RUE SAINT-DENIS</td>\n      <td>8525</td>\n      <td>75002.0</td>\n      <td>...</td>\n      <td>Appartement</td>\n      <td>11.0</td>\n      <td>1.0</td>\n      <td>NaN</td>\n      <td>NaN</td>\n      <td>NaN</td>\n      <td>NaN</td>\n      <td>NaN</td>\n      <td>2.351642</td>\n      <td>48.868708</td>\n    </tr>\n  </tbody>\n</table>\n<p>3335292 rows × 40 columns</p>\n</div>"
     },
     "execution_count": 6,
     "metadata": {},
     "output_type": "execute_result"
    }
   ],
   "source": [
    "df"
   ],
   "metadata": {
    "collapsed": false,
    "ExecuteTime": {
     "end_time": "2023-08-30T10:06:02.412887500Z",
     "start_time": "2023-08-30T10:06:00.521113400Z"
    }
   },
   "id": "4731601fb91a0edf"
  },
  {
   "cell_type": "code",
   "execution_count": 129,
   "outputs": [],
   "source": [
    "# suppression valeur fonciere nulle\n",
    "\n",
    "df.dropna(subset=['valeur_fonciere'], inplace=True)\n",
    "df.dropna(subset=['longitude', 'latitude'], inplace=True)"
   ],
   "metadata": {
    "collapsed": false,
    "ExecuteTime": {
     "end_time": "2023-08-30T11:41:28.240159700Z",
     "start_time": "2023-08-30T11:41:24.927777100Z"
    }
   },
   "id": "8a4eef8c0ec9fe2c"
  },
  {
   "cell_type": "code",
   "execution_count": 130,
   "outputs": [],
   "source": [
    "# Selection des colonnes utiles\n",
    "\n",
    "dataset = df[['id_mutation',\n",
    "              'date_mutation',\n",
    "              'nature_mutation',\n",
    "              'adresse_nom_voie',\n",
    "              'code_postal',\n",
    "              'code_commune',\n",
    "              'code_departement',\n",
    "              'nombre_lots',\n",
    "              'type_local',\n",
    "              'surface_reelle_bati',\n",
    "              'nombre_pieces_principales',\n",
    "              'code_nature_culture',\n",
    "              'code_nature_culture_speciale',\n",
    "              'surface_terrain',\n",
    "              'valeur_fonciere',\n",
    "              'longitude',\n",
    "              'latitude'\n",
    "              ]]"
   ],
   "metadata": {
    "collapsed": false,
    "ExecuteTime": {
     "end_time": "2023-08-30T11:41:28.755243900Z",
     "start_time": "2023-08-30T11:41:28.240159700Z"
    }
   },
   "id": "e56e372dae07f21d"
  },
  {
   "cell_type": "code",
   "execution_count": 131,
   "outputs": [],
   "source": [
    "# del df"
   ],
   "metadata": {
    "collapsed": false,
    "ExecuteTime": {
     "end_time": "2023-08-30T11:41:28.770870300Z",
     "start_time": "2023-08-30T11:41:28.755243900Z"
    }
   },
   "id": "b5c88c697d2a8201"
  },
  {
   "cell_type": "markdown",
   "source": [
    "# Cleaning"
   ],
   "metadata": {
    "collapsed": false
   },
   "id": "b8c6572facca896a"
  },
  {
   "cell_type": "code",
   "execution_count": 132,
   "outputs": [
    {
     "data": {
      "text/plain": "(3201638, 17)"
     },
     "execution_count": 132,
     "metadata": {},
     "output_type": "execute_result"
    }
   ],
   "source": [
    "dataset.shape"
   ],
   "metadata": {
    "collapsed": false,
    "ExecuteTime": {
     "end_time": "2023-08-30T11:41:28.802109300Z",
     "start_time": "2023-08-30T11:41:28.770870300Z"
    }
   },
   "id": "fe6ac2634226c233"
  },
  {
   "cell_type": "markdown",
   "source": [
    "### Date mutation cleaning"
   ],
   "metadata": {
    "collapsed": false
   },
   "id": "4da7ef45987f3d39"
  },
  {
   "cell_type": "code",
   "execution_count": 133,
   "outputs": [],
   "source": [
    "# Passage de la colonnes date mutation en datetime puis en seconde pour avoir des int\n",
    "\n",
    "dataset.loc[:, 'date_mutation'] = pd.to_datetime(dataset['date_mutation'], format='mixed')\n",
    "dataset.loc[:, 'date_mutation'] = dataset['date_mutation'].apply(lambda x: x.timestamp())"
   ],
   "metadata": {
    "collapsed": false,
    "ExecuteTime": {
     "end_time": "2023-08-30T11:41:47.801138100Z",
     "start_time": "2023-08-30T11:41:33.947099500Z"
    }
   },
   "id": "410b6bd7489f0c65"
  },
  {
   "cell_type": "code",
   "execution_count": 134,
   "outputs": [],
   "source": [
    "# Remplissage des valeurs NaN nature_mutation et labelisation\n",
    "\n",
    "dataset.loc[:, 'nature_mutation'] = dataset.nature_mutation.fillna(\"\")"
   ],
   "metadata": {
    "collapsed": false,
    "ExecuteTime": {
     "end_time": "2023-08-30T11:41:48.060409400Z",
     "start_time": "2023-08-30T11:41:47.801138100Z"
    }
   },
   "id": "55ea0df08ab8429f"
  },
  {
   "cell_type": "markdown",
   "source": [
    "NM = preprocessing.LabelEncoder()\n",
    "NM.fit(dataset['nature_mutation'])\n",
    "dataset.loc[:, 'nature_mutation'] = NM.transform(dataset['nature_mutation'])"
   ],
   "metadata": {
    "collapsed": false
   },
   "id": "9bbe127e6e9d3727"
  },
  {
   "cell_type": "markdown",
   "source": [
    "### Adresse nom voie cleaning"
   ],
   "metadata": {
    "collapsed": false
   },
   "id": "bc749794b07b0da3"
  },
  {
   "cell_type": "code",
   "execution_count": 135,
   "outputs": [],
   "source": [
    "abrv_voie = pd.read_csv(filepath_or_buffer='Data_Files/ABREVIATION_VOIE.csv', sep=',').values"
   ],
   "metadata": {
    "collapsed": false,
    "ExecuteTime": {
     "end_time": "2023-08-30T11:41:48.096821400Z",
     "start_time": "2023-08-30T11:41:48.060409400Z"
    }
   },
   "id": "8465c1c51bdec236"
  },
  {
   "cell_type": "code",
   "execution_count": 136,
   "outputs": [
    {
     "name": "stderr",
     "output_type": "stream",
     "text": [
      "C:\\Users\\dargo\\AppData\\Local\\Temp\\ipykernel_12224\\2922452403.py:14: SettingWithCopyWarning: \n",
      "A value is trying to be set on a copy of a slice from a DataFrame.\n",
      "Try using .loc[row_indexer,col_indexer] = value instead\n",
      "\n",
      "See the caveats in the documentation: https://pandas.pydata.org/pandas-docs/stable/user_guide/indexing.html#returning-a-view-versus-a-copy\n",
      "  dataset.loc[:, 'prefixe_voie'] = codex_voie\n"
     ]
    }
   ],
   "source": [
    "dataset.loc[:, 'adresse_nom_voie'] = dataset.adresse_nom_voie.fillna(\"\")\n",
    "\n",
    "codex_voie = list()\n",
    "for i in dataset.adresse_nom_voie.values:\n",
    "\n",
    "    list_nom_rue = i.split(' ')\n",
    "    premier_valeur_liste = list_nom_rue[0]\n",
    "\n",
    "    if premier_valeur_liste in abrv_voie:\n",
    "        codex_voie.append(premier_valeur_liste)\n",
    "    else:\n",
    "        codex_voie.append('AUTRE')\n",
    "\n",
    "dataset.loc[:, 'prefixe_voie'] = codex_voie"
   ],
   "metadata": {
    "collapsed": false,
    "ExecuteTime": {
     "end_time": "2023-08-30T11:42:15.809479500Z",
     "start_time": "2023-08-30T11:41:48.096821400Z"
    }
   },
   "id": "1109a459bcdc1b60"
  },
  {
   "cell_type": "markdown",
   "source": [
    "CV = preprocessing.LabelEncoder()\n",
    "CV.fit(dataset.prefixe_voie)\n",
    "dataset.loc[:,'prefixe_voie'] = CV.transform(dataset.prefixe_voie)"
   ],
   "metadata": {
    "collapsed": false
   },
   "id": "e9df4c03294ab1a"
  },
  {
   "cell_type": "markdown",
   "source": [
    "### Multiple easy Cleaning"
   ],
   "metadata": {
    "collapsed": false
   },
   "id": "e52995de51908ce9"
  },
  {
   "cell_type": "code",
   "execution_count": 137,
   "outputs": [],
   "source": [
    "dataset.loc[:, 'code_postal'] = dataset.code_postal.fillna(0)"
   ],
   "metadata": {
    "collapsed": false,
    "ExecuteTime": {
     "end_time": "2023-08-30T11:42:15.887766100Z",
     "start_time": "2023-08-30T11:42:15.809479500Z"
    }
   },
   "id": "9a31b10f690da8e7"
  },
  {
   "cell_type": "code",
   "execution_count": 139,
   "outputs": [],
   "source": [
    "dataset.loc[:, 'surface_reelle_bati'] = dataset.surface_reelle_bati.fillna(0)\n",
    "dataset.loc[:, 'surface_terrain'] = dataset.surface_terrain.fillna(0)\n",
    "dataset.loc[:, 'type_local'] = dataset.type_local.fillna('Autre')\n",
    "dataset.loc[:, 'nombre_pieces_principales'] = dataset.nombre_pieces_principales.fillna(0)"
   ],
   "metadata": {
    "collapsed": false,
    "ExecuteTime": {
     "end_time": "2023-08-30T11:42:34.236153900Z",
     "start_time": "2023-08-30T11:42:33.859292600Z"
    }
   },
   "id": "6b61f19cf0aceb"
  },
  {
   "cell_type": "code",
   "execution_count": 140,
   "outputs": [],
   "source": [
    "dataset.loc[:, 'code_nature_culture'] = dataset.code_nature_culture.fillna(\"\")\n",
    "dataset.loc[:, 'code_nature_culture_speciale'] = dataset.code_nature_culture_speciale.fillna(\"\")"
   ],
   "metadata": {
    "collapsed": false,
    "ExecuteTime": {
     "end_time": "2023-08-30T11:42:39.930763500Z",
     "start_time": "2023-08-30T11:42:39.509085400Z"
    }
   },
   "id": "5f406383cd6b6ab1"
  },
  {
   "cell_type": "markdown",
   "source": [
    "### Latitude & longitude"
   ],
   "metadata": {
    "collapsed": false
   },
   "id": "8987fac75112dc2f"
  },
  {
   "cell_type": "code",
   "execution_count": 141,
   "outputs": [
    {
     "data": {
      "text/plain": "0"
     },
     "execution_count": 141,
     "metadata": {},
     "output_type": "execute_result"
    }
   ],
   "source": [
    "dataset.longitude.isna().sum()"
   ],
   "metadata": {
    "collapsed": false,
    "ExecuteTime": {
     "end_time": "2023-08-30T11:42:40.009049200Z",
     "start_time": "2023-08-30T11:42:39.930763500Z"
    }
   },
   "id": "59232e8b29cea0ca"
  },
  {
   "cell_type": "code",
   "execution_count": 142,
   "outputs": [
    {
     "data": {
      "text/plain": "0"
     },
     "execution_count": 142,
     "metadata": {},
     "output_type": "execute_result"
    }
   ],
   "source": [
    "dataset.latitude.isna().sum()"
   ],
   "metadata": {
    "collapsed": false,
    "ExecuteTime": {
     "end_time": "2023-08-30T11:42:45.189621500Z",
     "start_time": "2023-08-30T11:42:45.174165100Z"
    }
   },
   "id": "8c8d0bb48f1819dc"
  },
  {
   "cell_type": "code",
   "execution_count": 143,
   "outputs": [
    {
     "data": {
      "text/plain": "id_mutation                      object\ndate_mutation                    object\nnature_mutation                  object\nadresse_nom_voie                 object\ncode_postal                     float64\ncode_commune                     object\ncode_departement                 object\nnombre_lots                       int64\ntype_local                       object\nsurface_reelle_bati             float64\nnombre_pieces_principales       float64\ncode_nature_culture              object\ncode_nature_culture_speciale     object\nsurface_terrain                 float64\nvaleur_fonciere                 float64\nlongitude                       float64\nlatitude                        float64\nprefixe_voie                     object\ndtype: object"
     },
     "execution_count": 143,
     "metadata": {},
     "output_type": "execute_result"
    }
   ],
   "source": [
    "dataset.dtypes"
   ],
   "metadata": {
    "collapsed": false,
    "ExecuteTime": {
     "end_time": "2023-08-30T11:42:50.449995400Z",
     "start_time": "2023-08-30T11:42:50.434537100Z"
    }
   },
   "id": "c1d323544c2f2e3d"
  },
  {
   "cell_type": "markdown",
   "source": [
    "# Construction data set modele"
   ],
   "metadata": {
    "collapsed": false
   },
   "id": "b049722fe2a8e209"
  },
  {
   "cell_type": "code",
   "execution_count": 144,
   "outputs": [],
   "source": [
    "classe_liste_nature_mutation = list(dict.fromkeys(list(dataset.nature_mutation.values)))"
   ],
   "metadata": {
    "collapsed": false,
    "ExecuteTime": {
     "end_time": "2023-08-30T11:42:50.595845800Z",
     "start_time": "2023-08-30T11:42:50.449995400Z"
    }
   },
   "id": "d736eb863bc08db4"
  },
  {
   "cell_type": "code",
   "execution_count": 145,
   "outputs": [],
   "source": [
    "classe_liste_code_type_local = list(dict.fromkeys(list(dataset.type_local.values)))"
   ],
   "metadata": {
    "collapsed": false,
    "ExecuteTime": {
     "end_time": "2023-08-30T11:42:56.301352500Z",
     "start_time": "2023-08-30T11:42:56.147548100Z"
    }
   },
   "id": "920cd24c3eaf4b67"
  },
  {
   "cell_type": "code",
   "execution_count": 146,
   "outputs": [],
   "source": [
    "classe_liste_prefixe_voie = list(dict.fromkeys(codex_voie))"
   ],
   "metadata": {
    "collapsed": false,
    "ExecuteTime": {
     "end_time": "2023-08-30T11:42:56.473300900Z",
     "start_time": "2023-08-30T11:42:56.301352500Z"
    }
   },
   "id": "cc7fa6d25879e980"
  },
  {
   "cell_type": "code",
   "execution_count": 147,
   "outputs": [],
   "source": [
    "classe_liste_code_culture = pd.read_csv(filepath_or_buffer='Data_Files/CODE_CULTURE.csv', sep=',')\n",
    "classe_liste_code_culture = list(classe_liste_code_culture['Code_nature_culture'].to_dict().values())"
   ],
   "metadata": {
    "collapsed": false,
    "ExecuteTime": {
     "end_time": "2023-08-30T11:42:56.504538600Z",
     "start_time": "2023-08-30T11:42:56.473300900Z"
    }
   },
   "id": "9b0c72d63c8ef10b"
  },
  {
   "cell_type": "code",
   "execution_count": 148,
   "outputs": [],
   "source": [
    "classe_liste_code_culture_spe = pd.read_csv(filepath_or_buffer='Data_Files/CODE_CULTURE_SPECIALE.csv', sep=',')\n",
    "classe_liste_code_culture_spe = list(classe_liste_code_culture_spe['CODE_CULTURE_SPECIALE'].to_dict().values())"
   ],
   "metadata": {
    "collapsed": false,
    "ExecuteTime": {
     "end_time": "2023-08-30T11:42:56.551344500Z",
     "start_time": "2023-08-30T11:42:56.504538600Z"
    }
   },
   "id": "241ad3a1371acdaa"
  },
  {
   "cell_type": "code",
   "execution_count": 149,
   "outputs": [],
   "source": [
    "Nom_colonnes_from_dataset = [\n",
    "    'date_mutation',\n",
    "    'code_postal',\n",
    "    'code_commune',\n",
    "    'code_departement',\n",
    "    'nombre_lots',\n",
    "    'surface_reelle_bati',\n",
    "    'nombre_pieces_principales',\n",
    "    'surface_terrain',\n",
    "    'valeur_fonciere',\n",
    "    'longitude',\n",
    "    'latitude'\n",
    "]"
   ],
   "metadata": {
    "collapsed": false,
    "ExecuteTime": {
     "end_time": "2023-08-30T11:42:56.582632Z",
     "start_time": "2023-08-30T11:42:56.535720800Z"
    }
   },
   "id": "c3aa3976be10794f"
  },
  {
   "cell_type": "code",
   "execution_count": 150,
   "outputs": [],
   "source": [
    "colonnes = Nom_colonnes_from_dataset + classe_liste_code_type_local + classe_liste_prefixe_voie + classe_liste_nature_mutation +  classe_liste_code_culture + classe_liste_code_culture_spe"
   ],
   "metadata": {
    "collapsed": false,
    "ExecuteTime": {
     "end_time": "2023-08-30T11:42:56.613890500Z",
     "start_time": "2023-08-30T11:42:56.551344500Z"
    }
   },
   "id": "9b3dbe4c60676100"
  },
  {
   "cell_type": "code",
   "execution_count": 151,
   "outputs": [
    {
     "data": {
      "text/plain": "(3201638, 18)"
     },
     "execution_count": 151,
     "metadata": {},
     "output_type": "execute_result"
    }
   ],
   "source": [
    "dataset.shape"
   ],
   "metadata": {
    "collapsed": false,
    "ExecuteTime": {
     "end_time": "2023-08-30T11:42:56.613890500Z",
     "start_time": "2023-08-30T11:42:56.567022900Z"
    }
   },
   "id": "2ffb2c1f81a4199a"
  },
  {
   "cell_type": "code",
   "execution_count": 152,
   "outputs": [],
   "source": [
    "index =123456"
   ],
   "metadata": {
    "collapsed": false,
    "ExecuteTime": {
     "end_time": "2023-08-30T11:42:56.613890500Z",
     "start_time": "2023-08-30T11:42:56.582632Z"
    }
   },
   "id": "abcd5fd1164e5e2a"
  },
  {
   "cell_type": "code",
   "execution_count": 153,
   "outputs": [],
   "source": [
    "test_id = dataset.id_mutation[index]"
   ],
   "metadata": {
    "collapsed": false,
    "ExecuteTime": {
     "end_time": "2023-08-30T11:42:56.629550800Z",
     "start_time": "2023-08-30T11:42:56.598260200Z"
    }
   },
   "id": "7c838d4441fa6a1d"
  },
  {
   "cell_type": "code",
   "execution_count": 154,
   "outputs": [
    {
     "data": {
      "text/plain": "'2018-51207'"
     },
     "execution_count": 154,
     "metadata": {},
     "output_type": "execute_result"
    }
   ],
   "source": [
    "test_id"
   ],
   "metadata": {
    "collapsed": false,
    "ExecuteTime": {
     "end_time": "2023-08-30T11:42:56.707635500Z",
     "start_time": "2023-08-30T11:42:56.613890500Z"
    }
   },
   "id": "437f0f7f89326803"
  },
  {
   "cell_type": "code",
   "execution_count": 155,
   "outputs": [],
   "source": [
    "TEST = dataset.loc[dataset['id_mutation'] == test_id]"
   ],
   "metadata": {
    "collapsed": false,
    "ExecuteTime": {
     "end_time": "2023-08-30T11:42:56.863846300Z",
     "start_time": "2023-08-30T11:42:56.629550800Z"
    }
   },
   "id": "9520248ce9076244"
  },
  {
   "cell_type": "code",
   "execution_count": 156,
   "outputs": [],
   "source": [
    "assert 1 == len(pd.unique(TEST.date_mutation))\n",
    "assert 1 == len(pd.unique(TEST.valeur_fonciere))\n",
    "assert 1 == len(pd.unique(TEST.code_postal))\n",
    "assert 1 == len(pd.unique(TEST.code_commune))\n",
    "assert 1 == len(pd.unique(TEST.code_departement))\n",
    "\n",
    "ajout_colonnes_dataset = [\n",
    "    TEST.loc[index, 'date_mutation'],\n",
    "    TEST.loc[index, 'code_postal'],\n",
    "    TEST.loc[index, 'code_commune'],\n",
    "    TEST.loc[index, 'code_departement'],\n",
    "    TEST.loc[:, 'nombre_lots'].sum(),\n",
    "    TEST.loc[:,'surface_reelle_bati'].sum(),\n",
    "    TEST.loc[:,'nombre_pieces_principales'].sum(),\n",
    "    TEST.loc[:,'surface_terrain'].sum(),\n",
    "    TEST.loc[index, 'valeur_fonciere'],\n",
    "    TEST.loc[index, 'longitude'],\n",
    "    TEST.loc[index, 'latitude']\n",
    "]"
   ],
   "metadata": {
    "collapsed": false,
    "ExecuteTime": {
     "end_time": "2023-08-30T11:42:56.863846300Z",
     "start_time": "2023-08-30T11:42:56.832599300Z"
    }
   },
   "id": "41fc236ccdb2564a"
  },
  {
   "cell_type": "code",
   "execution_count": 157,
   "outputs": [],
   "source": [
    "# valeur classe code type local\n",
    "\n",
    "tmp_code_type_local = TEST.loc[:,'type_local']\n",
    "ajout_code_type = []\n",
    "\n",
    "for code_type in classe_liste_code_type_local :\n",
    "    ajout_code_type.append(tmp_code_type_local.loc[tmp_code_type_local == code_type].size)\n"
   ],
   "metadata": {
    "collapsed": false,
    "ExecuteTime": {
     "end_time": "2023-08-30T11:42:56.879479100Z",
     "start_time": "2023-08-30T11:42:56.848221600Z"
    }
   },
   "id": "3a783704a2b136a6"
  },
  {
   "cell_type": "code",
   "execution_count": 171,
   "outputs": [],
   "source": [
    "classe_liste_code_type_local"
   ],
   "metadata": {
    "collapsed": false,
    "ExecuteTime": {
     "end_time": "2023-08-30T11:44:59.947474700Z",
     "start_time": "2023-08-30T11:44:59.900558800Z"
    }
   },
   "id": "f9dac6890b14c6a6"
  },
  {
   "cell_type": "code",
   "execution_count": 159,
   "outputs": [],
   "source": [
    "assert len(ajout_code_type) == len(classe_liste_code_type_local)"
   ],
   "metadata": {
    "collapsed": false,
    "ExecuteTime": {
     "end_time": "2023-08-30T11:42:57.020127600Z",
     "start_time": "2023-08-30T11:42:56.895096800Z"
    }
   },
   "id": "ac66bf8aae5fd9fb"
  },
  {
   "cell_type": "code",
   "execution_count": 160,
   "outputs": [],
   "source": [
    "# valeur prefixe voie\n",
    "\n",
    "tmp_abbrev_voie = TEST.loc[:, 'prefixe_voie']\n",
    "ajout_abbrev_voie = []\n",
    "\n",
    "for abbrev_voie in classe_liste_prefixe_voie:\n",
    "    ajout_abbrev_voie.append(tmp_abbrev_voie.loc[tmp_abbrev_voie== abbrev_voie].size)"
   ],
   "metadata": {
    "collapsed": false,
    "ExecuteTime": {
     "end_time": "2023-08-30T11:42:57.020127600Z",
     "start_time": "2023-08-30T11:42:56.910729300Z"
    }
   },
   "id": "bccb4f77a30330e7"
  },
  {
   "cell_type": "code",
   "execution_count": 161,
   "outputs": [],
   "source": [
    "assert len(ajout_abbrev_voie) == len(classe_liste_prefixe_voie)"
   ],
   "metadata": {
    "collapsed": false,
    "ExecuteTime": {
     "end_time": "2023-08-30T11:42:57.020127600Z",
     "start_time": "2023-08-30T11:42:56.957612800Z"
    }
   },
   "id": "4c15021534985b4c"
  },
  {
   "cell_type": "code",
   "execution_count": 162,
   "outputs": [],
   "source": [
    "# valeur classe nature mutation\n",
    "\n",
    "tmp_nature_mutation = TEST.loc[:,'nature_mutation']\n",
    "ajout_nature_mutation = []\n",
    "\n",
    "for nat_mutation in classe_liste_nature_mutation:\n",
    "    ajout_nature_mutation.append(tmp_nature_mutation.loc[tmp_nature_mutation == nat_mutation].size)"
   ],
   "metadata": {
    "collapsed": false,
    "ExecuteTime": {
     "end_time": "2023-08-30T11:42:57.020127600Z",
     "start_time": "2023-08-30T11:42:56.973222700Z"
    }
   },
   "id": "b54903d8efcc28ba"
  },
  {
   "cell_type": "code",
   "execution_count": 163,
   "outputs": [],
   "source": [
    "assert len(ajout_nature_mutation) == len(classe_liste_nature_mutation)"
   ],
   "metadata": {
    "collapsed": false,
    "ExecuteTime": {
     "end_time": "2023-08-30T11:42:57.082691400Z",
     "start_time": "2023-08-30T11:42:56.988852300Z"
    }
   },
   "id": "d6f5c33ec47e73fe"
  },
  {
   "cell_type": "code",
   "execution_count": 164,
   "outputs": [],
   "source": [
    "# valeur classe culture\n",
    "\n",
    "tmp_culture = TEST.loc[:,'code_nature_culture']\n",
    "ajout_culture = []\n",
    "\n",
    "for culture in classe_liste_code_culture :\n",
    "    ajout_culture.append(tmp_culture.loc[tmp_culture == culture].size)\n"
   ],
   "metadata": {
    "collapsed": false,
    "ExecuteTime": {
     "end_time": "2023-08-30T11:42:57.113898800Z",
     "start_time": "2023-08-30T11:42:57.004491300Z"
    }
   },
   "id": "b8bac9e23665942a"
  },
  {
   "cell_type": "code",
   "execution_count": 165,
   "outputs": [],
   "source": [
    "assert len(ajout_culture) == len(classe_liste_code_culture)"
   ],
   "metadata": {
    "collapsed": false,
    "ExecuteTime": {
     "end_time": "2023-08-30T11:42:57.113898800Z",
     "start_time": "2023-08-30T11:42:57.035731700Z"
    }
   },
   "id": "e4c24fe728dcddce"
  },
  {
   "cell_type": "code",
   "execution_count": 166,
   "outputs": [],
   "source": [
    "# valeur classe culture spe\n",
    "\n",
    "tmp_culture_spe = TEST.loc[:,'code_nature_culture_speciale']\n",
    "ajout_culture_spe = []\n",
    "\n",
    "for culture_spe in classe_liste_code_culture_spe :\n",
    "    ajout_culture_spe.append(tmp_culture_spe.loc[tmp_culture_spe == culture_spe].size)"
   ],
   "metadata": {
    "collapsed": false,
    "ExecuteTime": {
     "end_time": "2023-08-30T11:43:02.966163800Z",
     "start_time": "2023-08-30T11:43:02.919292100Z"
    }
   },
   "id": "c46ff746390ad2c"
  },
  {
   "cell_type": "code",
   "execution_count": 167,
   "outputs": [],
   "source": [
    "assert len(ajout_culture_spe) == len(classe_liste_code_culture_spe)"
   ],
   "metadata": {
    "collapsed": false,
    "ExecuteTime": {
     "end_time": "2023-08-30T11:43:02.981675700Z",
     "start_time": "2023-08-30T11:43:02.966163800Z"
    }
   },
   "id": "4634e013a85c00e4"
  },
  {
   "cell_type": "code",
   "execution_count": 168,
   "outputs": [],
   "source": [
    "valeurs = ajout_colonnes_dataset + ajout_code_type + ajout_abbrev_voie + ajout_nature_mutation + ajout_culture + ajout_culture_spe\n",
    "\n",
    "colonnes = Nom_colonnes_from_dataset + classe_liste_code_type_local + classe_liste_prefixe_voie + classe_liste_nature_mutation +  classe_liste_code_culture + classe_liste_code_culture_spe"
   ],
   "metadata": {
    "collapsed": false,
    "ExecuteTime": {
     "end_time": "2023-08-30T11:43:03.012898300Z",
     "start_time": "2023-08-30T11:43:02.981675700Z"
    }
   },
   "id": "fc174d3a85514f52"
  },
  {
   "cell_type": "code",
   "execution_count": 169,
   "outputs": [
    {
     "data": {
      "text/plain": "{'date_mutation': 1539907200.0,\n 'code_postal': 6200.0,\n 'code_commune': 6088,\n 'code_departement': 6,\n 'nombre_lots': 0,\n 'surface_reelle_bati': 80.0,\n 'nombre_pieces_principales': 6.0,\n 'surface_terrain': 6437.0,\n 'valeur_fonciere': 300000.0,\n 'longitude': 7.214999,\n 'latitude': 43.700335,\n 'Appartement': 0,\n 'Dépendance': 0,\n 'Maison': 2,\n '': 1,\n 'Local industriel. commercial ou assimilé': 0,\n 'RUE': 0,\n 'AUTRE': 3,\n 'PONT': 0,\n 'ALL': 0,\n 'AV': 0,\n 'RTE': 0,\n 'PRE': 0,\n 'PL': 0,\n 'QUAI': 0,\n 'BD': 0,\n 'IMP': 0,\n 'CHEM': 0,\n 'LOT': 0,\n 'A': 0,\n 'BOIS': 0,\n 'CLOS': 0,\n 'PROM': 0,\n 'COTE': 0,\n 'VC': 0,\n 'RLE': 0,\n 'CRS': 0,\n 'MONT': 0,\n 'MARE': 0,\n 'HAM': 0,\n 'ILE': 0,\n 'MAIL': 0,\n 'FOND': 0,\n 'RES': 0,\n 'VOIE': 0,\n 'CITE': 0,\n 'ST': 0,\n 'ZA': 0,\n 'PTR': 0,\n 'ZI': 0,\n 'CHAT': 0,\n 'PORT': 0,\n 'TOUR': 0,\n 'PARC': 0,\n 'SQ': 0,\n 'RPE': 0,\n 'CR': 0,\n 'ESC': 0,\n 'CD': 0,\n 'DOM': 0,\n 'GARE': 0,\n 'VAL': 0,\n 'FONT': 0,\n 'FBG': 0,\n 'CHP': 0,\n 'PASS': 0,\n 'ESP': 0,\n 'FORT': 0,\n 'VALL': 0,\n 'VEN': 0,\n 'LDT': 0,\n 'CHAL': 0,\n 'MARC': 0,\n 'MAIS': 0,\n 'RN': 0,\n 'CHAU': 0,\n 'SENT': 0,\n 'BRG': 0,\n 'PRAI': 0,\n 'GAL': 0,\n 'JARD': 0,\n 'PKG': 0,\n 'PAL': 0,\n 'PLAI': 0,\n 'PEL': 0,\n 'CAS': 0,\n 'PAV': 0,\n 'RDPT': 0,\n 'Vente': 3,\n \"Vente en l'état futur d'achèvement\": 0,\n 'Echange': 0,\n 'Vente terrain à bâtir': 0,\n 'Adjudication': 0,\n 'Expropriation': 0,\n 'AB': 0,\n 'AG': 0,\n 'B': 0,\n 'BF': 0,\n 'BM': 0,\n 'BO': 0,\n 'BP': 0,\n 'BR': 0,\n 'BS': 0,\n 'BT': 0,\n 'CA': 0,\n 'CH': 0,\n 'E': 0,\n 'J': 0,\n 'L': 0,\n 'LB': 0,\n 'P': 0,\n 'PA': 0,\n 'PC': 0,\n 'PE': 0,\n 'PH': 0,\n 'PP': 0,\n 'S': 1,\n 'T': 2,\n 'TP': 0,\n 'VE': 0,\n 'VI': 0,\n 'ABREU': 0,\n 'ABRIC': 0,\n 'ACACI': 0,\n 'AEROD': 0,\n 'AIRE': 0,\n 'ALLEE': 0,\n 'ALLUV': 0,\n 'AMAND': 0,\n 'ARDOI': 0,\n 'ARGIL': 0,\n 'ASPER': 0,\n 'AULN': 0,\n 'AVENU': 0,\n 'BALLA': 0,\n 'BAMBO': 0,\n 'BASS': 0,\n 'BIEF': 0,\n 'BOUL': 0,\n 'BROUS': 0,\n 'BRUY': 0,\n 'BTIGE': 0,\n 'BUIS': 0,\n 'CAMP': 0,\n 'CANAL': 0,\n 'CASS': 0,\n 'CEDRA': 0,\n 'CERCL': 0,\n 'CERIS': 0,\n 'CHASS': 0,\n 'CHENE': 0,\n 'CHLIE': 0,\n 'CHTRU': 0,\n 'CHVER': 0,\n 'CIDRE': 0,\n 'CITRO': 0,\n 'CLAIR': 0,\n 'COING': 0,\n 'COULE': 0,\n 'CRAY': 0,\n 'CRESS': 0,\n 'CRYPT': 0,\n 'DIGUE': 0,\n 'DUNE': 0,\n 'EAU': 0,\n 'ECOLE': 0,\n 'EPICE': 0,\n 'ESPAL': 0,\n 'ETANG': 0,\n 'EUCAL': 0,\n 'FALAI': 0,\n 'FAMIL': 0,\n 'FER': 0,\n 'FILAO': 0,\n 'FLOR': 0,\n 'FOSSE': 0,\n 'FOUG': 0,\n 'FRAMB': 0,\n 'FRICH': 0,\n 'GAREN': 0,\n 'GENET': 0,\n 'GLAIS': 0,\n 'GRAVE': 0,\n 'HAIES': 0,\n 'HERB': 0,\n 'HETRE': 0,\n 'HIST': 0,\n 'HORT': 0,\n 'HOUBL': 0,\n 'HTIGE': 0,\n 'HUITR': 0,\n 'IMM': 0,\n 'IMPRO': 0,\n 'INTEN': 0,\n 'JETT': 0,\n 'JOUAL': 0,\n 'KIWIS': 0,\n 'LAC': 0,\n 'LAGUN': 0,\n 'LAVOI': 0,\n 'LEGUM': 0,\n 'MAQUI': 0,\n 'MARAI': 0,\n 'MARAM': 0,\n 'MAREC': 0,\n 'MARN': 0,\n 'MARNA': 0,\n 'MELEZ': 0,\n 'MOTTE': 0,\n 'MUR': 0,\n 'NATUR': 0,\n 'NOISE': 0,\n 'NOYER': 0,\n 'NPECH': 0,\n 'OLIVE': 0,\n 'ORANG': 0,\n 'ORME': 0,\n 'PACAG': 0,\n 'PAFEU': 0,\n 'PALMI': 0,\n 'PATIS': 0,\n 'PATUR': 0,\n 'PECH': 0,\n 'PECHE': 0,\n 'PEPIN': 0,\n 'PIEDS': 0,\n 'PIERR': 0,\n 'PIN': 0,\n 'PLAGE': 0,\n 'PLATR': 0,\n 'PLVEN': 0,\n 'POIRE': 0,\n 'POMME': 0,\n 'POTAG': 0,\n 'PROTE': 0,\n 'PRUNE': 0,\n 'RAIS': 0,\n 'RESER': 0,\n 'RESIN': 0,\n 'RIVAG': 0,\n 'RIZ': 0,\n 'ROC': 0,\n 'ROUI': 0,\n 'RUINE': 0,\n 'SABLE': 0,\n 'SALIN': 0,\n 'SAPIN': 0,\n 'SART': 0,\n 'SAULE': 0,\n 'SERRE': 0,\n 'SOL': 0,\n 'SOURC': 0,\n 'SPORT': 0,\n 'TAMAR': 0,\n 'TAUZ': 0,\n 'TERRI': 0,\n 'TOURB': 0,\n 'TOUYA': 0,\n 'VADC': 0,\n 'VAGUE': 0,\n 'VANIL': 0,\n 'VAOC': 0,\n 'VCHAS': 0,\n 'VDQS': 0,\n 'VIGNE': 0,\n 'VIVIE': 0}"
     },
     "execution_count": 169,
     "metadata": {},
     "output_type": "execute_result"
    }
   ],
   "source": [
    "tmp_data = { colonnes[i]:valeurs[i] for i in range(len(colonnes)) }\n",
    "tmp_data"
   ],
   "metadata": {
    "collapsed": false,
    "ExecuteTime": {
     "end_time": "2023-08-30T11:43:03.090980500Z",
     "start_time": "2023-08-30T11:43:03.012898300Z"
    }
   },
   "id": "30f16d2b86554f71"
  },
  {
   "cell_type": "code",
   "execution_count": 175,
   "outputs": [
    {
     "data": {
      "text/plain": "   date_mutation  code_postal  code_commune  code_departement  nombre_lots  \\\n0   1.539907e+09       6200.0          6088                 6            0   \n\n   surface_reelle_bati  nombre_pieces_principales  surface_terrain  \\\n0                 80.0                        6.0           6437.0   \n\n   valeur_fonciere  longitude  ...  TOURB  TOUYA  VADC  VAGUE  VANIL  VAOC  \\\n0         300000.0   7.214999  ...      0      0     0      0      0     0   \n\n   VCHAS  VDQS  VIGNE  VIVIE  \n0      0     0      0      0  \n\n[1 rows x 266 columns]",
      "text/html": "<div>\n<style scoped>\n    .dataframe tbody tr th:only-of-type {\n        vertical-align: middle;\n    }\n\n    .dataframe tbody tr th {\n        vertical-align: top;\n    }\n\n    .dataframe thead th {\n        text-align: right;\n    }\n</style>\n<table border=\"1\" class=\"dataframe\">\n  <thead>\n    <tr style=\"text-align: right;\">\n      <th></th>\n      <th>date_mutation</th>\n      <th>code_postal</th>\n      <th>code_commune</th>\n      <th>code_departement</th>\n      <th>nombre_lots</th>\n      <th>surface_reelle_bati</th>\n      <th>nombre_pieces_principales</th>\n      <th>surface_terrain</th>\n      <th>valeur_fonciere</th>\n      <th>longitude</th>\n      <th>...</th>\n      <th>TOURB</th>\n      <th>TOUYA</th>\n      <th>VADC</th>\n      <th>VAGUE</th>\n      <th>VANIL</th>\n      <th>VAOC</th>\n      <th>VCHAS</th>\n      <th>VDQS</th>\n      <th>VIGNE</th>\n      <th>VIVIE</th>\n    </tr>\n  </thead>\n  <tbody>\n    <tr>\n      <th>0</th>\n      <td>1.539907e+09</td>\n      <td>6200.0</td>\n      <td>6088</td>\n      <td>6</td>\n      <td>0</td>\n      <td>80.0</td>\n      <td>6.0</td>\n      <td>6437.0</td>\n      <td>300000.0</td>\n      <td>7.214999</td>\n      <td>...</td>\n      <td>0</td>\n      <td>0</td>\n      <td>0</td>\n      <td>0</td>\n      <td>0</td>\n      <td>0</td>\n      <td>0</td>\n      <td>0</td>\n      <td>0</td>\n      <td>0</td>\n    </tr>\n  </tbody>\n</table>\n<p>1 rows × 266 columns</p>\n</div>"
     },
     "execution_count": 175,
     "metadata": {},
     "output_type": "execute_result"
    }
   ],
   "source": [
    "tmp_Data_Frame = pd.DataFrame(tmp_data, index=[0])\n",
    "tmp_Data_Frame"
   ],
   "metadata": {
    "collapsed": false,
    "ExecuteTime": {
     "end_time": "2023-08-30T11:50:17.358542300Z",
     "start_time": "2023-08-30T11:50:17.311660Z"
    }
   },
   "id": "795101e77f3ee4f7"
  },
  {
   "cell_type": "code",
   "execution_count": null,
   "outputs": [],
   "source": [
    "# Sortie de la colonne resultat\n",
    "\n",
    "## Y = df.valeur_fonciere"
   ],
   "metadata": {
    "collapsed": false,
    "ExecuteTime": {
     "start_time": "2023-08-30T11:43:03.137892400Z"
    }
   },
   "id": "1b3922c306493006"
  },
  {
   "cell_type": "code",
   "execution_count": null,
   "outputs": [],
   "source": [],
   "metadata": {
    "collapsed": false,
    "ExecuteTime": {
     "start_time": "2023-08-30T11:42:16.119423400Z"
    }
   },
   "id": "d2552155a09d8c14"
  },
  {
   "cell_type": "code",
   "execution_count": null,
   "outputs": [],
   "source": [],
   "metadata": {
    "collapsed": false
   },
   "id": "2f58a32306b59db4"
  }
 ],
 "metadata": {
  "kernelspec": {
   "display_name": "Python 3",
   "language": "python",
   "name": "python3"
  },
  "language_info": {
   "codemirror_mode": {
    "name": "ipython",
    "version": 2
   },
   "file_extension": ".py",
   "mimetype": "text/x-python",
   "name": "python",
   "nbconvert_exporter": "python",
   "pygments_lexer": "ipython2",
   "version": "2.7.6"
  }
 },
 "nbformat": 4,
 "nbformat_minor": 5
}
