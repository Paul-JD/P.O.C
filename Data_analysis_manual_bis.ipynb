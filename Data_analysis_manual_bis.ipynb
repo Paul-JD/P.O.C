{
 "cells": [
  {
   "cell_type": "code",
   "execution_count": 11,
   "outputs": [],
   "source": [
    "import pandas as pd\n",
    "import io\n",
    "import requests\n",
    "from sklearn import preprocessing\n",
    "from sklearn.model_selection import train_test_split\n",
    "from sklearn.ensemble import RandomForestClassifier"
   ],
   "metadata": {
    "collapsed": false,
    "ExecuteTime": {
     "end_time": "2023-08-28T18:06:33.114220600Z",
     "start_time": "2023-08-28T18:06:33.056300900Z"
    }
   },
   "id": "initial_id"
  },
  {
   "cell_type": "code",
   "execution_count": 12,
   "outputs": [
    {
     "name": "stderr",
     "output_type": "stream",
     "text": [
      "C:\\Users\\dargo\\AppData\\Local\\Temp\\ipykernel_692\\1361649060.py:3: DtypeWarning: Columns (14,18,23,24,26,28,29,31,32,33,41) have mixed types. Specify dtype option on import or set low_memory=False.\n",
      "  c = pd.read_csv(io.StringIO(s.decode('utf-8')), sep='|')\n"
     ]
    }
   ],
   "source": [
    "url = \"https://static.data.gouv.fr/resources/demandes-de-valeurs-foncieres/20230405-154703/valeursfoncieres-2018.txt\"\n",
    "s = requests.get(url).content\n",
    "c = pd.read_csv(io.StringIO(s.decode('utf-8')), sep='|')"
   ],
   "metadata": {
    "collapsed": false,
    "ExecuteTime": {
     "end_time": "2023-08-28T18:07:14.817869600Z",
     "start_time": "2023-08-28T18:06:40.716025100Z"
    }
   },
   "id": "ebfcea609430a156"
  },
  {
   "cell_type": "markdown",
   "source": [
    "# Cleaning"
   ],
   "metadata": {
    "collapsed": false
   },
   "id": "8d764d742219f04"
  },
  {
   "cell_type": "code",
   "execution_count": null,
   "outputs": [],
   "source": [
    "# Selection des colonnes utiles\n",
    "\n",
    "dataset = c[['Date mutation',\n",
    "         'Nature mutation',\n",
    "         'Valeur fonciere',\n",
    "         'Code voie',\n",
    "         'Code postal',\n",
    "         'Code departement',\n",
    "         'Code commune',\n",
    "         'Nombre de lots',\n",
    "         'Code type local',\n",
    "         'Surface reelle bati',\n",
    "         'Nombre pieces principales',\n",
    "         'Nature culture',\n",
    "         'Nature culture speciale',\n",
    "         'Surface terrain'\n",
    "         ]]"
   ],
   "metadata": {
    "collapsed": false
   },
   "id": "287533ef2dd0b74c"
  },
  {
   "cell_type": "code",
   "execution_count": null,
   "outputs": [],
   "source": [
    "# suppression valeur fonciere nulle\n",
    "\n",
    "dataset.dropna(subset=['Valeur fonciere'], inplace=True)"
   ],
   "metadata": {
    "collapsed": false
   },
   "id": "35c0c4cf95e20ca0"
  },
  {
   "cell_type": "code",
   "execution_count": null,
   "outputs": [],
   "source": [
    "# Passage de la colonnes date mutation en datetime puis en seconde pour avoir des int\n",
    "\n",
    "dataset['Date mutation'] = pd.to_datetime(dataset['Date mutation'], format='mixed')\n",
    "dataset['Date mutation'] = dataset['Date mutation'].apply(lambda x : x.timestamp())"
   ],
   "metadata": {
    "collapsed": false
   },
   "id": "9b1b18aa753a5c7a"
  },
  {
   "cell_type": "code",
   "execution_count": null,
   "outputs": [],
   "source": [
    "# Enumeration des différents types de mutation et labelisation en entier\n",
    "\n",
    "mutation_values = dataset['Nature mutation'].drop_duplicates().values\n",
    "for idx, i in enumerate(mutation_values) :\n",
    "    dataset['Nature mutation'] = dataset['Nature mutation'].str.replace(i, str(idx))\n",
    "    \n",
    "dataset['Nature mutation']= dataset['Nature mutation'].apply(int)"
   ],
   "metadata": {
    "collapsed": false
   },
   "id": "92be7336eeeb5e2b"
  },
  {
   "cell_type": "markdown",
   "source": [
    "# Conversion en str de toute la colonne avec remplissage des NaN, Labelisation + Ajout prise en compte code rivoli\n",
    "\n",
    "dataset['Code voie'] = dataset['Code voie'].astype(str)\n",
    "dataset['Code voie'].fillna('', inplace=True)\n",
    "Code_Voie = preprocessing.LabelEncoder()\n",
    "Code_Voie.fit(dataset['Code voie'])\n",
    "dataset['Code voie'] =  Code_Voie.transform(dataset['Code voie'])"
   ],
   "metadata": {
    "collapsed": false
   },
   "id": "308fd12abbcc205e"
  },
  {
   "cell_type": "code",
   "execution_count": null,
   "outputs": [],
   "source": [
    "# Remplissage des valeurs NaN puis labelisation\n",
    "\n",
    "dataset['Type de voie'].fillna('', inplace=True)\n",
    "Type_Voie = preprocessing.LabelEncoder()\n",
    "Type_Voie.fit(dataset['Type de voie'])\n",
    "dataset['Type de voie'] =  Type_Voie.transform(dataset['Type de voie'])"
   ],
   "metadata": {
    "collapsed": false
   },
   "id": "a0f50aeaba6830b7"
  },
  {
   "cell_type": "code",
   "execution_count": null,
   "outputs": [],
   "source": [
    "# Remplissage des valeurs NaN\n",
    "\n",
    "dataset['Surface reelle bati'].fillna(0, inplace=True)"
   ],
   "metadata": {
    "collapsed": false
   },
   "id": "fe6f61b1739c5bab"
  },
  {
   "cell_type": "code",
   "execution_count": null,
   "outputs": [],
   "source": [
    "# Remplissage des valeurs NaN\n",
    "\n",
    "dataset['Nombre pieces principales'].fillna(0, inplace=True)"
   ],
   "metadata": {
    "collapsed": false
   },
   "id": "8e7a9c04db00a656"
  },
  {
   "cell_type": "code",
   "execution_count": null,
   "outputs": [],
   "source": [
    "# Remplissage des valeurs NaN\n",
    "\n",
    "dataset['Surface terrain'].fillna(0, inplace=True)"
   ],
   "metadata": {
    "collapsed": false
   },
   "id": "f76d5a3e0f981a"
  },
  {
   "cell_type": "code",
   "execution_count": null,
   "outputs": [],
   "source": [
    "dataset['Nature culture'].fillna('', inplace=True)\n",
    "NC = preprocessing.LabelEncoder()\n",
    "NC.fit(dataset['Nature culture'])\n",
    "dataset['Nature culture'] =  NC.transform(dataset['Nature culture'])"
   ],
   "metadata": {
    "collapsed": false
   },
   "id": "ef63c4f84be43b0b"
  },
  {
   "cell_type": "code",
   "execution_count": null,
   "outputs": [],
   "source": [
    "dataset['Nature culture speciale'].fillna('', inplace=True)\n",
    "NCS = preprocessing.LabelEncoder()\n",
    "NCS.fit(dataset['Nature culture speciale'])\n",
    "dataset['Nature culture speciale'] =  NCS.transform(dataset['Nature culture speciale'])"
   ],
   "metadata": {
    "collapsed": false
   },
   "id": "302a45be4f4e3071"
  },
  {
   "cell_type": "code",
   "execution_count": null,
   "outputs": [],
   "source": [
    "c.dtypes"
   ],
   "metadata": {
    "collapsed": false
   },
   "id": "58beb99898797d88"
  },
  {
   "cell_type": "markdown",
   "source": [
    "# Y columns"
   ],
   "metadata": {
    "collapsed": false
   },
   "id": "34427667979c4d93"
  },
  {
   "cell_type": "code",
   "execution_count": null,
   "outputs": [],
   "source": [
    "X = c.drop(['Valeur fonciere'], axis=1)\n",
    "Y = c['Valeur fonciere'].str.replace(',', '.')\n",
    "Y = Y.astype('float64')\n",
    "Y = Y.astype(int)"
   ],
   "metadata": {
    "collapsed": false
   },
   "id": "9359c61972932c2d"
  },
  {
   "cell_type": "code",
   "execution_count": null,
   "outputs": [],
   "source": [
    "Y_10 = Y / 10\n",
    "Y_10 = Y_10.astype(int)\n",
    "Y_100 = Y_10 / 10\n",
    "Y_100 = Y_100.astype(int)\n",
    "Y_1000 = Y_100 / 10\n",
    "Y_1000 = Y_1000.astype(int)\n",
    "Y_10000 = Y_1000 / 10\n",
    "Y_10000 = Y_10000.astype(int)"
   ],
   "metadata": {
    "collapsed": false
   },
   "id": "2f85616ac699a5cc"
  },
  {
   "cell_type": "markdown",
   "source": [
    "# Division"
   ],
   "metadata": {
    "collapsed": false
   },
   "id": "9b8e94b783271537"
  },
  {
   "cell_type": "code",
   "execution_count": null,
   "outputs": [],
   "source": [
    "X_test, X_train, Y_test, Y_train = train_test_split(X, Y, train_size=0.7, random_state=42)"
   ],
   "metadata": {
    "collapsed": false
   },
   "id": "1936f4940d8722ce"
  },
  {
   "cell_type": "code",
   "execution_count": null,
   "outputs": [],
   "source": [
    "X_test_10, X_train_10, Y_test_10, Y_train_10 = train_test_split(X, Y_10, train_size=0.7, random_state=42)"
   ],
   "metadata": {
    "collapsed": false
   },
   "id": "1464c1611645d56f"
  },
  {
   "cell_type": "code",
   "execution_count": null,
   "outputs": [],
   "source": [
    "X_test_100, X_train_100, Y_test_100, Y_train_100 = train_test_split(X, Y_100, train_size=0.7, random_state=42)"
   ],
   "metadata": {
    "collapsed": false
   },
   "id": "660c1315e26dec86"
  },
  {
   "cell_type": "code",
   "execution_count": null,
   "outputs": [],
   "source": [
    "X_test_1000, X_train_1000, Y_test_1000, Y_train_1000 = train_test_split(X, Y_1000, train_size=0.7, random_state=42)"
   ],
   "metadata": {
    "collapsed": false
   },
   "id": "8e61f8ad1b96cde4"
  },
  {
   "cell_type": "markdown",
   "source": [
    "# Model training\n",
    "\n",
    "## Random forest"
   ],
   "metadata": {
    "collapsed": false
   },
   "id": "80d6090001be0c25"
  },
  {
   "cell_type": "code",
   "execution_count": null,
   "outputs": [],
   "source": [
    "clf = RandomForestClassifier(n_estimators=100,max_depth=5, random_state=0)\n",
    "clf.fit(X_train_1000,Y_train_1000)"
   ],
   "metadata": {
    "collapsed": false
   },
   "id": "e8f604b08ff3482a"
  },
  {
   "cell_type": "code",
   "execution_count": null,
   "outputs": [],
   "source": [
    "clf.predict_proba(X_test_1000)  "
   ],
   "metadata": {
    "collapsed": false
   },
   "id": "ab1e79a92bbdfc81"
  }
 ],
 "metadata": {
  "kernelspec": {
   "display_name": "Python 3",
   "language": "python",
   "name": "python3"
  },
  "language_info": {
   "codemirror_mode": {
    "name": "ipython",
    "version": 2
   },
   "file_extension": ".py",
   "mimetype": "text/x-python",
   "name": "python",
   "nbconvert_exporter": "python",
   "pygments_lexer": "ipython2",
   "version": "2.7.6"
  }
 },
 "nbformat": 4,
 "nbformat_minor": 5
}
