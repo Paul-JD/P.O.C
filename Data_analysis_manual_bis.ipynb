{
 "cells": [
  {
   "cell_type": "code",
   "execution_count": 1,
   "outputs": [
    {
     "ename": "KeyboardInterrupt",
     "evalue": "",
     "output_type": "error",
     "traceback": [
      "\u001B[1;31m---------------------------------------------------------------------------\u001B[0m",
      "\u001B[1;31mKeyboardInterrupt\u001B[0m                         Traceback (most recent call last)",
      "Cell \u001B[1;32mIn[1], line 1\u001B[0m\n\u001B[1;32m----> 1\u001B[0m \u001B[38;5;28;01mimport\u001B[39;00m \u001B[38;5;21;01mpandas\u001B[39;00m \u001B[38;5;28;01mas\u001B[39;00m \u001B[38;5;21;01mpd\u001B[39;00m\n\u001B[0;32m      2\u001B[0m \u001B[38;5;28;01mimport\u001B[39;00m \u001B[38;5;21;01mio\u001B[39;00m\n\u001B[0;32m      3\u001B[0m \u001B[38;5;28;01mimport\u001B[39;00m \u001B[38;5;21;01mrequests\u001B[39;00m\n",
      "File \u001B[1;32m~\\PycharmProjects\\pythonProjectPOC\\venv\\lib\\site-packages\\pandas\\__init__.py:59\u001B[0m\n\u001B[0;32m     56\u001B[0m \u001B[38;5;66;03m# let init-time option registration happen\u001B[39;00m\n\u001B[0;32m     57\u001B[0m \u001B[38;5;28;01mimport\u001B[39;00m \u001B[38;5;21;01mpandas\u001B[39;00m\u001B[38;5;21;01m.\u001B[39;00m\u001B[38;5;21;01mcore\u001B[39;00m\u001B[38;5;21;01m.\u001B[39;00m\u001B[38;5;21;01mconfig_init\u001B[39;00m  \u001B[38;5;66;03m# pyright: ignore[reportUnusedImport] # noqa: F401\u001B[39;00m\n\u001B[1;32m---> 59\u001B[0m \u001B[38;5;28;01mfrom\u001B[39;00m \u001B[38;5;21;01mpandas\u001B[39;00m\u001B[38;5;21;01m.\u001B[39;00m\u001B[38;5;21;01mcore\u001B[39;00m\u001B[38;5;21;01m.\u001B[39;00m\u001B[38;5;21;01mapi\u001B[39;00m \u001B[38;5;28;01mimport\u001B[39;00m (\n\u001B[0;32m     60\u001B[0m     \u001B[38;5;66;03m# dtype\u001B[39;00m\n\u001B[0;32m     61\u001B[0m     ArrowDtype,\n\u001B[0;32m     62\u001B[0m     Int8Dtype,\n\u001B[0;32m     63\u001B[0m     Int16Dtype,\n\u001B[0;32m     64\u001B[0m     Int32Dtype,\n\u001B[0;32m     65\u001B[0m     Int64Dtype,\n\u001B[0;32m     66\u001B[0m     UInt8Dtype,\n\u001B[0;32m     67\u001B[0m     UInt16Dtype,\n\u001B[0;32m     68\u001B[0m     UInt32Dtype,\n\u001B[0;32m     69\u001B[0m     UInt64Dtype,\n\u001B[0;32m     70\u001B[0m     Float32Dtype,\n\u001B[0;32m     71\u001B[0m     Float64Dtype,\n\u001B[0;32m     72\u001B[0m     CategoricalDtype,\n\u001B[0;32m     73\u001B[0m     PeriodDtype,\n\u001B[0;32m     74\u001B[0m     IntervalDtype,\n\u001B[0;32m     75\u001B[0m     DatetimeTZDtype,\n\u001B[0;32m     76\u001B[0m     StringDtype,\n\u001B[0;32m     77\u001B[0m     BooleanDtype,\n\u001B[0;32m     78\u001B[0m     \u001B[38;5;66;03m# missing\u001B[39;00m\n\u001B[0;32m     79\u001B[0m     NA,\n\u001B[0;32m     80\u001B[0m     isna,\n\u001B[0;32m     81\u001B[0m     isnull,\n\u001B[0;32m     82\u001B[0m     notna,\n\u001B[0;32m     83\u001B[0m     notnull,\n\u001B[0;32m     84\u001B[0m     \u001B[38;5;66;03m# indexes\u001B[39;00m\n\u001B[0;32m     85\u001B[0m     Index,\n\u001B[0;32m     86\u001B[0m     CategoricalIndex,\n\u001B[0;32m     87\u001B[0m     RangeIndex,\n\u001B[0;32m     88\u001B[0m     MultiIndex,\n\u001B[0;32m     89\u001B[0m     IntervalIndex,\n\u001B[0;32m     90\u001B[0m     TimedeltaIndex,\n\u001B[0;32m     91\u001B[0m     DatetimeIndex,\n\u001B[0;32m     92\u001B[0m     PeriodIndex,\n\u001B[0;32m     93\u001B[0m     IndexSlice,\n\u001B[0;32m     94\u001B[0m     \u001B[38;5;66;03m# tseries\u001B[39;00m\n\u001B[0;32m     95\u001B[0m     NaT,\n\u001B[0;32m     96\u001B[0m     Period,\n\u001B[0;32m     97\u001B[0m     period_range,\n\u001B[0;32m     98\u001B[0m     Timedelta,\n\u001B[0;32m     99\u001B[0m     timedelta_range,\n\u001B[0;32m    100\u001B[0m     Timestamp,\n\u001B[0;32m    101\u001B[0m     date_range,\n\u001B[0;32m    102\u001B[0m     bdate_range,\n\u001B[0;32m    103\u001B[0m     Interval,\n\u001B[0;32m    104\u001B[0m     interval_range,\n\u001B[0;32m    105\u001B[0m     DateOffset,\n\u001B[0;32m    106\u001B[0m     \u001B[38;5;66;03m# conversion\u001B[39;00m\n\u001B[0;32m    107\u001B[0m     to_numeric,\n\u001B[0;32m    108\u001B[0m     to_datetime,\n\u001B[0;32m    109\u001B[0m     to_timedelta,\n\u001B[0;32m    110\u001B[0m     \u001B[38;5;66;03m# misc\u001B[39;00m\n\u001B[0;32m    111\u001B[0m     Flags,\n\u001B[0;32m    112\u001B[0m     Grouper,\n\u001B[0;32m    113\u001B[0m     factorize,\n\u001B[0;32m    114\u001B[0m     unique,\n\u001B[0;32m    115\u001B[0m     value_counts,\n\u001B[0;32m    116\u001B[0m     NamedAgg,\n\u001B[0;32m    117\u001B[0m     array,\n\u001B[0;32m    118\u001B[0m     Categorical,\n\u001B[0;32m    119\u001B[0m     set_eng_float_format,\n\u001B[0;32m    120\u001B[0m     Series,\n\u001B[0;32m    121\u001B[0m     DataFrame,\n\u001B[0;32m    122\u001B[0m )\n\u001B[0;32m    124\u001B[0m \u001B[38;5;28;01mfrom\u001B[39;00m \u001B[38;5;21;01mpandas\u001B[39;00m\u001B[38;5;21;01m.\u001B[39;00m\u001B[38;5;21;01mcore\u001B[39;00m\u001B[38;5;21;01m.\u001B[39;00m\u001B[38;5;21;01mdtypes\u001B[39;00m\u001B[38;5;21;01m.\u001B[39;00m\u001B[38;5;21;01mdtypes\u001B[39;00m \u001B[38;5;28;01mimport\u001B[39;00m SparseDtype\n\u001B[0;32m    126\u001B[0m \u001B[38;5;28;01mfrom\u001B[39;00m \u001B[38;5;21;01mpandas\u001B[39;00m\u001B[38;5;21;01m.\u001B[39;00m\u001B[38;5;21;01mtseries\u001B[39;00m\u001B[38;5;21;01m.\u001B[39;00m\u001B[38;5;21;01mapi\u001B[39;00m \u001B[38;5;28;01mimport\u001B[39;00m infer_freq\n",
      "File \u001B[1;32m~\\PycharmProjects\\pythonProjectPOC\\venv\\lib\\site-packages\\pandas\\core\\api.py:47\u001B[0m\n\u001B[0;32m     45\u001B[0m \u001B[38;5;28;01mfrom\u001B[39;00m \u001B[38;5;21;01mpandas\u001B[39;00m\u001B[38;5;21;01m.\u001B[39;00m\u001B[38;5;21;01mcore\u001B[39;00m\u001B[38;5;21;01m.\u001B[39;00m\u001B[38;5;21;01mconstruction\u001B[39;00m \u001B[38;5;28;01mimport\u001B[39;00m array\n\u001B[0;32m     46\u001B[0m \u001B[38;5;28;01mfrom\u001B[39;00m \u001B[38;5;21;01mpandas\u001B[39;00m\u001B[38;5;21;01m.\u001B[39;00m\u001B[38;5;21;01mcore\u001B[39;00m\u001B[38;5;21;01m.\u001B[39;00m\u001B[38;5;21;01mflags\u001B[39;00m \u001B[38;5;28;01mimport\u001B[39;00m Flags\n\u001B[1;32m---> 47\u001B[0m \u001B[38;5;28;01mfrom\u001B[39;00m \u001B[38;5;21;01mpandas\u001B[39;00m\u001B[38;5;21;01m.\u001B[39;00m\u001B[38;5;21;01mcore\u001B[39;00m\u001B[38;5;21;01m.\u001B[39;00m\u001B[38;5;21;01mgroupby\u001B[39;00m \u001B[38;5;28;01mimport\u001B[39;00m (\n\u001B[0;32m     48\u001B[0m     Grouper,\n\u001B[0;32m     49\u001B[0m     NamedAgg,\n\u001B[0;32m     50\u001B[0m )\n\u001B[0;32m     51\u001B[0m \u001B[38;5;28;01mfrom\u001B[39;00m \u001B[38;5;21;01mpandas\u001B[39;00m\u001B[38;5;21;01m.\u001B[39;00m\u001B[38;5;21;01mcore\u001B[39;00m\u001B[38;5;21;01m.\u001B[39;00m\u001B[38;5;21;01mindexes\u001B[39;00m\u001B[38;5;21;01m.\u001B[39;00m\u001B[38;5;21;01mapi\u001B[39;00m \u001B[38;5;28;01mimport\u001B[39;00m (\n\u001B[0;32m     52\u001B[0m     CategoricalIndex,\n\u001B[0;32m     53\u001B[0m     DatetimeIndex,\n\u001B[1;32m   (...)\u001B[0m\n\u001B[0;32m     59\u001B[0m     TimedeltaIndex,\n\u001B[0;32m     60\u001B[0m )\n\u001B[0;32m     61\u001B[0m \u001B[38;5;28;01mfrom\u001B[39;00m \u001B[38;5;21;01mpandas\u001B[39;00m\u001B[38;5;21;01m.\u001B[39;00m\u001B[38;5;21;01mcore\u001B[39;00m\u001B[38;5;21;01m.\u001B[39;00m\u001B[38;5;21;01mindexes\u001B[39;00m\u001B[38;5;21;01m.\u001B[39;00m\u001B[38;5;21;01mdatetimes\u001B[39;00m \u001B[38;5;28;01mimport\u001B[39;00m (\n\u001B[0;32m     62\u001B[0m     bdate_range,\n\u001B[0;32m     63\u001B[0m     date_range,\n\u001B[0;32m     64\u001B[0m )\n",
      "File \u001B[1;32m~\\PycharmProjects\\pythonProjectPOC\\venv\\lib\\site-packages\\pandas\\core\\groupby\\__init__.py:1\u001B[0m\n\u001B[1;32m----> 1\u001B[0m \u001B[38;5;28;01mfrom\u001B[39;00m \u001B[38;5;21;01mpandas\u001B[39;00m\u001B[38;5;21;01m.\u001B[39;00m\u001B[38;5;21;01mcore\u001B[39;00m\u001B[38;5;21;01m.\u001B[39;00m\u001B[38;5;21;01mgroupby\u001B[39;00m\u001B[38;5;21;01m.\u001B[39;00m\u001B[38;5;21;01mgeneric\u001B[39;00m \u001B[38;5;28;01mimport\u001B[39;00m (\n\u001B[0;32m      2\u001B[0m     DataFrameGroupBy,\n\u001B[0;32m      3\u001B[0m     NamedAgg,\n\u001B[0;32m      4\u001B[0m     SeriesGroupBy,\n\u001B[0;32m      5\u001B[0m )\n\u001B[0;32m      6\u001B[0m \u001B[38;5;28;01mfrom\u001B[39;00m \u001B[38;5;21;01mpandas\u001B[39;00m\u001B[38;5;21;01m.\u001B[39;00m\u001B[38;5;21;01mcore\u001B[39;00m\u001B[38;5;21;01m.\u001B[39;00m\u001B[38;5;21;01mgroupby\u001B[39;00m\u001B[38;5;21;01m.\u001B[39;00m\u001B[38;5;21;01mgroupby\u001B[39;00m \u001B[38;5;28;01mimport\u001B[39;00m GroupBy\n\u001B[0;32m      7\u001B[0m \u001B[38;5;28;01mfrom\u001B[39;00m \u001B[38;5;21;01mpandas\u001B[39;00m\u001B[38;5;21;01m.\u001B[39;00m\u001B[38;5;21;01mcore\u001B[39;00m\u001B[38;5;21;01m.\u001B[39;00m\u001B[38;5;21;01mgroupby\u001B[39;00m\u001B[38;5;21;01m.\u001B[39;00m\u001B[38;5;21;01mgrouper\u001B[39;00m \u001B[38;5;28;01mimport\u001B[39;00m Grouper\n",
      "File \u001B[1;32m~\\PycharmProjects\\pythonProjectPOC\\venv\\lib\\site-packages\\pandas\\core\\groupby\\generic.py:67\u001B[0m\n\u001B[0;32m     59\u001B[0m \u001B[38;5;28;01mfrom\u001B[39;00m \u001B[38;5;21;01mpandas\u001B[39;00m\u001B[38;5;21;01m.\u001B[39;00m\u001B[38;5;21;01mcore\u001B[39;00m\u001B[38;5;21;01m.\u001B[39;00m\u001B[38;5;21;01mapply\u001B[39;00m \u001B[38;5;28;01mimport\u001B[39;00m (\n\u001B[0;32m     60\u001B[0m     GroupByApply,\n\u001B[0;32m     61\u001B[0m     maybe_mangle_lambdas,\n\u001B[1;32m   (...)\u001B[0m\n\u001B[0;32m     64\u001B[0m     warn_alias_replacement,\n\u001B[0;32m     65\u001B[0m )\n\u001B[0;32m     66\u001B[0m \u001B[38;5;28;01mimport\u001B[39;00m \u001B[38;5;21;01mpandas\u001B[39;00m\u001B[38;5;21;01m.\u001B[39;00m\u001B[38;5;21;01mcore\u001B[39;00m\u001B[38;5;21;01m.\u001B[39;00m\u001B[38;5;21;01mcommon\u001B[39;00m \u001B[38;5;28;01mas\u001B[39;00m \u001B[38;5;21;01mcom\u001B[39;00m\n\u001B[1;32m---> 67\u001B[0m \u001B[38;5;28;01mfrom\u001B[39;00m \u001B[38;5;21;01mpandas\u001B[39;00m\u001B[38;5;21;01m.\u001B[39;00m\u001B[38;5;21;01mcore\u001B[39;00m\u001B[38;5;21;01m.\u001B[39;00m\u001B[38;5;21;01mframe\u001B[39;00m \u001B[38;5;28;01mimport\u001B[39;00m DataFrame\n\u001B[0;32m     68\u001B[0m \u001B[38;5;28;01mfrom\u001B[39;00m \u001B[38;5;21;01mpandas\u001B[39;00m\u001B[38;5;21;01m.\u001B[39;00m\u001B[38;5;21;01mcore\u001B[39;00m\u001B[38;5;21;01m.\u001B[39;00m\u001B[38;5;21;01mgroupby\u001B[39;00m \u001B[38;5;28;01mimport\u001B[39;00m (\n\u001B[0;32m     69\u001B[0m     base,\n\u001B[0;32m     70\u001B[0m     ops,\n\u001B[0;32m     71\u001B[0m )\n\u001B[0;32m     72\u001B[0m \u001B[38;5;28;01mfrom\u001B[39;00m \u001B[38;5;21;01mpandas\u001B[39;00m\u001B[38;5;21;01m.\u001B[39;00m\u001B[38;5;21;01mcore\u001B[39;00m\u001B[38;5;21;01m.\u001B[39;00m\u001B[38;5;21;01mgroupby\u001B[39;00m\u001B[38;5;21;01m.\u001B[39;00m\u001B[38;5;21;01mgroupby\u001B[39;00m \u001B[38;5;28;01mimport\u001B[39;00m (\n\u001B[0;32m     73\u001B[0m     GroupBy,\n\u001B[0;32m     74\u001B[0m     GroupByPlot,\n\u001B[1;32m   (...)\u001B[0m\n\u001B[0;32m     78\u001B[0m     _transform_template,\n\u001B[0;32m     79\u001B[0m )\n",
      "File \u001B[1;32m~\\PycharmProjects\\pythonProjectPOC\\venv\\lib\\site-packages\\pandas\\core\\frame.py:142\u001B[0m\n\u001B[0;32m    135\u001B[0m \u001B[38;5;28;01mfrom\u001B[39;00m \u001B[38;5;21;01mpandas\u001B[39;00m\u001B[38;5;21;01m.\u001B[39;00m\u001B[38;5;21;01mcore\u001B[39;00m\u001B[38;5;21;01m.\u001B[39;00m\u001B[38;5;21;01marrays\u001B[39;00m\u001B[38;5;21;01m.\u001B[39;00m\u001B[38;5;21;01msparse\u001B[39;00m \u001B[38;5;28;01mimport\u001B[39;00m SparseFrameAccessor\n\u001B[0;32m    136\u001B[0m \u001B[38;5;28;01mfrom\u001B[39;00m \u001B[38;5;21;01mpandas\u001B[39;00m\u001B[38;5;21;01m.\u001B[39;00m\u001B[38;5;21;01mcore\u001B[39;00m\u001B[38;5;21;01m.\u001B[39;00m\u001B[38;5;21;01mconstruction\u001B[39;00m \u001B[38;5;28;01mimport\u001B[39;00m (\n\u001B[0;32m    137\u001B[0m     ensure_wrapped_if_datetimelike,\n\u001B[0;32m    138\u001B[0m     extract_array,\n\u001B[0;32m    139\u001B[0m     sanitize_array,\n\u001B[0;32m    140\u001B[0m     sanitize_masked_array,\n\u001B[0;32m    141\u001B[0m )\n\u001B[1;32m--> 142\u001B[0m \u001B[38;5;28;01mfrom\u001B[39;00m \u001B[38;5;21;01mpandas\u001B[39;00m\u001B[38;5;21;01m.\u001B[39;00m\u001B[38;5;21;01mcore\u001B[39;00m\u001B[38;5;21;01m.\u001B[39;00m\u001B[38;5;21;01mgeneric\u001B[39;00m \u001B[38;5;28;01mimport\u001B[39;00m (\n\u001B[0;32m    143\u001B[0m     NDFrame,\n\u001B[0;32m    144\u001B[0m     make_doc,\n\u001B[0;32m    145\u001B[0m )\n\u001B[0;32m    146\u001B[0m \u001B[38;5;28;01mfrom\u001B[39;00m \u001B[38;5;21;01mpandas\u001B[39;00m\u001B[38;5;21;01m.\u001B[39;00m\u001B[38;5;21;01mcore\u001B[39;00m\u001B[38;5;21;01m.\u001B[39;00m\u001B[38;5;21;01mindexers\u001B[39;00m \u001B[38;5;28;01mimport\u001B[39;00m check_key_length\n\u001B[0;32m    147\u001B[0m \u001B[38;5;28;01mfrom\u001B[39;00m \u001B[38;5;21;01mpandas\u001B[39;00m\u001B[38;5;21;01m.\u001B[39;00m\u001B[38;5;21;01mcore\u001B[39;00m\u001B[38;5;21;01m.\u001B[39;00m\u001B[38;5;21;01mindexes\u001B[39;00m\u001B[38;5;21;01m.\u001B[39;00m\u001B[38;5;21;01mapi\u001B[39;00m \u001B[38;5;28;01mimport\u001B[39;00m (\n\u001B[0;32m    148\u001B[0m     DatetimeIndex,\n\u001B[0;32m    149\u001B[0m     Index,\n\u001B[1;32m   (...)\u001B[0m\n\u001B[0;32m    153\u001B[0m     ensure_index_from_sequences,\n\u001B[0;32m    154\u001B[0m )\n",
      "File \u001B[1;32m~\\PycharmProjects\\pythonProjectPOC\\venv\\lib\\site-packages\\pandas\\core\\generic.py:169\u001B[0m\n\u001B[0;32m    159\u001B[0m \u001B[38;5;28;01mfrom\u001B[39;00m \u001B[38;5;21;01mpandas\u001B[39;00m\u001B[38;5;21;01m.\u001B[39;00m\u001B[38;5;21;01mcore\u001B[39;00m\u001B[38;5;21;01m.\u001B[39;00m\u001B[38;5;21;01mflags\u001B[39;00m \u001B[38;5;28;01mimport\u001B[39;00m Flags\n\u001B[0;32m    160\u001B[0m \u001B[38;5;28;01mfrom\u001B[39;00m \u001B[38;5;21;01mpandas\u001B[39;00m\u001B[38;5;21;01m.\u001B[39;00m\u001B[38;5;21;01mcore\u001B[39;00m\u001B[38;5;21;01m.\u001B[39;00m\u001B[38;5;21;01mindexes\u001B[39;00m\u001B[38;5;21;01m.\u001B[39;00m\u001B[38;5;21;01mapi\u001B[39;00m \u001B[38;5;28;01mimport\u001B[39;00m (\n\u001B[0;32m    161\u001B[0m     DatetimeIndex,\n\u001B[0;32m    162\u001B[0m     Index,\n\u001B[1;32m   (...)\u001B[0m\n\u001B[0;32m    167\u001B[0m     ensure_index,\n\u001B[0;32m    168\u001B[0m )\n\u001B[1;32m--> 169\u001B[0m \u001B[38;5;28;01mfrom\u001B[39;00m \u001B[38;5;21;01mpandas\u001B[39;00m\u001B[38;5;21;01m.\u001B[39;00m\u001B[38;5;21;01mcore\u001B[39;00m\u001B[38;5;21;01m.\u001B[39;00m\u001B[38;5;21;01minternals\u001B[39;00m \u001B[38;5;28;01mimport\u001B[39;00m (\n\u001B[0;32m    170\u001B[0m     ArrayManager,\n\u001B[0;32m    171\u001B[0m     BlockManager,\n\u001B[0;32m    172\u001B[0m     SingleArrayManager,\n\u001B[0;32m    173\u001B[0m )\n\u001B[0;32m    174\u001B[0m \u001B[38;5;28;01mfrom\u001B[39;00m \u001B[38;5;21;01mpandas\u001B[39;00m\u001B[38;5;21;01m.\u001B[39;00m\u001B[38;5;21;01mcore\u001B[39;00m\u001B[38;5;21;01m.\u001B[39;00m\u001B[38;5;21;01minternals\u001B[39;00m\u001B[38;5;21;01m.\u001B[39;00m\u001B[38;5;21;01mconstruction\u001B[39;00m \u001B[38;5;28;01mimport\u001B[39;00m (\n\u001B[0;32m    175\u001B[0m     mgr_to_mgr,\n\u001B[0;32m    176\u001B[0m     ndarray_to_mgr,\n\u001B[0;32m    177\u001B[0m )\n\u001B[0;32m    178\u001B[0m \u001B[38;5;28;01mfrom\u001B[39;00m \u001B[38;5;21;01mpandas\u001B[39;00m\u001B[38;5;21;01m.\u001B[39;00m\u001B[38;5;21;01mcore\u001B[39;00m\u001B[38;5;21;01m.\u001B[39;00m\u001B[38;5;21;01mmethods\u001B[39;00m\u001B[38;5;21;01m.\u001B[39;00m\u001B[38;5;21;01mdescribe\u001B[39;00m \u001B[38;5;28;01mimport\u001B[39;00m describe_ndframe\n",
      "File \u001B[1;32m~\\PycharmProjects\\pythonProjectPOC\\venv\\lib\\site-packages\\pandas\\core\\internals\\__init__.py:2\u001B[0m\n\u001B[0;32m      1\u001B[0m \u001B[38;5;28;01mfrom\u001B[39;00m \u001B[38;5;21;01mpandas\u001B[39;00m\u001B[38;5;21;01m.\u001B[39;00m\u001B[38;5;21;01mcore\u001B[39;00m\u001B[38;5;21;01m.\u001B[39;00m\u001B[38;5;21;01minternals\u001B[39;00m\u001B[38;5;21;01m.\u001B[39;00m\u001B[38;5;21;01mapi\u001B[39;00m \u001B[38;5;28;01mimport\u001B[39;00m make_block\n\u001B[1;32m----> 2\u001B[0m \u001B[38;5;28;01mfrom\u001B[39;00m \u001B[38;5;21;01mpandas\u001B[39;00m\u001B[38;5;21;01m.\u001B[39;00m\u001B[38;5;21;01mcore\u001B[39;00m\u001B[38;5;21;01m.\u001B[39;00m\u001B[38;5;21;01minternals\u001B[39;00m\u001B[38;5;21;01m.\u001B[39;00m\u001B[38;5;21;01marray_manager\u001B[39;00m \u001B[38;5;28;01mimport\u001B[39;00m (\n\u001B[0;32m      3\u001B[0m     ArrayManager,\n\u001B[0;32m      4\u001B[0m     SingleArrayManager,\n\u001B[0;32m      5\u001B[0m )\n\u001B[0;32m      6\u001B[0m \u001B[38;5;28;01mfrom\u001B[39;00m \u001B[38;5;21;01mpandas\u001B[39;00m\u001B[38;5;21;01m.\u001B[39;00m\u001B[38;5;21;01mcore\u001B[39;00m\u001B[38;5;21;01m.\u001B[39;00m\u001B[38;5;21;01minternals\u001B[39;00m\u001B[38;5;21;01m.\u001B[39;00m\u001B[38;5;21;01mbase\u001B[39;00m \u001B[38;5;28;01mimport\u001B[39;00m (\n\u001B[0;32m      7\u001B[0m     DataManager,\n\u001B[0;32m      8\u001B[0m     SingleDataManager,\n\u001B[0;32m      9\u001B[0m )\n\u001B[0;32m     10\u001B[0m \u001B[38;5;28;01mfrom\u001B[39;00m \u001B[38;5;21;01mpandas\u001B[39;00m\u001B[38;5;21;01m.\u001B[39;00m\u001B[38;5;21;01mcore\u001B[39;00m\u001B[38;5;21;01m.\u001B[39;00m\u001B[38;5;21;01minternals\u001B[39;00m\u001B[38;5;21;01m.\u001B[39;00m\u001B[38;5;21;01mblocks\u001B[39;00m \u001B[38;5;28;01mimport\u001B[39;00m (  \u001B[38;5;66;03m# io.pytables, io.packers\u001B[39;00m\n\u001B[0;32m     11\u001B[0m     Block,\n\u001B[0;32m     12\u001B[0m     DatetimeTZBlock,\n\u001B[0;32m     13\u001B[0m     ExtensionBlock,\n\u001B[0;32m     14\u001B[0m )\n",
      "File \u001B[1;32m~\\PycharmProjects\\pythonProjectPOC\\venv\\lib\\site-packages\\pandas\\core\\internals\\array_manager.py:86\u001B[0m\n\u001B[0;32m     71\u001B[0m \u001B[38;5;28;01mfrom\u001B[39;00m \u001B[38;5;21;01mpandas\u001B[39;00m\u001B[38;5;21;01m.\u001B[39;00m\u001B[38;5;21;01mcore\u001B[39;00m\u001B[38;5;21;01m.\u001B[39;00m\u001B[38;5;21;01minternals\u001B[39;00m\u001B[38;5;21;01m.\u001B[39;00m\u001B[38;5;21;01mbase\u001B[39;00m \u001B[38;5;28;01mimport\u001B[39;00m (\n\u001B[0;32m     72\u001B[0m     DataManager,\n\u001B[0;32m     73\u001B[0m     SingleDataManager,\n\u001B[0;32m     74\u001B[0m     ensure_np_dtype,\n\u001B[0;32m     75\u001B[0m     interleaved_dtype,\n\u001B[0;32m     76\u001B[0m )\n\u001B[0;32m     77\u001B[0m \u001B[38;5;28;01mfrom\u001B[39;00m \u001B[38;5;21;01mpandas\u001B[39;00m\u001B[38;5;21;01m.\u001B[39;00m\u001B[38;5;21;01mcore\u001B[39;00m\u001B[38;5;21;01m.\u001B[39;00m\u001B[38;5;21;01minternals\u001B[39;00m\u001B[38;5;21;01m.\u001B[39;00m\u001B[38;5;21;01mblocks\u001B[39;00m \u001B[38;5;28;01mimport\u001B[39;00m (\n\u001B[0;32m     78\u001B[0m     BlockPlacement,\n\u001B[0;32m     79\u001B[0m     ensure_block_shape,\n\u001B[1;32m   (...)\u001B[0m\n\u001B[0;32m     84\u001B[0m     to_native_types,\n\u001B[0;32m     85\u001B[0m )\n\u001B[1;32m---> 86\u001B[0m \u001B[38;5;28;01mfrom\u001B[39;00m \u001B[38;5;21;01mpandas\u001B[39;00m\u001B[38;5;21;01m.\u001B[39;00m\u001B[38;5;21;01mcore\u001B[39;00m\u001B[38;5;21;01m.\u001B[39;00m\u001B[38;5;21;01minternals\u001B[39;00m\u001B[38;5;21;01m.\u001B[39;00m\u001B[38;5;21;01mmanagers\u001B[39;00m \u001B[38;5;28;01mimport\u001B[39;00m make_na_array\n\u001B[0;32m     88\u001B[0m \u001B[38;5;28;01mif\u001B[39;00m TYPE_CHECKING:\n\u001B[0;32m     89\u001B[0m     \u001B[38;5;28;01mfrom\u001B[39;00m \u001B[38;5;21;01mcollections\u001B[39;00m\u001B[38;5;21;01m.\u001B[39;00m\u001B[38;5;21;01mabc\u001B[39;00m \u001B[38;5;28;01mimport\u001B[39;00m Hashable\n",
      "File \u001B[1;32m<frozen importlib._bootstrap>:1027\u001B[0m, in \u001B[0;36m_find_and_load\u001B[1;34m(name, import_)\u001B[0m\n",
      "File \u001B[1;32m<frozen importlib._bootstrap>:1006\u001B[0m, in \u001B[0;36m_find_and_load_unlocked\u001B[1;34m(name, import_)\u001B[0m\n",
      "File \u001B[1;32m<frozen importlib._bootstrap>:688\u001B[0m, in \u001B[0;36m_load_unlocked\u001B[1;34m(spec)\u001B[0m\n",
      "File \u001B[1;32m<frozen importlib._bootstrap_external>:879\u001B[0m, in \u001B[0;36mexec_module\u001B[1;34m(self, module)\u001B[0m\n",
      "File \u001B[1;32m<frozen importlib._bootstrap_external>:975\u001B[0m, in \u001B[0;36mget_code\u001B[1;34m(self, fullname)\u001B[0m\n",
      "File \u001B[1;32m<frozen importlib._bootstrap_external>:1074\u001B[0m, in \u001B[0;36mget_data\u001B[1;34m(self, path)\u001B[0m\n",
      "\u001B[1;31mKeyboardInterrupt\u001B[0m: "
     ]
    }
   ],
   "source": [
    "import pandas as pd\n",
    "import io\n",
    "import requests\n",
    "from sklearn import preprocessing\n",
    "from sklearn.model_selection import train_test_split\n",
    "from sklearn.ensemble import RandomForestClassifier"
   ],
   "metadata": {
    "collapsed": false,
    "ExecuteTime": {
     "end_time": "2023-08-31T21:48:02.933957100Z",
     "start_time": "2023-08-31T21:47:56.394578Z"
    }
   },
   "id": "initial_id"
  },
  {
   "cell_type": "code",
   "execution_count": 12,
   "outputs": [
    {
     "name": "stderr",
     "output_type": "stream",
     "text": [
      "C:\\Users\\dargo\\AppData\\Local\\Temp\\ipykernel_692\\1361649060.py:3: DtypeWarning: Columns (14,18,23,24,26,28,29,31,32,33,41) have mixed types. Specify dtype option on import or set low_memory=False.\n",
      "  c = pd.read_csv(io.StringIO(s.decode('utf-8')), sep='|')\n"
     ]
    }
   ],
   "source": [
    "url = \"https://static.data.gouv.fr/resources/demandes-de-valeurs-foncieres/20230405-154703/valeursfoncieres-2018.txt\"\n",
    "s = requests.get(url).content\n",
    "c = pd.read_csv(io.StringIO(s.decode('utf-8')), sep='|')"
   ],
   "metadata": {
    "collapsed": false,
    "ExecuteTime": {
     "end_time": "2023-08-28T18:07:14.817869600Z",
     "start_time": "2023-08-28T18:06:40.716025100Z"
    }
   },
   "id": "ebfcea609430a156"
  },
  {
   "cell_type": "markdown",
   "source": [
    "# Cleaning"
   ],
   "metadata": {
    "collapsed": false
   },
   "id": "8d764d742219f04"
  },
  {
   "cell_type": "code",
   "execution_count": null,
   "outputs": [],
   "source": [
    "# Selection des colonnes utiles\n",
    "\n",
    "dataset = c[['Date mutation',\n",
    "         'Nature mutation',\n",
    "         'Valeur fonciere',\n",
    "         'Code voie',\n",
    "         'Code postal',\n",
    "         'Code departement',\n",
    "         'Code commune',\n",
    "         'Nombre de lots',\n",
    "         'Code type local',\n",
    "         'Surface reelle bati',\n",
    "         'Nombre pieces principales',\n",
    "         'Nature culture',\n",
    "         'Nature culture speciale',\n",
    "         'Surface terrain'\n",
    "         ]]"
   ],
   "metadata": {
    "collapsed": false
   },
   "id": "287533ef2dd0b74c"
  },
  {
   "cell_type": "code",
   "execution_count": null,
   "outputs": [],
   "source": [
    "# suppression valeur fonciere nulle\n",
    "\n",
    "dataset.dropna(subset=['Valeur fonciere'], inplace=True)"
   ],
   "metadata": {
    "collapsed": false
   },
   "id": "35c0c4cf95e20ca0"
  },
  {
   "cell_type": "code",
   "execution_count": null,
   "outputs": [],
   "source": [
    "# Passage de la colonnes date mutation en datetime puis en seconde pour avoir des int\n",
    "\n",
    "dataset['Date mutation'] = pd.to_datetime(dataset['Date mutation'], format='mixed')\n",
    "dataset['Date mutation'] = dataset['Date mutation'].apply(lambda x : x.timestamp())"
   ],
   "metadata": {
    "collapsed": false
   },
   "id": "9b1b18aa753a5c7a"
  },
  {
   "cell_type": "code",
   "execution_count": null,
   "outputs": [],
   "source": [
    "# Enumeration des différents types de mutation et labelisation en entier\n",
    "\n",
    "mutation_values = dataset['Nature mutation'].drop_duplicates().values\n",
    "for idx, i in enumerate(mutation_values) :\n",
    "    dataset['Nature mutation'] = dataset['Nature mutation'].str.replace(i, str(idx))\n",
    "    \n",
    "dataset['Nature mutation']= dataset['Nature mutation'].apply(int)"
   ],
   "metadata": {
    "collapsed": false
   },
   "id": "92be7336eeeb5e2b"
  },
  {
   "cell_type": "markdown",
   "source": [
    "# Conversion en str de toute la colonne avec remplissage des NaN, Labelisation + Ajout prise en compte code rivoli\n",
    "\n",
    "dataset['Code voie'] = dataset['Code voie'].astype(str)\n",
    "dataset['Code voie'].fillna('', inplace=True)\n",
    "Code_Voie = preprocessing.LabelEncoder()\n",
    "Code_Voie.fit(dataset['Code voie'])\n",
    "dataset['Code voie'] =  Code_Voie.transform(dataset['Code voie'])"
   ],
   "metadata": {
    "collapsed": false
   },
   "id": "308fd12abbcc205e"
  },
  {
   "cell_type": "code",
   "execution_count": null,
   "outputs": [],
   "source": [
    "# Remplissage des valeurs NaN puis labelisation\n",
    "\n",
    "dataset['Type de voie'].fillna('', inplace=True)\n",
    "Type_Voie = preprocessing.LabelEncoder()\n",
    "Type_Voie.fit(dataset['Type de voie'])\n",
    "dataset['Type de voie'] =  Type_Voie.transform(dataset['Type de voie'])"
   ],
   "metadata": {
    "collapsed": false
   },
   "id": "a0f50aeaba6830b7"
  },
  {
   "cell_type": "code",
   "execution_count": null,
   "outputs": [],
   "source": [
    "# Remplissage des valeurs NaN\n",
    "\n",
    "dataset['Surface reelle bati'].fillna(0, inplace=True)"
   ],
   "metadata": {
    "collapsed": false
   },
   "id": "fe6f61b1739c5bab"
  },
  {
   "cell_type": "code",
   "execution_count": null,
   "outputs": [],
   "source": [
    "# Remplissage des valeurs NaN\n",
    "\n",
    "dataset['Nombre pieces principales'].fillna(0, inplace=True)"
   ],
   "metadata": {
    "collapsed": false
   },
   "id": "8e7a9c04db00a656"
  },
  {
   "cell_type": "code",
   "execution_count": null,
   "outputs": [],
   "source": [
    "# Remplissage des valeurs NaN\n",
    "\n",
    "dataset['Surface terrain'].fillna(0, inplace=True)"
   ],
   "metadata": {
    "collapsed": false
   },
   "id": "f76d5a3e0f981a"
  },
  {
   "cell_type": "code",
   "execution_count": null,
   "outputs": [],
   "source": [
    "dataset['Nature culture'].fillna('', inplace=True)\n",
    "NC = preprocessing.LabelEncoder()\n",
    "NC.fit(dataset['Nature culture'])\n",
    "dataset['Nature culture'] =  NC.transform(dataset['Nature culture'])"
   ],
   "metadata": {
    "collapsed": false
   },
   "id": "ef63c4f84be43b0b"
  },
  {
   "cell_type": "code",
   "execution_count": null,
   "outputs": [],
   "source": [
    "dataset['Nature culture speciale'].fillna('', inplace=True)\n",
    "NCS = preprocessing.LabelEncoder()\n",
    "NCS.fit(dataset['Nature culture speciale'])\n",
    "dataset['Nature culture speciale'] =  NCS.transform(dataset['Nature culture speciale'])"
   ],
   "metadata": {
    "collapsed": false
   },
   "id": "302a45be4f4e3071"
  },
  {
   "cell_type": "code",
   "execution_count": null,
   "outputs": [],
   "source": [
    "c.dtypes"
   ],
   "metadata": {
    "collapsed": false
   },
   "id": "58beb99898797d88"
  },
  {
   "cell_type": "markdown",
   "source": [
    "# Y columns"
   ],
   "metadata": {
    "collapsed": false
   },
   "id": "34427667979c4d93"
  },
  {
   "cell_type": "code",
   "execution_count": null,
   "outputs": [],
   "source": [
    "X = c.drop(['Valeur fonciere'], axis=1)\n",
    "Y = c['Valeur fonciere'].str.replace(',', '.')\n",
    "Y = Y.astype('float64')\n",
    "Y = Y.astype(int)"
   ],
   "metadata": {
    "collapsed": false
   },
   "id": "9359c61972932c2d"
  },
  {
   "cell_type": "code",
   "execution_count": null,
   "outputs": [],
   "source": [
    "Y_10 = Y / 10\n",
    "Y_10 = Y_10.astype(int)\n",
    "Y_100 = Y_10 / 10\n",
    "Y_100 = Y_100.astype(int)\n",
    "Y_1000 = Y_100 / 10\n",
    "Y_1000 = Y_1000.astype(int)\n",
    "Y_10000 = Y_1000 / 10\n",
    "Y_10000 = Y_10000.astype(int)"
   ],
   "metadata": {
    "collapsed": false
   },
   "id": "2f85616ac699a5cc"
  },
  {
   "cell_type": "markdown",
   "source": [
    "# Division"
   ],
   "metadata": {
    "collapsed": false
   },
   "id": "9b8e94b783271537"
  },
  {
   "cell_type": "code",
   "execution_count": null,
   "outputs": [],
   "source": [
    "X_test, X_train, Y_test, Y_train = train_test_split(X, Y, train_size=0.7, random_state=42)"
   ],
   "metadata": {
    "collapsed": false
   },
   "id": "1936f4940d8722ce"
  },
  {
   "cell_type": "code",
   "execution_count": null,
   "outputs": [],
   "source": [
    "X_test_10, X_train_10, Y_test_10, Y_train_10 = train_test_split(X, Y_10, train_size=0.7, random_state=42)"
   ],
   "metadata": {
    "collapsed": false
   },
   "id": "1464c1611645d56f"
  },
  {
   "cell_type": "code",
   "execution_count": null,
   "outputs": [],
   "source": [
    "X_test_100, X_train_100, Y_test_100, Y_train_100 = train_test_split(X, Y_100, train_size=0.7, random_state=42)"
   ],
   "metadata": {
    "collapsed": false
   },
   "id": "660c1315e26dec86"
  },
  {
   "cell_type": "code",
   "execution_count": null,
   "outputs": [],
   "source": [
    "X_test_1000, X_train_1000, Y_test_1000, Y_train_1000 = train_test_split(X, Y_1000, train_size=0.7, random_state=42)"
   ],
   "metadata": {
    "collapsed": false
   },
   "id": "8e61f8ad1b96cde4"
  },
  {
   "cell_type": "markdown",
   "source": [
    "# Model training\n",
    "\n",
    "## Random forest"
   ],
   "metadata": {
    "collapsed": false
   },
   "id": "80d6090001be0c25"
  },
  {
   "cell_type": "code",
   "execution_count": null,
   "outputs": [],
   "source": [
    "clf = RandomForestClassifier(n_estimators=100,max_depth=5, random_state=0)\n",
    "clf.fit(X_train_1000,Y_train_1000)"
   ],
   "metadata": {
    "collapsed": false
   },
   "id": "e8f604b08ff3482a"
  },
  {
   "cell_type": "code",
   "execution_count": null,
   "outputs": [],
   "source": [
    "clf.predict_proba(X_test_1000)  "
   ],
   "metadata": {
    "collapsed": false
   },
   "id": "ab1e79a92bbdfc81"
  }
 ],
 "metadata": {
  "kernelspec": {
   "display_name": "Python 3",
   "language": "python",
   "name": "python3"
  },
  "language_info": {
   "codemirror_mode": {
    "name": "ipython",
    "version": 2
   },
   "file_extension": ".py",
   "mimetype": "text/x-python",
   "name": "python",
   "nbconvert_exporter": "python",
   "pygments_lexer": "ipython2",
   "version": "2.7.6"
  }
 },
 "nbformat": 4,
 "nbformat_minor": 5
}
