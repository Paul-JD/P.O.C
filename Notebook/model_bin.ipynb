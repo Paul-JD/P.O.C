{
 "cells": [
  {
   "cell_type": "code",
   "execution_count": 4,
   "id": "initial_id",
   "metadata": {
    "ExecuteTime": {
     "end_time": "2023-09-06T20:03:41.529201200Z",
     "start_time": "2023-09-06T20:03:41.518194500Z"
    }
   },
   "outputs": [],
   "source": [
    "from collections import Counter\n",
    "from math import log\n",
    "\n",
    "import numpy\n",
    "import pandas as pd\n",
    "from matplotlib import pyplot as plt\n",
    "from sklearn.ensemble import RandomForestClassifier\n",
    "from sklearn.metrics import confusion_matrix, classification_report\n",
    "from sklearn.model_selection import train_test_split\n",
    "\n",
    "from Utility.Get_dataset_clean_function import upload_data_in_blob, download_data_from_blob"
   ]
  },
  {
   "cell_type": "code",
   "execution_count": 14,
   "id": "809b21794eb5fc61",
   "metadata": {
    "ExecuteTime": {
     "end_time": "2023-09-06T20:05:32.462235500Z",
     "start_time": "2023-09-06T20:05:32.439935500Z"
    }
   },
   "outputs": [],
   "source": [
    "def get_confusion_matrix(y_test, y_pred):\n",
    "    cm = confusion_matrix(y_test, y_pred)\n",
    "    print(cm)\n",
    "    print(classification_report(y_test, y_pred))"
   ]
  },
  {
   "cell_type": "code",
   "execution_count": 5,
   "id": "aa9b98c4ca4ae776",
   "metadata": {
    "ExecuteTime": {
     "end_time": "2023-09-06T20:03:45.980767600Z",
     "start_time": "2023-09-06T20:03:44.382083100Z"
    }
   },
   "outputs": [
    {
     "data": {
      "text/plain": "       Unnamed: 0  date_mutation  code_postal  nombre_lots  \\\n0               0   1.641254e+09      75018.0            2   \n1               1   1.641427e+09      75003.0            1   \n2               2   1.641341e+09      75009.0            3   \n3               3   1.641341e+09      75010.0            2   \n4               4   1.641514e+09      75020.0            2   \n...           ...            ...          ...          ...   \n35602       35602   1.672186e+09      75006.0            1   \n35603       35603   1.672272e+09      75016.0            3   \n35604       35604   1.667434e+09      75015.0            1   \n35605       35605   1.671754e+09      75016.0            2   \n35606       35606   1.671408e+09      75015.0            2   \n\n       surface_reelle_bati  nombre_pieces_principales  surface_terrain  \\\n0                    61.00                        2.0              0.0   \n1                    40.66                        3.0              0.0   \n2                    66.26                        3.0              0.0   \n3                    35.19                        2.0              0.0   \n4                    32.52                        1.0              0.0   \n...                    ...                        ...              ...   \n35602                90.00                        3.0              0.0   \n35603               154.75                        6.0              0.0   \n35604                35.00                        2.0              0.0   \n35605                58.00                        2.0              0.0   \n35606                46.65                        3.0              0.0   \n\n       valeur_fonciere  longitude   latitude  ...  SQ  CRS  VOIE  CR  RLE  \\\n0             580000.0   2.348168  48.884490  ...   0    0     0   0    0   \n1             605000.0   2.362871  48.863374  ...   0    0     0   0    0   \n2             716250.0   2.332324  48.880353  ...   0    0     0   0    0   \n3             320000.0   2.362613  48.879658  ...   0    0     0   0    0   \n4             320000.0   2.405513  48.872782  ...   0    0     0   0    0   \n...                ...        ...        ...  ...  ..  ...   ...  ..  ...   \n35602         213000.0   2.321291  48.845167  ...   0    0     0   0    0   \n35603        1650000.0   2.277899  48.859662  ...   0    0     0   0    0   \n35604         291000.0   2.301128  48.836261  ...   0    0     0   0    0   \n35605         934000.0   2.275685  48.869823  ...   0    0     0   0    0   \n35606         525000.0   2.289478  48.842228  ...   0    0     0   0    0   \n\n       Vente  Echange  Vente en l'état futur d'achèvement  \\\n0          2        0                                   0   \n1          1        0                                   0   \n2          1        0                                   0   \n3          1        0                                   0   \n4          1        0                                   0   \n...      ...      ...                                 ...   \n35602      1        0                                   0   \n35603      1        0                                   0   \n35604      0        0                                   0   \n35605      0        1                                   0   \n35606      1        0                                   0   \n\n       Vente terrain à bâtir  Adjudication  \n0                          0             0  \n1                          0             0  \n2                          0             0  \n3                          0             0  \n4                          0             0  \n...                      ...           ...  \n35602                      0             0  \n35603                      0             0  \n35604                      0             1  \n35605                      0             0  \n35606                      0             0  \n\n[35607 rows x 32 columns]",
      "text/html": "<div>\n<style scoped>\n    .dataframe tbody tr th:only-of-type {\n        vertical-align: middle;\n    }\n\n    .dataframe tbody tr th {\n        vertical-align: top;\n    }\n\n    .dataframe thead th {\n        text-align: right;\n    }\n</style>\n<table border=\"1\" class=\"dataframe\">\n  <thead>\n    <tr style=\"text-align: right;\">\n      <th></th>\n      <th>Unnamed: 0</th>\n      <th>date_mutation</th>\n      <th>code_postal</th>\n      <th>nombre_lots</th>\n      <th>surface_reelle_bati</th>\n      <th>nombre_pieces_principales</th>\n      <th>surface_terrain</th>\n      <th>valeur_fonciere</th>\n      <th>longitude</th>\n      <th>latitude</th>\n      <th>...</th>\n      <th>SQ</th>\n      <th>CRS</th>\n      <th>VOIE</th>\n      <th>CR</th>\n      <th>RLE</th>\n      <th>Vente</th>\n      <th>Echange</th>\n      <th>Vente en l'état futur d'achèvement</th>\n      <th>Vente terrain à bâtir</th>\n      <th>Adjudication</th>\n    </tr>\n  </thead>\n  <tbody>\n    <tr>\n      <th>0</th>\n      <td>0</td>\n      <td>1.641254e+09</td>\n      <td>75018.0</td>\n      <td>2</td>\n      <td>61.00</td>\n      <td>2.0</td>\n      <td>0.0</td>\n      <td>580000.0</td>\n      <td>2.348168</td>\n      <td>48.884490</td>\n      <td>...</td>\n      <td>0</td>\n      <td>0</td>\n      <td>0</td>\n      <td>0</td>\n      <td>0</td>\n      <td>2</td>\n      <td>0</td>\n      <td>0</td>\n      <td>0</td>\n      <td>0</td>\n    </tr>\n    <tr>\n      <th>1</th>\n      <td>1</td>\n      <td>1.641427e+09</td>\n      <td>75003.0</td>\n      <td>1</td>\n      <td>40.66</td>\n      <td>3.0</td>\n      <td>0.0</td>\n      <td>605000.0</td>\n      <td>2.362871</td>\n      <td>48.863374</td>\n      <td>...</td>\n      <td>0</td>\n      <td>0</td>\n      <td>0</td>\n      <td>0</td>\n      <td>0</td>\n      <td>1</td>\n      <td>0</td>\n      <td>0</td>\n      <td>0</td>\n      <td>0</td>\n    </tr>\n    <tr>\n      <th>2</th>\n      <td>2</td>\n      <td>1.641341e+09</td>\n      <td>75009.0</td>\n      <td>3</td>\n      <td>66.26</td>\n      <td>3.0</td>\n      <td>0.0</td>\n      <td>716250.0</td>\n      <td>2.332324</td>\n      <td>48.880353</td>\n      <td>...</td>\n      <td>0</td>\n      <td>0</td>\n      <td>0</td>\n      <td>0</td>\n      <td>0</td>\n      <td>1</td>\n      <td>0</td>\n      <td>0</td>\n      <td>0</td>\n      <td>0</td>\n    </tr>\n    <tr>\n      <th>3</th>\n      <td>3</td>\n      <td>1.641341e+09</td>\n      <td>75010.0</td>\n      <td>2</td>\n      <td>35.19</td>\n      <td>2.0</td>\n      <td>0.0</td>\n      <td>320000.0</td>\n      <td>2.362613</td>\n      <td>48.879658</td>\n      <td>...</td>\n      <td>0</td>\n      <td>0</td>\n      <td>0</td>\n      <td>0</td>\n      <td>0</td>\n      <td>1</td>\n      <td>0</td>\n      <td>0</td>\n      <td>0</td>\n      <td>0</td>\n    </tr>\n    <tr>\n      <th>4</th>\n      <td>4</td>\n      <td>1.641514e+09</td>\n      <td>75020.0</td>\n      <td>2</td>\n      <td>32.52</td>\n      <td>1.0</td>\n      <td>0.0</td>\n      <td>320000.0</td>\n      <td>2.405513</td>\n      <td>48.872782</td>\n      <td>...</td>\n      <td>0</td>\n      <td>0</td>\n      <td>0</td>\n      <td>0</td>\n      <td>0</td>\n      <td>1</td>\n      <td>0</td>\n      <td>0</td>\n      <td>0</td>\n      <td>0</td>\n    </tr>\n    <tr>\n      <th>...</th>\n      <td>...</td>\n      <td>...</td>\n      <td>...</td>\n      <td>...</td>\n      <td>...</td>\n      <td>...</td>\n      <td>...</td>\n      <td>...</td>\n      <td>...</td>\n      <td>...</td>\n      <td>...</td>\n      <td>...</td>\n      <td>...</td>\n      <td>...</td>\n      <td>...</td>\n      <td>...</td>\n      <td>...</td>\n      <td>...</td>\n      <td>...</td>\n      <td>...</td>\n      <td>...</td>\n    </tr>\n    <tr>\n      <th>35602</th>\n      <td>35602</td>\n      <td>1.672186e+09</td>\n      <td>75006.0</td>\n      <td>1</td>\n      <td>90.00</td>\n      <td>3.0</td>\n      <td>0.0</td>\n      <td>213000.0</td>\n      <td>2.321291</td>\n      <td>48.845167</td>\n      <td>...</td>\n      <td>0</td>\n      <td>0</td>\n      <td>0</td>\n      <td>0</td>\n      <td>0</td>\n      <td>1</td>\n      <td>0</td>\n      <td>0</td>\n      <td>0</td>\n      <td>0</td>\n    </tr>\n    <tr>\n      <th>35603</th>\n      <td>35603</td>\n      <td>1.672272e+09</td>\n      <td>75016.0</td>\n      <td>3</td>\n      <td>154.75</td>\n      <td>6.0</td>\n      <td>0.0</td>\n      <td>1650000.0</td>\n      <td>2.277899</td>\n      <td>48.859662</td>\n      <td>...</td>\n      <td>0</td>\n      <td>0</td>\n      <td>0</td>\n      <td>0</td>\n      <td>0</td>\n      <td>1</td>\n      <td>0</td>\n      <td>0</td>\n      <td>0</td>\n      <td>0</td>\n    </tr>\n    <tr>\n      <th>35604</th>\n      <td>35604</td>\n      <td>1.667434e+09</td>\n      <td>75015.0</td>\n      <td>1</td>\n      <td>35.00</td>\n      <td>2.0</td>\n      <td>0.0</td>\n      <td>291000.0</td>\n      <td>2.301128</td>\n      <td>48.836261</td>\n      <td>...</td>\n      <td>0</td>\n      <td>0</td>\n      <td>0</td>\n      <td>0</td>\n      <td>0</td>\n      <td>0</td>\n      <td>0</td>\n      <td>0</td>\n      <td>0</td>\n      <td>1</td>\n    </tr>\n    <tr>\n      <th>35605</th>\n      <td>35605</td>\n      <td>1.671754e+09</td>\n      <td>75016.0</td>\n      <td>2</td>\n      <td>58.00</td>\n      <td>2.0</td>\n      <td>0.0</td>\n      <td>934000.0</td>\n      <td>2.275685</td>\n      <td>48.869823</td>\n      <td>...</td>\n      <td>0</td>\n      <td>0</td>\n      <td>0</td>\n      <td>0</td>\n      <td>0</td>\n      <td>0</td>\n      <td>1</td>\n      <td>0</td>\n      <td>0</td>\n      <td>0</td>\n    </tr>\n    <tr>\n      <th>35606</th>\n      <td>35606</td>\n      <td>1.671408e+09</td>\n      <td>75015.0</td>\n      <td>2</td>\n      <td>46.65</td>\n      <td>3.0</td>\n      <td>0.0</td>\n      <td>525000.0</td>\n      <td>2.289478</td>\n      <td>48.842228</td>\n      <td>...</td>\n      <td>0</td>\n      <td>0</td>\n      <td>0</td>\n      <td>0</td>\n      <td>0</td>\n      <td>1</td>\n      <td>0</td>\n      <td>0</td>\n      <td>0</td>\n      <td>0</td>\n    </tr>\n  </tbody>\n</table>\n<p>35607 rows × 32 columns</p>\n</div>"
     },
     "execution_count": 5,
     "metadata": {},
     "output_type": "execute_result"
    }
   ],
   "source": [
    "df = download_data_from_blob('data_for_model_2022.csv','filestorage')\n",
    "df"
   ]
  },
  {
   "cell_type": "code",
   "execution_count": 7,
   "id": "d7907fe20a3f316f",
   "metadata": {
    "ExecuteTime": {
     "end_time": "2023-09-06T20:03:54.145311600Z",
     "start_time": "2023-09-06T20:03:54.115490700Z"
    }
   },
   "outputs": [],
   "source": [
    "lkm = df[[\n",
    "    'code_postal',\n",
    "    'nombre_lots',\n",
    "    'surface_reelle_bati',\n",
    "    'nombre_pieces_principales',\n",
    "    'surface_terrain',\n",
    "    'valeur_fonciere',\n",
    "    'longitude', 'latitude',\n",
    "    'Appartement',\n",
    "    'Maison',\n",
    "    'RUE',\n",
    "    'AV',\n",
    "    'BD',\n",
    "    'CITE',\n",
    "    'OTHER',\n",
    "    'PL',\n",
    "    'IMP',\n",
    "    'ALL',\n",
    "    'QUAI',\n",
    "    'VC',\n",
    "    'SQ',\n",
    "    'CRS',\n",
    "    'VOIE',\n",
    "    'CR',\n",
    "    'RLE'\n",
    "]]"
   ]
  },
  {
   "cell_type": "code",
   "execution_count": 5,
   "id": "8337a32dfc9e930e",
   "metadata": {
    "ExecuteTime": {
     "end_time": "2023-09-06T19:35:48.663145900Z",
     "start_time": "2023-09-06T19:35:48.532613700Z"
    }
   },
   "outputs": [
    {
     "data": {
      "text/plain": "(35607, 25)"
     },
     "execution_count": 5,
     "metadata": {},
     "output_type": "execute_result"
    }
   ],
   "source": [
    "lkm.shape"
   ]
  },
  {
   "cell_type": "code",
   "execution_count": 8,
   "id": "63754d49be7be187",
   "metadata": {
    "ExecuteTime": {
     "end_time": "2023-09-06T20:03:56.555082100Z",
     "start_time": "2023-09-06T20:03:56.500014400Z"
    }
   },
   "outputs": [
    {
     "name": "stderr",
     "output_type": "stream",
     "text": [
      "C:\\Users\\dargo\\AppData\\Local\\Temp\\ipykernel_14400\\3352471365.py:1: SettingWithCopyWarning: \n",
      "A value is trying to be set on a copy of a slice from a DataFrame.\n",
      "Try using .loc[row_indexer,col_indexer] = value instead\n",
      "\n",
      "See the caveats in the documentation: https://pandas.pydata.org/pandas-docs/stable/user_guide/indexing.html#returning-a-view-versus-a-copy\n",
      "  lkm['log_val'] = lkm.loc[:, 'valeur_fonciere'].apply(lambda x: log(x))\n"
     ]
    }
   ],
   "source": [
    "lkm['log_val'] = lkm.loc[:, 'valeur_fonciere'].apply(lambda x: log(x))"
   ]
  },
  {
   "cell_type": "code",
   "execution_count": 7,
   "id": "52c136d26c9c58cd",
   "metadata": {
    "ExecuteTime": {
     "end_time": "2023-09-06T19:35:48.716312800Z",
     "start_time": "2023-09-06T19:35:48.622174Z"
    }
   },
   "outputs": [
    {
     "data": {
      "text/plain": "count    35607.000000\nmean        13.131284\nstd          0.772460\nmin         11.512925\n25%         12.611538\n50%         13.060488\n75%         13.573439\nmax         20.222738\nName: log_val, dtype: float64"
     },
     "execution_count": 7,
     "metadata": {},
     "output_type": "execute_result"
    }
   ],
   "source": [
    "lkm['log_val'].describe()"
   ]
  },
  {
   "cell_type": "code",
   "execution_count": 9,
   "id": "89ab8a7f3e14a2d7",
   "metadata": {
    "ExecuteTime": {
     "end_time": "2023-09-06T20:04:00.835305600Z",
     "start_time": "2023-09-06T20:04:00.807306700Z"
    }
   },
   "outputs": [
    {
     "name": "stderr",
     "output_type": "stream",
     "text": [
      "C:\\Users\\dargo\\AppData\\Local\\Temp\\ipykernel_14400\\2527217532.py:1: SettingWithCopyWarning: \n",
      "A value is trying to be set on a copy of a slice from a DataFrame.\n",
      "Try using .loc[row_indexer,col_indexer] = value instead\n",
      "\n",
      "See the caveats in the documentation: https://pandas.pydata.org/pandas-docs/stable/user_guide/indexing.html#returning-a-view-versus-a-copy\n",
      "  lkm.loc[lkm['log_val'] <= 12.611538, 'log_class'] = 0\n"
     ]
    }
   ],
   "source": [
    "lkm.loc[lkm['log_val'] <= 12.611538, 'log_class'] = 0\n",
    "lkm.loc[(lkm['log_val'] > 12.611538) & (lkm['log_val'] <= 13.060488), 'log_class'] = 1\n",
    "lkm.loc[(lkm['log_val'] > 13.060488) & (lkm['log_val'] <= 13.573439), 'log_class'] = 2\n",
    "lkm.loc[(lkm['log_val'] > 13.573439), 'log_class'] = 3"
   ]
  },
  {
   "cell_type": "code",
   "execution_count": 10,
   "id": "c483179030dfb823",
   "metadata": {
    "ExecuteTime": {
     "end_time": "2023-09-06T20:04:04.209307900Z",
     "start_time": "2023-09-06T20:04:04.202333400Z"
    }
   },
   "outputs": [],
   "source": [
    "X = lkm.drop(labels=['valeur_fonciere', 'log_val', 'log_class'], axis=1)\n",
    "Y = lkm['log_class']"
   ]
  },
  {
   "cell_type": "code",
   "execution_count": 10,
   "id": "db28ec036581818e",
   "metadata": {
    "ExecuteTime": {
     "end_time": "2023-09-06T19:35:48.969365700Z",
     "start_time": "2023-09-06T19:35:48.707306900Z"
    }
   },
   "outputs": [
    {
     "data": {
      "text/plain": "Counter({2.0: 8874, 1.0: 8755, 0.0: 9092, 3.0: 8886})"
     },
     "execution_count": 10,
     "metadata": {},
     "output_type": "execute_result"
    }
   ],
   "source": [
    "Counter(Y)"
   ]
  },
  {
   "cell_type": "code",
   "execution_count": 11,
   "id": "924e656fd14924c9",
   "metadata": {
    "ExecuteTime": {
     "end_time": "2023-09-06T20:04:06.818345200Z",
     "start_time": "2023-09-06T20:04:06.789167500Z"
    }
   },
   "outputs": [],
   "source": [
    "X_train, X_test, Y_train, Y_test = train_test_split(X, Y, train_size=0.7)"
   ]
  },
  {
   "cell_type": "code",
   "execution_count": 15,
   "id": "dd025557f8ee4089",
   "metadata": {
    "ExecuteTime": {
     "end_time": "2023-09-06T20:06:21.244596900Z",
     "start_time": "2023-09-06T20:05:37.822241900Z"
    }
   },
   "outputs": [
    {
     "name": "stderr",
     "output_type": "stream",
     "text": [
      "C:\\Users\\dargo\\AppData\\Local\\Packages\\PythonSoftwareFoundation.Python.3.10_qbz5n2kfra8p0\\LocalCache\\local-packages\\Python310\\site-packages\\sklearn\\utils\\validation.py:767: FutureWarning: is_sparse is deprecated and will be removed in a future version. Check `isinstance(dtype, pd.SparseDtype)` instead.\n",
      "  if not hasattr(array, \"sparse\") and array.dtypes.apply(is_sparse).any():\n",
      "C:\\Users\\dargo\\AppData\\Local\\Packages\\PythonSoftwareFoundation.Python.3.10_qbz5n2kfra8p0\\LocalCache\\local-packages\\Python310\\site-packages\\sklearn\\utils\\validation.py:605: FutureWarning: is_sparse is deprecated and will be removed in a future version. Check `isinstance(dtype, pd.SparseDtype)` instead.\n",
      "  if is_sparse(pd_dtype):\n",
      "C:\\Users\\dargo\\AppData\\Local\\Packages\\PythonSoftwareFoundation.Python.3.10_qbz5n2kfra8p0\\LocalCache\\local-packages\\Python310\\site-packages\\sklearn\\utils\\validation.py:614: FutureWarning: is_sparse is deprecated and will be removed in a future version. Check `isinstance(dtype, pd.SparseDtype)` instead.\n",
      "  if is_sparse(pd_dtype) or not is_extension_array_dtype(pd_dtype):\n",
      "C:\\Users\\dargo\\AppData\\Local\\Packages\\PythonSoftwareFoundation.Python.3.10_qbz5n2kfra8p0\\LocalCache\\local-packages\\Python310\\site-packages\\sklearn\\utils\\validation.py:605: FutureWarning: is_sparse is deprecated and will be removed in a future version. Check `isinstance(dtype, pd.SparseDtype)` instead.\n",
      "  if is_sparse(pd_dtype):\n",
      "C:\\Users\\dargo\\AppData\\Local\\Packages\\PythonSoftwareFoundation.Python.3.10_qbz5n2kfra8p0\\LocalCache\\local-packages\\Python310\\site-packages\\sklearn\\utils\\validation.py:614: FutureWarning: is_sparse is deprecated and will be removed in a future version. Check `isinstance(dtype, pd.SparseDtype)` instead.\n",
      "  if is_sparse(pd_dtype) or not is_extension_array_dtype(pd_dtype):\n",
      "C:\\Users\\dargo\\AppData\\Local\\Packages\\PythonSoftwareFoundation.Python.3.10_qbz5n2kfra8p0\\LocalCache\\local-packages\\Python310\\site-packages\\sklearn\\utils\\validation.py:767: FutureWarning: is_sparse is deprecated and will be removed in a future version. Check `isinstance(dtype, pd.SparseDtype)` instead.\n",
      "  if not hasattr(array, \"sparse\") and array.dtypes.apply(is_sparse).any():\n",
      "C:\\Users\\dargo\\AppData\\Local\\Packages\\PythonSoftwareFoundation.Python.3.10_qbz5n2kfra8p0\\LocalCache\\local-packages\\Python310\\site-packages\\sklearn\\utils\\validation.py:605: FutureWarning: is_sparse is deprecated and will be removed in a future version. Check `isinstance(dtype, pd.SparseDtype)` instead.\n",
      "  if is_sparse(pd_dtype):\n",
      "C:\\Users\\dargo\\AppData\\Local\\Packages\\PythonSoftwareFoundation.Python.3.10_qbz5n2kfra8p0\\LocalCache\\local-packages\\Python310\\site-packages\\sklearn\\utils\\validation.py:614: FutureWarning: is_sparse is deprecated and will be removed in a future version. Check `isinstance(dtype, pd.SparseDtype)` instead.\n",
      "  if is_sparse(pd_dtype) or not is_extension_array_dtype(pd_dtype):\n"
     ]
    },
    {
     "name": "stdout",
     "output_type": "stream",
     "text": [
      "[[2151  388   42   24]\n",
      " [ 447 1803  356   27]\n",
      " [  75  419 1858  323]\n",
      " [  57   60  336 2317]]\n",
      "              precision    recall  f1-score   support\n",
      "\n",
      "         0.0       0.79      0.83      0.81      2605\n",
      "         1.0       0.68      0.68      0.68      2633\n",
      "         2.0       0.72      0.69      0.71      2675\n",
      "         3.0       0.86      0.84      0.85      2770\n",
      "\n",
      "    accuracy                           0.76     10683\n",
      "   macro avg       0.76      0.76      0.76     10683\n",
      "weighted avg       0.76      0.76      0.76     10683\n"
     ]
    }
   ],
   "source": [
    "forest = RandomForestClassifier(n_estimators=1000,  # Number of trees\n",
    "                                max_features=2,  # Num features considered\n",
    "                                bootstrap=False)\n",
    "forest.fit(X_train, Y_train)\n",
    "Y_pred = forest.predict(X_test)\n",
    "get_confusion_matrix(Y_pred, Y_test)"
   ]
  },
  {
   "cell_type": "code",
   "execution_count": 13,
   "outputs": [
    {
     "ename": "FileNotFoundError",
     "evalue": "File ../Utility/test.json does not exist",
     "output_type": "error",
     "traceback": [
      "\u001B[1;31m---------------------------------------------------------------------------\u001B[0m",
      "\u001B[1;31mFileNotFoundError\u001B[0m                         Traceback (most recent call last)",
      "Cell \u001B[1;32mIn[13], line 1\u001B[0m\n\u001B[1;32m----> 1\u001B[0m le \u001B[38;5;241m=\u001B[39m \u001B[43mpd\u001B[49m\u001B[38;5;241;43m.\u001B[39;49m\u001B[43mread_json\u001B[49m\u001B[43m(\u001B[49m\u001B[38;5;124;43m'\u001B[39;49m\u001B[38;5;124;43m../Utility/test.json\u001B[39;49m\u001B[38;5;124;43m'\u001B[39;49m\u001B[43m,\u001B[49m\u001B[43m \u001B[49m\u001B[43morient\u001B[49m\u001B[38;5;241;43m=\u001B[39;49m\u001B[38;5;124;43m'\u001B[39;49m\u001B[38;5;124;43mindex\u001B[39;49m\u001B[38;5;124;43m'\u001B[39;49m\u001B[43m,\u001B[49m\u001B[43m \u001B[49m\u001B[43m)\u001B[49m\n\u001B[0;32m      2\u001B[0m le\u001B[38;5;241m.\u001B[39mT\n",
      "File \u001B[1;32m~\\PycharmProjects\\pythonProjectPOC\\venv\\lib\\site-packages\\pandas\\io\\json\\_json.py:780\u001B[0m, in \u001B[0;36mread_json\u001B[1;34m(path_or_buf, orient, typ, dtype, convert_axes, convert_dates, keep_default_dates, precise_float, date_unit, encoding, encoding_errors, lines, chunksize, compression, nrows, storage_options, dtype_backend, engine)\u001B[0m\n\u001B[0;32m    777\u001B[0m \u001B[38;5;28;01mif\u001B[39;00m convert_axes \u001B[38;5;129;01mis\u001B[39;00m \u001B[38;5;28;01mNone\u001B[39;00m \u001B[38;5;129;01mand\u001B[39;00m orient \u001B[38;5;241m!=\u001B[39m \u001B[38;5;124m\"\u001B[39m\u001B[38;5;124mtable\u001B[39m\u001B[38;5;124m\"\u001B[39m:\n\u001B[0;32m    778\u001B[0m     convert_axes \u001B[38;5;241m=\u001B[39m \u001B[38;5;28;01mTrue\u001B[39;00m\n\u001B[1;32m--> 780\u001B[0m json_reader \u001B[38;5;241m=\u001B[39m \u001B[43mJsonReader\u001B[49m\u001B[43m(\u001B[49m\n\u001B[0;32m    781\u001B[0m \u001B[43m    \u001B[49m\u001B[43mpath_or_buf\u001B[49m\u001B[43m,\u001B[49m\n\u001B[0;32m    782\u001B[0m \u001B[43m    \u001B[49m\u001B[43morient\u001B[49m\u001B[38;5;241;43m=\u001B[39;49m\u001B[43morient\u001B[49m\u001B[43m,\u001B[49m\n\u001B[0;32m    783\u001B[0m \u001B[43m    \u001B[49m\u001B[43mtyp\u001B[49m\u001B[38;5;241;43m=\u001B[39;49m\u001B[43mtyp\u001B[49m\u001B[43m,\u001B[49m\n\u001B[0;32m    784\u001B[0m \u001B[43m    \u001B[49m\u001B[43mdtype\u001B[49m\u001B[38;5;241;43m=\u001B[39;49m\u001B[43mdtype\u001B[49m\u001B[43m,\u001B[49m\n\u001B[0;32m    785\u001B[0m \u001B[43m    \u001B[49m\u001B[43mconvert_axes\u001B[49m\u001B[38;5;241;43m=\u001B[39;49m\u001B[43mconvert_axes\u001B[49m\u001B[43m,\u001B[49m\n\u001B[0;32m    786\u001B[0m \u001B[43m    \u001B[49m\u001B[43mconvert_dates\u001B[49m\u001B[38;5;241;43m=\u001B[39;49m\u001B[43mconvert_dates\u001B[49m\u001B[43m,\u001B[49m\n\u001B[0;32m    787\u001B[0m \u001B[43m    \u001B[49m\u001B[43mkeep_default_dates\u001B[49m\u001B[38;5;241;43m=\u001B[39;49m\u001B[43mkeep_default_dates\u001B[49m\u001B[43m,\u001B[49m\n\u001B[0;32m    788\u001B[0m \u001B[43m    \u001B[49m\u001B[43mprecise_float\u001B[49m\u001B[38;5;241;43m=\u001B[39;49m\u001B[43mprecise_float\u001B[49m\u001B[43m,\u001B[49m\n\u001B[0;32m    789\u001B[0m \u001B[43m    \u001B[49m\u001B[43mdate_unit\u001B[49m\u001B[38;5;241;43m=\u001B[39;49m\u001B[43mdate_unit\u001B[49m\u001B[43m,\u001B[49m\n\u001B[0;32m    790\u001B[0m \u001B[43m    \u001B[49m\u001B[43mencoding\u001B[49m\u001B[38;5;241;43m=\u001B[39;49m\u001B[43mencoding\u001B[49m\u001B[43m,\u001B[49m\n\u001B[0;32m    791\u001B[0m \u001B[43m    \u001B[49m\u001B[43mlines\u001B[49m\u001B[38;5;241;43m=\u001B[39;49m\u001B[43mlines\u001B[49m\u001B[43m,\u001B[49m\n\u001B[0;32m    792\u001B[0m \u001B[43m    \u001B[49m\u001B[43mchunksize\u001B[49m\u001B[38;5;241;43m=\u001B[39;49m\u001B[43mchunksize\u001B[49m\u001B[43m,\u001B[49m\n\u001B[0;32m    793\u001B[0m \u001B[43m    \u001B[49m\u001B[43mcompression\u001B[49m\u001B[38;5;241;43m=\u001B[39;49m\u001B[43mcompression\u001B[49m\u001B[43m,\u001B[49m\n\u001B[0;32m    794\u001B[0m \u001B[43m    \u001B[49m\u001B[43mnrows\u001B[49m\u001B[38;5;241;43m=\u001B[39;49m\u001B[43mnrows\u001B[49m\u001B[43m,\u001B[49m\n\u001B[0;32m    795\u001B[0m \u001B[43m    \u001B[49m\u001B[43mstorage_options\u001B[49m\u001B[38;5;241;43m=\u001B[39;49m\u001B[43mstorage_options\u001B[49m\u001B[43m,\u001B[49m\n\u001B[0;32m    796\u001B[0m \u001B[43m    \u001B[49m\u001B[43mencoding_errors\u001B[49m\u001B[38;5;241;43m=\u001B[39;49m\u001B[43mencoding_errors\u001B[49m\u001B[43m,\u001B[49m\n\u001B[0;32m    797\u001B[0m \u001B[43m    \u001B[49m\u001B[43mdtype_backend\u001B[49m\u001B[38;5;241;43m=\u001B[39;49m\u001B[43mdtype_backend\u001B[49m\u001B[43m,\u001B[49m\n\u001B[0;32m    798\u001B[0m \u001B[43m    \u001B[49m\u001B[43mengine\u001B[49m\u001B[38;5;241;43m=\u001B[39;49m\u001B[43mengine\u001B[49m\u001B[43m,\u001B[49m\n\u001B[0;32m    799\u001B[0m \u001B[43m\u001B[49m\u001B[43m)\u001B[49m\n\u001B[0;32m    801\u001B[0m \u001B[38;5;28;01mif\u001B[39;00m chunksize:\n\u001B[0;32m    802\u001B[0m     \u001B[38;5;28;01mreturn\u001B[39;00m json_reader\n",
      "File \u001B[1;32m~\\PycharmProjects\\pythonProjectPOC\\venv\\lib\\site-packages\\pandas\\io\\json\\_json.py:893\u001B[0m, in \u001B[0;36mJsonReader.__init__\u001B[1;34m(self, filepath_or_buffer, orient, typ, dtype, convert_axes, convert_dates, keep_default_dates, precise_float, date_unit, encoding, lines, chunksize, compression, nrows, storage_options, encoding_errors, dtype_backend, engine)\u001B[0m\n\u001B[0;32m    891\u001B[0m     \u001B[38;5;28mself\u001B[39m\u001B[38;5;241m.\u001B[39mdata \u001B[38;5;241m=\u001B[39m filepath_or_buffer\n\u001B[0;32m    892\u001B[0m \u001B[38;5;28;01melif\u001B[39;00m \u001B[38;5;28mself\u001B[39m\u001B[38;5;241m.\u001B[39mengine \u001B[38;5;241m==\u001B[39m \u001B[38;5;124m\"\u001B[39m\u001B[38;5;124mujson\u001B[39m\u001B[38;5;124m\"\u001B[39m:\n\u001B[1;32m--> 893\u001B[0m     data \u001B[38;5;241m=\u001B[39m \u001B[38;5;28;43mself\u001B[39;49m\u001B[38;5;241;43m.\u001B[39;49m\u001B[43m_get_data_from_filepath\u001B[49m\u001B[43m(\u001B[49m\u001B[43mfilepath_or_buffer\u001B[49m\u001B[43m)\u001B[49m\n\u001B[0;32m    894\u001B[0m     \u001B[38;5;28mself\u001B[39m\u001B[38;5;241m.\u001B[39mdata \u001B[38;5;241m=\u001B[39m \u001B[38;5;28mself\u001B[39m\u001B[38;5;241m.\u001B[39m_preprocess_data(data)\n",
      "File \u001B[1;32m~\\PycharmProjects\\pythonProjectPOC\\venv\\lib\\site-packages\\pandas\\io\\json\\_json.py:949\u001B[0m, in \u001B[0;36mJsonReader._get_data_from_filepath\u001B[1;34m(self, filepath_or_buffer)\u001B[0m\n\u001B[0;32m    941\u001B[0m     filepath_or_buffer \u001B[38;5;241m=\u001B[39m \u001B[38;5;28mself\u001B[39m\u001B[38;5;241m.\u001B[39mhandles\u001B[38;5;241m.\u001B[39mhandle\n\u001B[0;32m    942\u001B[0m \u001B[38;5;28;01melif\u001B[39;00m (\n\u001B[0;32m    943\u001B[0m     \u001B[38;5;28misinstance\u001B[39m(filepath_or_buffer, \u001B[38;5;28mstr\u001B[39m)\n\u001B[0;32m    944\u001B[0m     \u001B[38;5;129;01mand\u001B[39;00m filepath_or_buffer\u001B[38;5;241m.\u001B[39mlower()\u001B[38;5;241m.\u001B[39mendswith(\n\u001B[1;32m   (...)\u001B[0m\n\u001B[0;32m    947\u001B[0m     \u001B[38;5;129;01mand\u001B[39;00m \u001B[38;5;129;01mnot\u001B[39;00m file_exists(filepath_or_buffer)\n\u001B[0;32m    948\u001B[0m ):\n\u001B[1;32m--> 949\u001B[0m     \u001B[38;5;28;01mraise\u001B[39;00m \u001B[38;5;167;01mFileNotFoundError\u001B[39;00m(\u001B[38;5;124mf\u001B[39m\u001B[38;5;124m\"\u001B[39m\u001B[38;5;124mFile \u001B[39m\u001B[38;5;132;01m{\u001B[39;00mfilepath_or_buffer\u001B[38;5;132;01m}\u001B[39;00m\u001B[38;5;124m does not exist\u001B[39m\u001B[38;5;124m\"\u001B[39m)\n\u001B[0;32m    950\u001B[0m \u001B[38;5;28;01melse\u001B[39;00m:\n\u001B[0;32m    951\u001B[0m     warnings\u001B[38;5;241m.\u001B[39mwarn(\n\u001B[0;32m    952\u001B[0m         \u001B[38;5;124m\"\u001B[39m\u001B[38;5;124mPassing literal json to \u001B[39m\u001B[38;5;124m'\u001B[39m\u001B[38;5;124mread_json\u001B[39m\u001B[38;5;124m'\u001B[39m\u001B[38;5;124m is deprecated and \u001B[39m\u001B[38;5;124m\"\u001B[39m\n\u001B[0;32m    953\u001B[0m         \u001B[38;5;124m\"\u001B[39m\u001B[38;5;124mwill be removed in a future version. To read from a \u001B[39m\u001B[38;5;124m\"\u001B[39m\n\u001B[1;32m   (...)\u001B[0m\n\u001B[0;32m    956\u001B[0m         stacklevel\u001B[38;5;241m=\u001B[39mfind_stack_level(),\n\u001B[0;32m    957\u001B[0m     )\n",
      "\u001B[1;31mFileNotFoundError\u001B[0m: File ../Utility/test.json does not exist"
     ]
    }
   ],
   "source": [
    "le = pd.read_json('../Utility/test.json', orient='index', )\n",
    "le.T"
   ],
   "metadata": {
    "collapsed": false,
    "ExecuteTime": {
     "end_time": "2023-09-06T19:36:45.262417Z",
     "start_time": "2023-09-06T19:36:44.791318800Z"
    }
   },
   "id": "2faa145682131c24"
  },
  {
   "cell_type": "code",
   "execution_count": 14,
   "id": "a985948a580b8956",
   "metadata": {
    "ExecuteTime": {
     "end_time": "2023-09-06T19:37:51.561635Z",
     "start_time": "2023-09-06T19:37:45.482578400Z"
    }
   },
   "outputs": [
    {
     "name": "stderr",
     "output_type": "stream",
     "text": [
      "C:\\Users\\dargo\\AppData\\Local\\Packages\\PythonSoftwareFoundation.Python.3.10_qbz5n2kfra8p0\\LocalCache\\local-packages\\Python310\\site-packages\\sklearn\\utils\\validation.py:767: FutureWarning: is_sparse is deprecated and will be removed in a future version. Check `isinstance(dtype, pd.SparseDtype)` instead.\n",
      "  if not hasattr(array, \"sparse\") and array.dtypes.apply(is_sparse).any():\n",
      "C:\\Users\\dargo\\AppData\\Local\\Packages\\PythonSoftwareFoundation.Python.3.10_qbz5n2kfra8p0\\LocalCache\\local-packages\\Python310\\site-packages\\sklearn\\utils\\validation.py:605: FutureWarning: is_sparse is deprecated and will be removed in a future version. Check `isinstance(dtype, pd.SparseDtype)` instead.\n",
      "  if is_sparse(pd_dtype):\n",
      "C:\\Users\\dargo\\AppData\\Local\\Packages\\PythonSoftwareFoundation.Python.3.10_qbz5n2kfra8p0\\LocalCache\\local-packages\\Python310\\site-packages\\sklearn\\utils\\validation.py:614: FutureWarning: is_sparse is deprecated and will be removed in a future version. Check `isinstance(dtype, pd.SparseDtype)` instead.\n",
      "  if is_sparse(pd_dtype) or not is_extension_array_dtype(pd_dtype):\n",
      "C:\\Users\\dargo\\AppData\\Local\\Packages\\PythonSoftwareFoundation.Python.3.10_qbz5n2kfra8p0\\LocalCache\\local-packages\\Python310\\site-packages\\sklearn\\utils\\validation.py:605: FutureWarning: is_sparse is deprecated and will be removed in a future version. Check `isinstance(dtype, pd.SparseDtype)` instead.\n",
      "  if is_sparse(pd_dtype):\n",
      "C:\\Users\\dargo\\AppData\\Local\\Packages\\PythonSoftwareFoundation.Python.3.10_qbz5n2kfra8p0\\LocalCache\\local-packages\\Python310\\site-packages\\sklearn\\utils\\validation.py:614: FutureWarning: is_sparse is deprecated and will be removed in a future version. Check `isinstance(dtype, pd.SparseDtype)` instead.\n",
      "  if is_sparse(pd_dtype) or not is_extension_array_dtype(pd_dtype):\n"
     ]
    },
    {
     "name": "stdout",
     "output_type": "stream",
     "text": [
      "Feature ranking:\n",
      "1. feature surface_reelle_bati (0.478193)\n",
      "2. feature nombre_pieces_principales (0.142587)\n",
      "3. feature longitude (0.127847)\n",
      "4. feature latitude (0.126262)\n",
      "5. feature code_postal (0.050439)\n",
      "6. feature nombre_lots (0.028767)\n",
      "7. feature RUE (0.012107)\n",
      "8. feature Appartement (0.010866)\n",
      "9. feature AV (0.004704)\n",
      "10. feature BD (0.004200)\n",
      "11. feature surface_terrain (0.003886)\n",
      "12. feature OTHER (0.002373)\n",
      "13. feature PL (0.001576)\n",
      "14. feature QUAI (0.001389)\n",
      "15. feature Maison (0.001160)\n",
      "16. feature SQ (0.001141)\n",
      "17. feature CITE (0.000781)\n",
      "18. feature IMP (0.000762)\n",
      "19. feature ALL (0.000366)\n",
      "20. feature CRS (0.000304)\n",
      "21. feature VC (0.000233)\n",
      "22. feature RLE (0.000044)\n",
      "23. feature CR (0.000008)\n",
      "24. feature VOIE (0.000006)\n"
     ]
    },
    {
     "data": {
      "text/plain": "<Figure size 640x480 with 1 Axes>",
      "image/png": "[encoded data removed]"
     },
     "metadata": {},
     "output_type": "display_data"
    }
   ],
   "source": [
    "from sklearn.ensemble import RandomForestClassifier\n",
    "\n",
    "forest = RandomForestClassifier()\n",
    "forest.fit(X_train, Y_train)\n",
    "\n",
    "importances = forest.feature_importances_\n",
    "std = numpy.std([tree.feature_importances_ for tree in forest.estimators_],\n",
    "                axis=0)\n",
    "indices = numpy.argsort(importances)[::-1]\n",
    "\n",
    "#Print the feature ranking\n",
    "print(\"Feature ranking:\")\n",
    "\n",
    "for f in range(X_train.shape[1]):\n",
    "    print(\"%d. feature %s (%f)\" % (f + 1, X_train.columns[indices[f]], importances[indices[f]]))\n",
    "\n",
    "# Plot the feature importances of the forest\n",
    "plt.figure()\n",
    "plt.title(\"Feature importances\")\n",
    "plt.bar(range(X_train.shape[1]), importances[indices],\n",
    "        color=\"r\", yerr=std[indices], align=\"center\")\n",
    "plt.xticks(range(X_train.shape[1]), X_train.columns[indices])\n",
    "plt.xlim([-1, X_train.shape[1]])\n",
    "plt.show()"
   ]
  },
  {
   "cell_type": "code",
   "execution_count": 16,
   "id": "18c536c289711c7d",
   "metadata": {
    "ExecuteTime": {
     "end_time": "2023-09-06T20:09:54.148633600Z",
     "start_time": "2023-09-06T20:06:52.535600400Z"
    }
   },
   "outputs": [],
   "source": [
    "import pickle\n",
    "from Utility import Get_dataset_clean_function\n",
    "\n",
    "test = pickle.dumps(forest)\n",
    "upload_data_in_blob(test,2022,'modelstorage')"
   ]
  }
 ],
 "metadata": {
  "kernelspec": {
   "display_name": "Python 3 (ipykernel)",
   "language": "python",
   "name": "python3"
  },
  "language_info": {
   "codemirror_mode": {
    "name": "ipython",
    "version": 3
   },
   "file_extension": ".py",
   "mimetype": "text/x-python",
   "name": "python",
   "nbconvert_exporter": "python",
   "pygments_lexer": "ipython3",
   "version": "3.10.11"
  }
 },
 "nbformat": 4,
 "nbformat_minor": 5
}
