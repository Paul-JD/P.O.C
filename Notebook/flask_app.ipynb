{
 "cells": [
  {
   "cell_type": "code",
   "execution_count": 1,
   "id": "initial_id",
   "metadata": {
    "collapsed": true,
    "ExecuteTime": {
     "end_time": "2023-09-05T21:21:14.426347Z",
     "start_time": "2023-09-05T21:21:11.465365400Z"
    }
   },
   "outputs": [
    {
     "name": "stdout",
     "output_type": "stream",
     "text": [
      "<Response [500]>\n"
     ]
    }
   ],
   "source": [
    "\n",
    "import requests\n",
    "\n"
   ]
  },
  {
   "cell_type": "code",
   "execution_count": 11,
   "outputs": [
    {
     "name": "stdout",
     "output_type": "stream",
     "text": [
      "{'prediction': 3.0}\n"
     ]
    }
   ],
   "source": [
    "url = 'http://localhost:9696/predict'\n",
    "\n",
    "appartement = {\"date_mutation\": 1656547200.0, \"code_postal\": 75007.0, \"nombre_lots\": 4.0, \"surface_reelle_bati\": 183.0,\n",
    "               \"nombre_pieces_principales\": 6.0, \"surface_terrain\": 0.0, \"longitude\": 2.324686, \"latitude\": 48.859696,\n",
    "               \"Appartement\": 1.0, \"Maison\": 0.0, \"RUE\": 1.0, \"AV\": 0.0, \"BD\": 0.0, \"CITE\": 0.0, \"OTHER\": 0.0,\n",
    "               \"PL\": 0.0, \"IMP\": 0.0, \"ALL\": 0.0, \"QUAI\": 0.0, \"VC\": 0.0, \"SQ\": 0.0, \"CRS\": 0.0, \"VOIE\": 0.0, \"CR\": 0.0,\n",
    "               \"RLE\": 0.0, \"Vente\": 1.0, \"Echange\": 0.0, \"Vente en l'\\u00e9tat futur d'ach\\u00e8vement\": 0.0,\n",
    "               \"Vente terrain \\u00e0 b\\u00e2tir\": 0.0, \"Adjudication\": 0.0}\n",
    "\n",
    "response = requests.post(url, json=appartement)\n",
    "\n",
    "print(response.json())"
   ],
   "metadata": {
    "collapsed": false,
    "ExecuteTime": {
     "end_time": "2023-09-05T21:42:37.795232100Z",
     "start_time": "2023-09-05T21:42:30.913705900Z"
    }
   },
   "id": "51a06127fe6fda46"
  }
 ],
 "metadata": {
  "kernelspec": {
   "display_name": "Python 3",
   "language": "python",
   "name": "python3"
  },
  "language_info": {
   "codemirror_mode": {
    "name": "ipython",
    "version": 2
   },
   "file_extension": ".py",
   "mimetype": "text/x-python",
   "name": "python",
   "nbconvert_exporter": "python",
   "pygments_lexer": "ipython2",
   "version": "2.7.6"
  }
 },
 "nbformat": 4,
 "nbformat_minor": 5
}
