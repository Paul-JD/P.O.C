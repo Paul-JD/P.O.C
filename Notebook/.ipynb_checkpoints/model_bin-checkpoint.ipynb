{
 "cells": [
  {
   "cell_type": "code",
   "execution_count": 2,
   "id": "initial_id",
   "metadata": {
    "is_executing": true
   },
   "outputs": [],
   "source": [
    "from math import log\n",
    "from sklearn.metrics import confusion_matrix,classification_report\n",
    "import pandas as pd\n",
    "from sklearn.decomposition import PCA\n",
    "from sklearn.ensemble import RandomForestClassifier, RandomForestRegressor\n",
    "from sklearn.model_selection import train_test_split\n",
    "from sklearn.linear_model import LogisticRegression\n",
    "from Utility.Get_dataset_clean_function import download_data_from_blob\n",
    "from collections import Counter\n",
    "from sklearn.neighbors import KNeighborsRegressor\n",
    "from matplotlib import pyplot as plt\n",
    "import numpy"
   ]
  },
  {
   "cell_type": "code",
   "execution_count": null,
   "id": "809b21794eb5fc61",
   "metadata": {
    "is_executing": true
   },
   "outputs": [],
   "source": [
    "def get_confusion_matrix(y_test,y_pred):\n",
    "    cm = confusion_matrix(y_test,y_pred)\n",
    "    print(cm)\n",
    "    print( classification_report(y_test,y_pred))"
   ]
  },
  {
   "cell_type": "code",
   "execution_count": 77,
   "id": "aa9b98c4ca4ae776",
   "metadata": {
    "ExecuteTime": {
     "end_time": "2023-09-04T22:40:14.719137Z",
     "start_time": "2023-09-04T22:40:14.602063900Z"
    }
   },
   "outputs": [
    {
     "data": {
      "text/html": [
       "<div>\n",
       "<style scoped>\n",
       "    .dataframe tbody tr th:only-of-type {\n",
       "        vertical-align: middle;\n",
       "    }\n",
       "\n",
       "    .dataframe tbody tr th {\n",
       "        vertical-align: top;\n",
       "    }\n",
       "\n",
       "    .dataframe thead th {\n",
       "        text-align: right;\n",
       "    }\n",
       "</style>\n",
       "<table border=\"1\" class=\"dataframe\">\n",
       "  <thead>\n",
       "    <tr style=\"text-align: right;\">\n",
       "      <th></th>\n",
       "      <th>Unnamed: 0</th>\n",
       "    </tr>\n",
       "  </thead>\n",
       "  <tbody>\n",
       "  </tbody>\n",
       "</table>\n",
       "</div>"
      ],
      "text/plain": [
       "Empty DataFrame\n",
       "Columns: [Unnamed: 0]\n",
       "Index: []"
      ]
     },
     "execution_count": 77,
     "metadata": {},
     "output_type": "execute_result"
    }
   ],
   "source": [
    "df = download_data_from_blob('data_for_model_2022.csv')\n",
    "df"
   ]
  },
  {
   "cell_type": "code",
   "execution_count": 48,
   "id": "d7907fe20a3f316f",
   "metadata": {
    "ExecuteTime": {
     "end_time": "2023-09-04T21:01:10.394800900Z",
     "start_time": "2023-09-04T21:01:10.356057700Z"
    }
   },
   "outputs": [],
   "source": [
    "lkm = df[[\n",
    "    'code_postal',\n",
    "    'nombre_lots',\n",
    "    'surface_reelle_bati',\n",
    "    'nombre_pieces_principales',\n",
    "    'surface_terrain',\n",
    "    'valeur_fonciere',\n",
    "    'longitude','latitude',\n",
    "    'Appartement',\n",
    "    'Maison',\n",
    "    'RUE',\n",
    "    'AV',\n",
    "    'BD',\n",
    "    'CITE',\n",
    "    'OTHER',\n",
    "    'PL',\n",
    "    'IMP',\n",
    "    'ALL',\n",
    "    'QUAI',\n",
    "    'VC',\n",
    "    'SQ',\n",
    "    'CRS',\n",
    "    'VOIE',\n",
    "    'CR',\n",
    "    'RLE'\n",
    "]]"
   ]
  },
  {
   "cell_type": "code",
   "execution_count": 63,
   "id": "8337a32dfc9e930e",
   "metadata": {
    "ExecuteTime": {
     "end_time": "2023-09-04T21:12:47.985724Z",
     "start_time": "2023-09-04T21:12:47.817687600Z"
    }
   },
   "outputs": [
    {
     "data": {
      "text/plain": [
       "(35607, 8)"
      ]
     },
     "execution_count": 63,
     "metadata": {},
     "output_type": "execute_result"
    }
   ],
   "source": [
    "lkm.shape"
   ]
  },
  {
   "cell_type": "code",
   "execution_count": 64,
   "id": "63754d49be7be187",
   "metadata": {
    "ExecuteTime": {
     "end_time": "2023-09-04T21:12:49.522963Z",
     "start_time": "2023-09-04T21:12:49.453147Z"
    }
   },
   "outputs": [
    {
     "name": "stderr",
     "output_type": "stream",
     "text": [
      "C:\\Users\\dargo\\AppData\\Local\\Temp\\ipykernel_13132\\3882088696.py:1: SettingWithCopyWarning: \n",
      "A value is trying to be set on a copy of a slice from a DataFrame.\n",
      "Try using .loc[row_indexer,col_indexer] = value instead\n",
      "\n",
      "See the caveats in the documentation: https://pandas.pydata.org/pandas-docs/stable/user_guide/indexing.html#returning-a-view-versus-a-copy\n",
      "  lkm['log_val'] = lkm.loc[:,'valeur_fonciere'].apply(lambda  x : log(x))\n"
     ]
    }
   ],
   "source": [
    "lkm['log_val'] = lkm.loc[:,'valeur_fonciere'].apply(lambda  x : log(x))"
   ]
  },
  {
   "cell_type": "code",
   "execution_count": 65,
   "id": "52c136d26c9c58cd",
   "metadata": {
    "ExecuteTime": {
     "end_time": "2023-09-04T21:12:50.679692200Z",
     "start_time": "2023-09-04T21:12:50.608650400Z"
    }
   },
   "outputs": [
    {
     "data": {
      "text/plain": [
       "count    35607.000000\n",
       "mean        13.131284\n",
       "std          0.772460\n",
       "min         11.512925\n",
       "25%         12.611538\n",
       "50%         13.060488\n",
       "75%         13.573439\n",
       "max         20.222738\n",
       "Name: log_val, dtype: float64"
      ]
     },
     "execution_count": 65,
     "metadata": {},
     "output_type": "execute_result"
    }
   ],
   "source": [
    "lkm['log_val'].describe()"
   ]
  },
  {
   "cell_type": "code",
   "execution_count": 66,
   "id": "89ab8a7f3e14a2d7",
   "metadata": {
    "ExecuteTime": {
     "end_time": "2023-09-04T21:12:51.780225500Z",
     "start_time": "2023-09-04T21:12:51.751839300Z"
    }
   },
   "outputs": [
    {
     "name": "stderr",
     "output_type": "stream",
     "text": [
      "C:\\Users\\dargo\\AppData\\Local\\Temp\\ipykernel_13132\\4201437445.py:1: SettingWithCopyWarning: \n",
      "A value is trying to be set on a copy of a slice from a DataFrame.\n",
      "Try using .loc[row_indexer,col_indexer] = value instead\n",
      "\n",
      "See the caveats in the documentation: https://pandas.pydata.org/pandas-docs/stable/user_guide/indexing.html#returning-a-view-versus-a-copy\n",
      "  lkm.loc[lkm['log_val']<=12.611538,'log_class'] = 0\n"
     ]
    }
   ],
   "source": [
    "lkm.loc[lkm['log_val']<=12.611538,'log_class'] = 0\n",
    "lkm.loc[(lkm['log_val'] > 12.611538) & (lkm['log_val']<=13.060488), 'log_class'] = 1\n",
    "lkm.loc[(lkm['log_val'] > 13.060488) & (lkm['log_val']<=13.573439), 'log_class'] = 2\n",
    "lkm.loc[(lkm['log_val'] > 13.573439) , 'log_class'] = 3"
   ]
  },
  {
   "cell_type": "code",
   "execution_count": 67,
   "id": "c483179030dfb823",
   "metadata": {
    "ExecuteTime": {
     "end_time": "2023-09-04T21:12:56.079504500Z",
     "start_time": "2023-09-04T21:12:56.037105100Z"
    }
   },
   "outputs": [],
   "source": [
    "X = lkm.drop(labels=['valeur_fonciere','log_val','log_class'], axis=1)\n",
    "Y = lkm['log_class']"
   ]
  },
  {
   "cell_type": "code",
   "execution_count": 68,
   "id": "db28ec036581818e",
   "metadata": {
    "ExecuteTime": {
     "end_time": "2023-09-04T21:12:57.405931200Z",
     "start_time": "2023-09-04T21:12:57.369057400Z"
    }
   },
   "outputs": [
    {
     "data": {
      "text/plain": [
       "Counter({0.0: 9092, 3.0: 8886, 2.0: 8874, 1.0: 8755})"
      ]
     },
     "execution_count": 68,
     "metadata": {},
     "output_type": "execute_result"
    }
   ],
   "source": [
    "Counter(Y)"
   ]
  },
  {
   "cell_type": "code",
   "execution_count": 69,
   "id": "924e656fd14924c9",
   "metadata": {
    "ExecuteTime": {
     "end_time": "2023-09-04T21:13:01.537400700Z",
     "start_time": "2023-09-04T21:13:01.493257500Z"
    }
   },
   "outputs": [],
   "source": [
    "X_train, X_test, Y_train, Y_test = train_test_split(X, Y, train_size=0.7)"
   ]
  },
  {
   "cell_type": "code",
   "execution_count": 70,
   "id": "dd025557f8ee4089",
   "metadata": {
    "ExecuteTime": {
     "end_time": "2023-09-04T21:15:04.112747600Z",
     "start_time": "2023-09-04T21:13:01.876851100Z"
    }
   },
   "outputs": [
    {
     "name": "stdout",
     "output_type": "stream",
     "text": [
      "[[2111  366   53   48]\n",
      " [ 436 1855  412   49]\n",
      " [  82  381 1933  334]\n",
      " [  32   41  294 2256]]\n",
      "              precision    recall  f1-score   support\n",
      "\n",
      "         0.0       0.79      0.82      0.81      2578\n",
      "         1.0       0.70      0.67      0.69      2752\n",
      "         2.0       0.72      0.71      0.71      2730\n",
      "         3.0       0.84      0.86      0.85      2623\n",
      "\n",
      "    accuracy                           0.76     10683\n",
      "   macro avg       0.76      0.77      0.76     10683\n",
      "weighted avg       0.76      0.76      0.76     10683\n"
     ]
    }
   ],
   "source": [
    "forest = RandomForestClassifier(n_estimators=1000, # Number of trees\n",
    "                                  max_features=2,    # Num features considered\n",
    "                                  bootstrap = False)\n",
    "forest.fit(X_train,Y_train)\n",
    "Y_pred = forest.predict(X_test)\n",
    "get_confusion_matrix(Y_pred,Y_test)"
   ]
  },
  {
   "cell_type": "code",
   "execution_count": 71,
   "id": "a985948a580b8956",
   "metadata": {
    "ExecuteTime": {
     "end_time": "2023-09-04T21:15:14.092419Z",
     "start_time": "2023-09-04T21:15:04.119755400Z"
    }
   },
   "outputs": [
    {
     "name": "stdout",
     "output_type": "stream",
     "text": [
      "Feature ranking:\n",
      "1. feature surface_reelle_bati (0.491025)\n",
      "2. feature nombre_pieces_principales (0.142726)\n",
      "3. feature longitude (0.141318)\n",
      "4. feature latitude (0.138057)\n",
      "5. feature code_postal (0.050212)\n",
      "6. feature nombre_lots (0.031140)\n",
      "7. feature surface_terrain (0.005522)\n"
     ]
    },
    {
     "data": {
      "image/png": "[encoded data removed]",
      "text/plain": [
       "<Figure size 640x480 with 1 Axes>"
      ]
     },
     "metadata": {},
     "output_type": "display_data"
    }
   ],
   "source": [
    "from sklearn.ensemble import RandomForestClassifier\n",
    "\n",
    "forest = RandomForestClassifier()\n",
    "forest.fit(X_train, Y_train)\n",
    "\n",
    "importances = forest.feature_importances_\n",
    "std = numpy.std([tree.feature_importances_ for tree in forest.estimators_],\n",
    "             axis=0)\n",
    "indices = numpy.argsort(importances)[::-1]\n",
    "\n",
    "#Print the feature ranking\n",
    "print(\"Feature ranking:\")\n",
    "\n",
    "for f in range(X_train.shape[1]):\n",
    "    print(\"%d. feature %s (%f)\" % (f + 1, X_train.columns[indices[f]], importances[indices[f]]))\n",
    "\n",
    "# Plot the feature importances of the forest\n",
    "plt.figure()\n",
    "plt.title(\"Feature importances\")\n",
    "plt.bar(range(X_train.shape[1]), importances[indices],\n",
    "       color=\"r\", yerr=std[indices], align=\"center\")\n",
    "plt.xticks(range(X_train.shape[1]), X_train.columns[indices])\n",
    "plt.xlim([-1, X_train.shape[1]])\n",
    "plt.show()"
   ]
  },
  {
   "cell_type": "code",
   "execution_count": 72,
   "id": "18c536c289711c7d",
   "metadata": {
    "ExecuteTime": {
     "end_time": "2023-09-04T21:15:14.212389600Z",
     "start_time": "2023-09-04T21:15:14.096428200Z"
    }
   },
   "outputs": [
    {
     "data": {
      "text/html": [
       "<div>\n",
       "<style scoped>\n",
       "    .dataframe tbody tr th:only-of-type {\n",
       "        vertical-align: middle;\n",
       "    }\n",
       "\n",
       "    .dataframe tbody tr th {\n",
       "        vertical-align: top;\n",
       "    }\n",
       "\n",
       "    .dataframe thead th {\n",
       "        text-align: right;\n",
       "    }\n",
       "</style>\n",
       "<table border=\"1\" class=\"dataframe\">\n",
       "  <thead>\n",
       "    <tr style=\"text-align: right;\">\n",
       "      <th></th>\n",
       "      <th>code_postal</th>\n",
       "      <th>nombre_lots</th>\n",
       "      <th>surface_reelle_bati</th>\n",
       "      <th>nombre_pieces_principales</th>\n",
       "      <th>surface_terrain</th>\n",
       "      <th>valeur_fonciere</th>\n",
       "      <th>longitude</th>\n",
       "      <th>latitude</th>\n",
       "      <th>log_val</th>\n",
       "      <th>log_class</th>\n",
       "    </tr>\n",
       "  </thead>\n",
       "  <tbody>\n",
       "    <tr>\n",
       "      <th>code_postal</th>\n",
       "      <td>1.000000</td>\n",
       "      <td>-0.002125</td>\n",
       "      <td>-0.028610</td>\n",
       "      <td>-0.015770</td>\n",
       "      <td>-0.009304</td>\n",
       "      <td>-0.044556</td>\n",
       "      <td>-0.040657</td>\n",
       "      <td>0.277036</td>\n",
       "      <td>-0.152904</td>\n",
       "      <td>-0.136870</td>\n",
       "    </tr>\n",
       "    <tr>\n",
       "      <th>nombre_lots</th>\n",
       "      <td>-0.002125</td>\n",
       "      <td>1.000000</td>\n",
       "      <td>0.179852</td>\n",
       "      <td>0.215804</td>\n",
       "      <td>-0.127234</td>\n",
       "      <td>-0.012805</td>\n",
       "      <td>-0.021829</td>\n",
       "      <td>0.008831</td>\n",
       "      <td>0.183914</td>\n",
       "      <td>0.204340</td>\n",
       "    </tr>\n",
       "    <tr>\n",
       "      <th>surface_reelle_bati</th>\n",
       "      <td>-0.028610</td>\n",
       "      <td>0.179852</td>\n",
       "      <td>1.000000</td>\n",
       "      <td>0.579349</td>\n",
       "      <td>0.037330</td>\n",
       "      <td>0.163080</td>\n",
       "      <td>-0.150019</td>\n",
       "      <td>0.002744</td>\n",
       "      <td>0.566831</td>\n",
       "      <td>0.495961</td>\n",
       "    </tr>\n",
       "    <tr>\n",
       "      <th>nombre_pieces_principales</th>\n",
       "      <td>-0.015770</td>\n",
       "      <td>0.215804</td>\n",
       "      <td>0.579349</td>\n",
       "      <td>1.000000</td>\n",
       "      <td>0.046753</td>\n",
       "      <td>0.134124</td>\n",
       "      <td>-0.159574</td>\n",
       "      <td>0.005014</td>\n",
       "      <td>0.710253</td>\n",
       "      <td>0.686606</td>\n",
       "    </tr>\n",
       "    <tr>\n",
       "      <th>surface_terrain</th>\n",
       "      <td>-0.009304</td>\n",
       "      <td>-0.127234</td>\n",
       "      <td>0.037330</td>\n",
       "      <td>0.046753</td>\n",
       "      <td>1.000000</td>\n",
       "      <td>0.600524</td>\n",
       "      <td>-0.014434</td>\n",
       "      <td>0.005412</td>\n",
       "      <td>0.242463</td>\n",
       "      <td>0.082434</td>\n",
       "    </tr>\n",
       "    <tr>\n",
       "      <th>valeur_fonciere</th>\n",
       "      <td>-0.044556</td>\n",
       "      <td>-0.012805</td>\n",
       "      <td>0.163080</td>\n",
       "      <td>0.134124</td>\n",
       "      <td>0.600524</td>\n",
       "      <td>1.000000</td>\n",
       "      <td>-0.053305</td>\n",
       "      <td>0.006337</td>\n",
       "      <td>0.307607</td>\n",
       "      <td>0.154459</td>\n",
       "    </tr>\n",
       "    <tr>\n",
       "      <th>longitude</th>\n",
       "      <td>-0.040657</td>\n",
       "      <td>-0.021829</td>\n",
       "      <td>-0.150019</td>\n",
       "      <td>-0.159574</td>\n",
       "      <td>-0.014434</td>\n",
       "      <td>-0.053305</td>\n",
       "      <td>1.000000</td>\n",
       "      <td>0.088237</td>\n",
       "      <td>-0.235564</td>\n",
       "      <td>-0.216041</td>\n",
       "    </tr>\n",
       "    <tr>\n",
       "      <th>latitude</th>\n",
       "      <td>0.277036</td>\n",
       "      <td>0.008831</td>\n",
       "      <td>0.002744</td>\n",
       "      <td>0.005014</td>\n",
       "      <td>0.005412</td>\n",
       "      <td>0.006337</td>\n",
       "      <td>0.088237</td>\n",
       "      <td>1.000000</td>\n",
       "      <td>-0.020325</td>\n",
       "      <td>-0.029848</td>\n",
       "    </tr>\n",
       "    <tr>\n",
       "      <th>log_val</th>\n",
       "      <td>-0.152904</td>\n",
       "      <td>0.183914</td>\n",
       "      <td>0.566831</td>\n",
       "      <td>0.710253</td>\n",
       "      <td>0.242463</td>\n",
       "      <td>0.307607</td>\n",
       "      <td>-0.235564</td>\n",
       "      <td>-0.020325</td>\n",
       "      <td>1.000000</td>\n",
       "      <td>0.896532</td>\n",
       "    </tr>\n",
       "    <tr>\n",
       "      <th>log_class</th>\n",
       "      <td>-0.136870</td>\n",
       "      <td>0.204340</td>\n",
       "      <td>0.495961</td>\n",
       "      <td>0.686606</td>\n",
       "      <td>0.082434</td>\n",
       "      <td>0.154459</td>\n",
       "      <td>-0.216041</td>\n",
       "      <td>-0.029848</td>\n",
       "      <td>0.896532</td>\n",
       "      <td>1.000000</td>\n",
       "    </tr>\n",
       "  </tbody>\n",
       "</table>\n",
       "</div>"
      ],
      "text/plain": [
       "                           code_postal  nombre_lots  surface_reelle_bati  \\\n",
       "code_postal                   1.000000    -0.002125            -0.028610   \n",
       "nombre_lots                  -0.002125     1.000000             0.179852   \n",
       "surface_reelle_bati          -0.028610     0.179852             1.000000   \n",
       "nombre_pieces_principales    -0.015770     0.215804             0.579349   \n",
       "surface_terrain              -0.009304    -0.127234             0.037330   \n",
       "valeur_fonciere              -0.044556    -0.012805             0.163080   \n",
       "longitude                    -0.040657    -0.021829            -0.150019   \n",
       "latitude                      0.277036     0.008831             0.002744   \n",
       "log_val                      -0.152904     0.183914             0.566831   \n",
       "log_class                    -0.136870     0.204340             0.495961   \n",
       "\n",
       "                           nombre_pieces_principales  surface_terrain  \\\n",
       "code_postal                                -0.015770        -0.009304   \n",
       "nombre_lots                                 0.215804        -0.127234   \n",
       "surface_reelle_bati                         0.579349         0.037330   \n",
       "nombre_pieces_principales                   1.000000         0.046753   \n",
       "surface_terrain                             0.046753         1.000000   \n",
       "valeur_fonciere                             0.134124         0.600524   \n",
       "longitude                                  -0.159574        -0.014434   \n",
       "latitude                                    0.005014         0.005412   \n",
       "log_val                                     0.710253         0.242463   \n",
       "log_class                                   0.686606         0.082434   \n",
       "\n",
       "                           valeur_fonciere  longitude  latitude   log_val  \\\n",
       "code_postal                      -0.044556  -0.040657  0.277036 -0.152904   \n",
       "nombre_lots                      -0.012805  -0.021829  0.008831  0.183914   \n",
       "surface_reelle_bati               0.163080  -0.150019  0.002744  0.566831   \n",
       "nombre_pieces_principales         0.134124  -0.159574  0.005014  0.710253   \n",
       "surface_terrain                   0.600524  -0.014434  0.005412  0.242463   \n",
       "valeur_fonciere                   1.000000  -0.053305  0.006337  0.307607   \n",
       "longitude                        -0.053305   1.000000  0.088237 -0.235564   \n",
       "latitude                          0.006337   0.088237  1.000000 -0.020325   \n",
       "log_val                           0.307607  -0.235564 -0.020325  1.000000   \n",
       "log_class                         0.154459  -0.216041 -0.029848  0.896532   \n",
       "\n",
       "                           log_class  \n",
       "code_postal                -0.136870  \n",
       "nombre_lots                 0.204340  \n",
       "surface_reelle_bati         0.495961  \n",
       "nombre_pieces_principales   0.686606  \n",
       "surface_terrain             0.082434  \n",
       "valeur_fonciere             0.154459  \n",
       "longitude                  -0.216041  \n",
       "latitude                   -0.029848  \n",
       "log_val                     0.896532  \n",
       "log_class                   1.000000  "
      ]
     },
     "execution_count": 72,
     "metadata": {},
     "output_type": "execute_result"
    }
   ],
   "source": [
    "lkm.corr()"
   ]
  }
 ],
 "metadata": {
  "kernelspec": {
   "display_name": "Python 3 (ipykernel)",
   "language": "python",
   "name": "python3"
  },
  "language_info": {
   "codemirror_mode": {
    "name": "ipython",
    "version": 3
   },
   "file_extension": ".py",
   "mimetype": "text/x-python",
   "name": "python",
   "nbconvert_exporter": "python",
   "pygments_lexer": "ipython3",
   "version": "3.10.11"
  }
 },
 "nbformat": 4,
 "nbformat_minor": 5
}
